{
  "nbformat": 4,
  "nbformat_minor": 0,
  "metadata": {
    "colab": {
      "provenance": [],
      "gpuType": "T4"
    },
    "kernelspec": {
      "name": "python3",
      "display_name": "Python 3"
    },
    "language_info": {
      "name": "python"
    },
    "accelerator": "GPU",
    "widgets": {
      "application/vnd.jupyter.widget-state+json": {
        "e4e76074f77a4efda8cb76e82532cd6a": {
          "model_module": "@jupyter-widgets/controls",
          "model_name": "HBoxModel",
          "model_module_version": "1.5.0",
          "state": {
            "_dom_classes": [],
            "_model_module": "@jupyter-widgets/controls",
            "_model_module_version": "1.5.0",
            "_model_name": "HBoxModel",
            "_view_count": null,
            "_view_module": "@jupyter-widgets/controls",
            "_view_module_version": "1.5.0",
            "_view_name": "HBoxView",
            "box_style": "",
            "children": [
              "IPY_MODEL_fdd02b0818654326a6fc1c553f9ecb89",
              "IPY_MODEL_7ef34bf044bf4e18879bf952f23581bf",
              "IPY_MODEL_0d8ae9a3abb14dbd99d8a9877bce1d01"
            ],
            "layout": "IPY_MODEL_a9edb831395242a595f64fb2baa8bb0d"
          }
        },
        "fdd02b0818654326a6fc1c553f9ecb89": {
          "model_module": "@jupyter-widgets/controls",
          "model_name": "HTMLModel",
          "model_module_version": "1.5.0",
          "state": {
            "_dom_classes": [],
            "_model_module": "@jupyter-widgets/controls",
            "_model_module_version": "1.5.0",
            "_model_name": "HTMLModel",
            "_view_count": null,
            "_view_module": "@jupyter-widgets/controls",
            "_view_module_version": "1.5.0",
            "_view_name": "HTMLView",
            "description": "",
            "description_tooltip": null,
            "layout": "IPY_MODEL_1b8c7431fd8148cea30043a564c84af8",
            "placeholder": "​",
            "style": "IPY_MODEL_5be81165614941dfa79b07b0dc8f7357",
            "value": "tokenizer_config.json: 100%"
          }
        },
        "7ef34bf044bf4e18879bf952f23581bf": {
          "model_module": "@jupyter-widgets/controls",
          "model_name": "FloatProgressModel",
          "model_module_version": "1.5.0",
          "state": {
            "_dom_classes": [],
            "_model_module": "@jupyter-widgets/controls",
            "_model_module_version": "1.5.0",
            "_model_name": "FloatProgressModel",
            "_view_count": null,
            "_view_module": "@jupyter-widgets/controls",
            "_view_module_version": "1.5.0",
            "_view_name": "ProgressView",
            "bar_style": "success",
            "description": "",
            "description_tooltip": null,
            "layout": "IPY_MODEL_3d4e8ab4403f4c4eb64a9e673a0e40ac",
            "max": 920,
            "min": 0,
            "orientation": "horizontal",
            "style": "IPY_MODEL_387e789375754236be9d25c74c8d207a",
            "value": 920
          }
        },
        "0d8ae9a3abb14dbd99d8a9877bce1d01": {
          "model_module": "@jupyter-widgets/controls",
          "model_name": "HTMLModel",
          "model_module_version": "1.5.0",
          "state": {
            "_dom_classes": [],
            "_model_module": "@jupyter-widgets/controls",
            "_model_module_version": "1.5.0",
            "_model_name": "HTMLModel",
            "_view_count": null,
            "_view_module": "@jupyter-widgets/controls",
            "_view_module_version": "1.5.0",
            "_view_name": "HTMLView",
            "description": "",
            "description_tooltip": null,
            "layout": "IPY_MODEL_2005b1f36cd44dd29e7acd0ec40af07b",
            "placeholder": "​",
            "style": "IPY_MODEL_8459b79bb7e24e1091ae688026e2bc4f",
            "value": " 920/920 [00:00&lt;00:00, 53.0kB/s]"
          }
        },
        "a9edb831395242a595f64fb2baa8bb0d": {
          "model_module": "@jupyter-widgets/base",
          "model_name": "LayoutModel",
          "model_module_version": "1.2.0",
          "state": {
            "_model_module": "@jupyter-widgets/base",
            "_model_module_version": "1.2.0",
            "_model_name": "LayoutModel",
            "_view_count": null,
            "_view_module": "@jupyter-widgets/base",
            "_view_module_version": "1.2.0",
            "_view_name": "LayoutView",
            "align_content": null,
            "align_items": null,
            "align_self": null,
            "border": null,
            "bottom": null,
            "display": null,
            "flex": null,
            "flex_flow": null,
            "grid_area": null,
            "grid_auto_columns": null,
            "grid_auto_flow": null,
            "grid_auto_rows": null,
            "grid_column": null,
            "grid_gap": null,
            "grid_row": null,
            "grid_template_areas": null,
            "grid_template_columns": null,
            "grid_template_rows": null,
            "height": null,
            "justify_content": null,
            "justify_items": null,
            "left": null,
            "margin": null,
            "max_height": null,
            "max_width": null,
            "min_height": null,
            "min_width": null,
            "object_fit": null,
            "object_position": null,
            "order": null,
            "overflow": null,
            "overflow_x": null,
            "overflow_y": null,
            "padding": null,
            "right": null,
            "top": null,
            "visibility": null,
            "width": null
          }
        },
        "1b8c7431fd8148cea30043a564c84af8": {
          "model_module": "@jupyter-widgets/base",
          "model_name": "LayoutModel",
          "model_module_version": "1.2.0",
          "state": {
            "_model_module": "@jupyter-widgets/base",
            "_model_module_version": "1.2.0",
            "_model_name": "LayoutModel",
            "_view_count": null,
            "_view_module": "@jupyter-widgets/base",
            "_view_module_version": "1.2.0",
            "_view_name": "LayoutView",
            "align_content": null,
            "align_items": null,
            "align_self": null,
            "border": null,
            "bottom": null,
            "display": null,
            "flex": null,
            "flex_flow": null,
            "grid_area": null,
            "grid_auto_columns": null,
            "grid_auto_flow": null,
            "grid_auto_rows": null,
            "grid_column": null,
            "grid_gap": null,
            "grid_row": null,
            "grid_template_areas": null,
            "grid_template_columns": null,
            "grid_template_rows": null,
            "height": null,
            "justify_content": null,
            "justify_items": null,
            "left": null,
            "margin": null,
            "max_height": null,
            "max_width": null,
            "min_height": null,
            "min_width": null,
            "object_fit": null,
            "object_position": null,
            "order": null,
            "overflow": null,
            "overflow_x": null,
            "overflow_y": null,
            "padding": null,
            "right": null,
            "top": null,
            "visibility": null,
            "width": null
          }
        },
        "5be81165614941dfa79b07b0dc8f7357": {
          "model_module": "@jupyter-widgets/controls",
          "model_name": "DescriptionStyleModel",
          "model_module_version": "1.5.0",
          "state": {
            "_model_module": "@jupyter-widgets/controls",
            "_model_module_version": "1.5.0",
            "_model_name": "DescriptionStyleModel",
            "_view_count": null,
            "_view_module": "@jupyter-widgets/base",
            "_view_module_version": "1.2.0",
            "_view_name": "StyleView",
            "description_width": ""
          }
        },
        "3d4e8ab4403f4c4eb64a9e673a0e40ac": {
          "model_module": "@jupyter-widgets/base",
          "model_name": "LayoutModel",
          "model_module_version": "1.2.0",
          "state": {
            "_model_module": "@jupyter-widgets/base",
            "_model_module_version": "1.2.0",
            "_model_name": "LayoutModel",
            "_view_count": null,
            "_view_module": "@jupyter-widgets/base",
            "_view_module_version": "1.2.0",
            "_view_name": "LayoutView",
            "align_content": null,
            "align_items": null,
            "align_self": null,
            "border": null,
            "bottom": null,
            "display": null,
            "flex": null,
            "flex_flow": null,
            "grid_area": null,
            "grid_auto_columns": null,
            "grid_auto_flow": null,
            "grid_auto_rows": null,
            "grid_column": null,
            "grid_gap": null,
            "grid_row": null,
            "grid_template_areas": null,
            "grid_template_columns": null,
            "grid_template_rows": null,
            "height": null,
            "justify_content": null,
            "justify_items": null,
            "left": null,
            "margin": null,
            "max_height": null,
            "max_width": null,
            "min_height": null,
            "min_width": null,
            "object_fit": null,
            "object_position": null,
            "order": null,
            "overflow": null,
            "overflow_x": null,
            "overflow_y": null,
            "padding": null,
            "right": null,
            "top": null,
            "visibility": null,
            "width": null
          }
        },
        "387e789375754236be9d25c74c8d207a": {
          "model_module": "@jupyter-widgets/controls",
          "model_name": "ProgressStyleModel",
          "model_module_version": "1.5.0",
          "state": {
            "_model_module": "@jupyter-widgets/controls",
            "_model_module_version": "1.5.0",
            "_model_name": "ProgressStyleModel",
            "_view_count": null,
            "_view_module": "@jupyter-widgets/base",
            "_view_module_version": "1.2.0",
            "_view_name": "StyleView",
            "bar_color": null,
            "description_width": ""
          }
        },
        "2005b1f36cd44dd29e7acd0ec40af07b": {
          "model_module": "@jupyter-widgets/base",
          "model_name": "LayoutModel",
          "model_module_version": "1.2.0",
          "state": {
            "_model_module": "@jupyter-widgets/base",
            "_model_module_version": "1.2.0",
            "_model_name": "LayoutModel",
            "_view_count": null,
            "_view_module": "@jupyter-widgets/base",
            "_view_module_version": "1.2.0",
            "_view_name": "LayoutView",
            "align_content": null,
            "align_items": null,
            "align_self": null,
            "border": null,
            "bottom": null,
            "display": null,
            "flex": null,
            "flex_flow": null,
            "grid_area": null,
            "grid_auto_columns": null,
            "grid_auto_flow": null,
            "grid_auto_rows": null,
            "grid_column": null,
            "grid_gap": null,
            "grid_row": null,
            "grid_template_areas": null,
            "grid_template_columns": null,
            "grid_template_rows": null,
            "height": null,
            "justify_content": null,
            "justify_items": null,
            "left": null,
            "margin": null,
            "max_height": null,
            "max_width": null,
            "min_height": null,
            "min_width": null,
            "object_fit": null,
            "object_position": null,
            "order": null,
            "overflow": null,
            "overflow_x": null,
            "overflow_y": null,
            "padding": null,
            "right": null,
            "top": null,
            "visibility": null,
            "width": null
          }
        },
        "8459b79bb7e24e1091ae688026e2bc4f": {
          "model_module": "@jupyter-widgets/controls",
          "model_name": "DescriptionStyleModel",
          "model_module_version": "1.5.0",
          "state": {
            "_model_module": "@jupyter-widgets/controls",
            "_model_module_version": "1.5.0",
            "_model_name": "DescriptionStyleModel",
            "_view_count": null,
            "_view_module": "@jupyter-widgets/base",
            "_view_module_version": "1.2.0",
            "_view_name": "StyleView",
            "description_width": ""
          }
        },
        "8f108886dce743a2abe741ed6fcd776a": {
          "model_module": "@jupyter-widgets/controls",
          "model_name": "HBoxModel",
          "model_module_version": "1.5.0",
          "state": {
            "_dom_classes": [],
            "_model_module": "@jupyter-widgets/controls",
            "_model_module_version": "1.5.0",
            "_model_name": "HBoxModel",
            "_view_count": null,
            "_view_module": "@jupyter-widgets/controls",
            "_view_module_version": "1.5.0",
            "_view_name": "HBoxView",
            "box_style": "",
            "children": [
              "IPY_MODEL_869bcf8c731e4cf4a8c1c74f03ca275e",
              "IPY_MODEL_43052b8074c54c688818cf4aa53d669b",
              "IPY_MODEL_702ee8821ba94eb6bceaa1e3570d920e"
            ],
            "layout": "IPY_MODEL_17c86ccf544d49e9856e669b377e1bff"
          }
        },
        "869bcf8c731e4cf4a8c1c74f03ca275e": {
          "model_module": "@jupyter-widgets/controls",
          "model_name": "HTMLModel",
          "model_module_version": "1.5.0",
          "state": {
            "_dom_classes": [],
            "_model_module": "@jupyter-widgets/controls",
            "_model_module_version": "1.5.0",
            "_model_name": "HTMLModel",
            "_view_count": null,
            "_view_module": "@jupyter-widgets/controls",
            "_view_module_version": "1.5.0",
            "_view_name": "HTMLView",
            "description": "",
            "description_tooltip": null,
            "layout": "IPY_MODEL_a82d1060fd6a4da8a541fe76103cf728",
            "placeholder": "​",
            "style": "IPY_MODEL_8d270fbcb4554cc0a28994f82a447fd8",
            "value": "tokenizer.json: 100%"
          }
        },
        "43052b8074c54c688818cf4aa53d669b": {
          "model_module": "@jupyter-widgets/controls",
          "model_name": "FloatProgressModel",
          "model_module_version": "1.5.0",
          "state": {
            "_dom_classes": [],
            "_model_module": "@jupyter-widgets/controls",
            "_model_module_version": "1.5.0",
            "_model_name": "FloatProgressModel",
            "_view_count": null,
            "_view_module": "@jupyter-widgets/controls",
            "_view_module_version": "1.5.0",
            "_view_name": "ProgressView",
            "bar_style": "success",
            "description": "",
            "description_tooltip": null,
            "layout": "IPY_MODEL_30b75cc412f34b43a236a5a06954e1b8",
            "max": 2438114,
            "min": 0,
            "orientation": "horizontal",
            "style": "IPY_MODEL_9b9c8d60435a4d0cac94f47eff11bccc",
            "value": 2438114
          }
        },
        "702ee8821ba94eb6bceaa1e3570d920e": {
          "model_module": "@jupyter-widgets/controls",
          "model_name": "HTMLModel",
          "model_module_version": "1.5.0",
          "state": {
            "_dom_classes": [],
            "_model_module": "@jupyter-widgets/controls",
            "_model_module_version": "1.5.0",
            "_model_name": "HTMLModel",
            "_view_count": null,
            "_view_module": "@jupyter-widgets/controls",
            "_view_module_version": "1.5.0",
            "_view_name": "HTMLView",
            "description": "",
            "description_tooltip": null,
            "layout": "IPY_MODEL_e8fd8f5c357f4d458bcdb31633842646",
            "placeholder": "​",
            "style": "IPY_MODEL_be3a769a85d54fa2bda3351ed3402b0e",
            "value": " 2.44M/2.44M [00:02&lt;00:00, 817kB/s]"
          }
        },
        "17c86ccf544d49e9856e669b377e1bff": {
          "model_module": "@jupyter-widgets/base",
          "model_name": "LayoutModel",
          "model_module_version": "1.2.0",
          "state": {
            "_model_module": "@jupyter-widgets/base",
            "_model_module_version": "1.2.0",
            "_model_name": "LayoutModel",
            "_view_count": null,
            "_view_module": "@jupyter-widgets/base",
            "_view_module_version": "1.2.0",
            "_view_name": "LayoutView",
            "align_content": null,
            "align_items": null,
            "align_self": null,
            "border": null,
            "bottom": null,
            "display": null,
            "flex": null,
            "flex_flow": null,
            "grid_area": null,
            "grid_auto_columns": null,
            "grid_auto_flow": null,
            "grid_auto_rows": null,
            "grid_column": null,
            "grid_gap": null,
            "grid_row": null,
            "grid_template_areas": null,
            "grid_template_columns": null,
            "grid_template_rows": null,
            "height": null,
            "justify_content": null,
            "justify_items": null,
            "left": null,
            "margin": null,
            "max_height": null,
            "max_width": null,
            "min_height": null,
            "min_width": null,
            "object_fit": null,
            "object_position": null,
            "order": null,
            "overflow": null,
            "overflow_x": null,
            "overflow_y": null,
            "padding": null,
            "right": null,
            "top": null,
            "visibility": null,
            "width": null
          }
        },
        "a82d1060fd6a4da8a541fe76103cf728": {
          "model_module": "@jupyter-widgets/base",
          "model_name": "LayoutModel",
          "model_module_version": "1.2.0",
          "state": {
            "_model_module": "@jupyter-widgets/base",
            "_model_module_version": "1.2.0",
            "_model_name": "LayoutModel",
            "_view_count": null,
            "_view_module": "@jupyter-widgets/base",
            "_view_module_version": "1.2.0",
            "_view_name": "LayoutView",
            "align_content": null,
            "align_items": null,
            "align_self": null,
            "border": null,
            "bottom": null,
            "display": null,
            "flex": null,
            "flex_flow": null,
            "grid_area": null,
            "grid_auto_columns": null,
            "grid_auto_flow": null,
            "grid_auto_rows": null,
            "grid_column": null,
            "grid_gap": null,
            "grid_row": null,
            "grid_template_areas": null,
            "grid_template_columns": null,
            "grid_template_rows": null,
            "height": null,
            "justify_content": null,
            "justify_items": null,
            "left": null,
            "margin": null,
            "max_height": null,
            "max_width": null,
            "min_height": null,
            "min_width": null,
            "object_fit": null,
            "object_position": null,
            "order": null,
            "overflow": null,
            "overflow_x": null,
            "overflow_y": null,
            "padding": null,
            "right": null,
            "top": null,
            "visibility": null,
            "width": null
          }
        },
        "8d270fbcb4554cc0a28994f82a447fd8": {
          "model_module": "@jupyter-widgets/controls",
          "model_name": "DescriptionStyleModel",
          "model_module_version": "1.5.0",
          "state": {
            "_model_module": "@jupyter-widgets/controls",
            "_model_module_version": "1.5.0",
            "_model_name": "DescriptionStyleModel",
            "_view_count": null,
            "_view_module": "@jupyter-widgets/base",
            "_view_module_version": "1.2.0",
            "_view_name": "StyleView",
            "description_width": ""
          }
        },
        "30b75cc412f34b43a236a5a06954e1b8": {
          "model_module": "@jupyter-widgets/base",
          "model_name": "LayoutModel",
          "model_module_version": "1.2.0",
          "state": {
            "_model_module": "@jupyter-widgets/base",
            "_model_module_version": "1.2.0",
            "_model_name": "LayoutModel",
            "_view_count": null,
            "_view_module": "@jupyter-widgets/base",
            "_view_module_version": "1.2.0",
            "_view_name": "LayoutView",
            "align_content": null,
            "align_items": null,
            "align_self": null,
            "border": null,
            "bottom": null,
            "display": null,
            "flex": null,
            "flex_flow": null,
            "grid_area": null,
            "grid_auto_columns": null,
            "grid_auto_flow": null,
            "grid_auto_rows": null,
            "grid_column": null,
            "grid_gap": null,
            "grid_row": null,
            "grid_template_areas": null,
            "grid_template_columns": null,
            "grid_template_rows": null,
            "height": null,
            "justify_content": null,
            "justify_items": null,
            "left": null,
            "margin": null,
            "max_height": null,
            "max_width": null,
            "min_height": null,
            "min_width": null,
            "object_fit": null,
            "object_position": null,
            "order": null,
            "overflow": null,
            "overflow_x": null,
            "overflow_y": null,
            "padding": null,
            "right": null,
            "top": null,
            "visibility": null,
            "width": null
          }
        },
        "9b9c8d60435a4d0cac94f47eff11bccc": {
          "model_module": "@jupyter-widgets/controls",
          "model_name": "ProgressStyleModel",
          "model_module_version": "1.5.0",
          "state": {
            "_model_module": "@jupyter-widgets/controls",
            "_model_module_version": "1.5.0",
            "_model_name": "ProgressStyleModel",
            "_view_count": null,
            "_view_module": "@jupyter-widgets/base",
            "_view_module_version": "1.2.0",
            "_view_name": "StyleView",
            "bar_color": null,
            "description_width": ""
          }
        },
        "e8fd8f5c357f4d458bcdb31633842646": {
          "model_module": "@jupyter-widgets/base",
          "model_name": "LayoutModel",
          "model_module_version": "1.2.0",
          "state": {
            "_model_module": "@jupyter-widgets/base",
            "_model_module_version": "1.2.0",
            "_model_name": "LayoutModel",
            "_view_count": null,
            "_view_module": "@jupyter-widgets/base",
            "_view_module_version": "1.2.0",
            "_view_name": "LayoutView",
            "align_content": null,
            "align_items": null,
            "align_self": null,
            "border": null,
            "bottom": null,
            "display": null,
            "flex": null,
            "flex_flow": null,
            "grid_area": null,
            "grid_auto_columns": null,
            "grid_auto_flow": null,
            "grid_auto_rows": null,
            "grid_column": null,
            "grid_gap": null,
            "grid_row": null,
            "grid_template_areas": null,
            "grid_template_columns": null,
            "grid_template_rows": null,
            "height": null,
            "justify_content": null,
            "justify_items": null,
            "left": null,
            "margin": null,
            "max_height": null,
            "max_width": null,
            "min_height": null,
            "min_width": null,
            "object_fit": null,
            "object_position": null,
            "order": null,
            "overflow": null,
            "overflow_x": null,
            "overflow_y": null,
            "padding": null,
            "right": null,
            "top": null,
            "visibility": null,
            "width": null
          }
        },
        "be3a769a85d54fa2bda3351ed3402b0e": {
          "model_module": "@jupyter-widgets/controls",
          "model_name": "DescriptionStyleModel",
          "model_module_version": "1.5.0",
          "state": {
            "_model_module": "@jupyter-widgets/controls",
            "_model_module_version": "1.5.0",
            "_model_name": "DescriptionStyleModel",
            "_view_count": null,
            "_view_module": "@jupyter-widgets/base",
            "_view_module_version": "1.2.0",
            "_view_name": "StyleView",
            "description_width": ""
          }
        },
        "256a2d88735345b593d196de35a9372f": {
          "model_module": "@jupyter-widgets/controls",
          "model_name": "HBoxModel",
          "model_module_version": "1.5.0",
          "state": {
            "_dom_classes": [],
            "_model_module": "@jupyter-widgets/controls",
            "_model_module_version": "1.5.0",
            "_model_name": "HBoxModel",
            "_view_count": null,
            "_view_module": "@jupyter-widgets/controls",
            "_view_module_version": "1.5.0",
            "_view_name": "HBoxView",
            "box_style": "",
            "children": [
              "IPY_MODEL_a5e430bd900c45ef93d8da907bca0328",
              "IPY_MODEL_bd2dfa3b1de34924a5979edee2e89542",
              "IPY_MODEL_4019c86710d6491bb1d810ba4bd5e32d"
            ],
            "layout": "IPY_MODEL_57462e7d7b7647a4a3e533e8ce0acf40"
          }
        },
        "a5e430bd900c45ef93d8da907bca0328": {
          "model_module": "@jupyter-widgets/controls",
          "model_name": "HTMLModel",
          "model_module_version": "1.5.0",
          "state": {
            "_dom_classes": [],
            "_model_module": "@jupyter-widgets/controls",
            "_model_module_version": "1.5.0",
            "_model_name": "HTMLModel",
            "_view_count": null,
            "_view_module": "@jupyter-widgets/controls",
            "_view_module_version": "1.5.0",
            "_view_name": "HTMLView",
            "description": "",
            "description_tooltip": null,
            "layout": "IPY_MODEL_0a57870f9797423791cde380753bc63c",
            "placeholder": "​",
            "style": "IPY_MODEL_a95ec34d44ca4aa789c9afd5c8666f45",
            "value": "special_tokens_map.json: 100%"
          }
        },
        "bd2dfa3b1de34924a5979edee2e89542": {
          "model_module": "@jupyter-widgets/controls",
          "model_name": "FloatProgressModel",
          "model_module_version": "1.5.0",
          "state": {
            "_dom_classes": [],
            "_model_module": "@jupyter-widgets/controls",
            "_model_module_version": "1.5.0",
            "_model_name": "FloatProgressModel",
            "_view_count": null,
            "_view_module": "@jupyter-widgets/controls",
            "_view_module_version": "1.5.0",
            "_view_name": "ProgressView",
            "bar_style": "success",
            "description": "",
            "description_tooltip": null,
            "layout": "IPY_MODEL_474c7a6fcefd493e8f44f1ebe129785b",
            "max": 437,
            "min": 0,
            "orientation": "horizontal",
            "style": "IPY_MODEL_63a2f00757244fe8ad878c7d0aa911b6",
            "value": 437
          }
        },
        "4019c86710d6491bb1d810ba4bd5e32d": {
          "model_module": "@jupyter-widgets/controls",
          "model_name": "HTMLModel",
          "model_module_version": "1.5.0",
          "state": {
            "_dom_classes": [],
            "_model_module": "@jupyter-widgets/controls",
            "_model_module_version": "1.5.0",
            "_model_name": "HTMLModel",
            "_view_count": null,
            "_view_module": "@jupyter-widgets/controls",
            "_view_module_version": "1.5.0",
            "_view_name": "HTMLView",
            "description": "",
            "description_tooltip": null,
            "layout": "IPY_MODEL_99927cb0a09a4c199e228c7d6a44559f",
            "placeholder": "​",
            "style": "IPY_MODEL_bb11737eebd6413991da759931f5df38",
            "value": " 437/437 [00:00&lt;00:00, 17.6kB/s]"
          }
        },
        "57462e7d7b7647a4a3e533e8ce0acf40": {
          "model_module": "@jupyter-widgets/base",
          "model_name": "LayoutModel",
          "model_module_version": "1.2.0",
          "state": {
            "_model_module": "@jupyter-widgets/base",
            "_model_module_version": "1.2.0",
            "_model_name": "LayoutModel",
            "_view_count": null,
            "_view_module": "@jupyter-widgets/base",
            "_view_module_version": "1.2.0",
            "_view_name": "LayoutView",
            "align_content": null,
            "align_items": null,
            "align_self": null,
            "border": null,
            "bottom": null,
            "display": null,
            "flex": null,
            "flex_flow": null,
            "grid_area": null,
            "grid_auto_columns": null,
            "grid_auto_flow": null,
            "grid_auto_rows": null,
            "grid_column": null,
            "grid_gap": null,
            "grid_row": null,
            "grid_template_areas": null,
            "grid_template_columns": null,
            "grid_template_rows": null,
            "height": null,
            "justify_content": null,
            "justify_items": null,
            "left": null,
            "margin": null,
            "max_height": null,
            "max_width": null,
            "min_height": null,
            "min_width": null,
            "object_fit": null,
            "object_position": null,
            "order": null,
            "overflow": null,
            "overflow_x": null,
            "overflow_y": null,
            "padding": null,
            "right": null,
            "top": null,
            "visibility": null,
            "width": null
          }
        },
        "0a57870f9797423791cde380753bc63c": {
          "model_module": "@jupyter-widgets/base",
          "model_name": "LayoutModel",
          "model_module_version": "1.2.0",
          "state": {
            "_model_module": "@jupyter-widgets/base",
            "_model_module_version": "1.2.0",
            "_model_name": "LayoutModel",
            "_view_count": null,
            "_view_module": "@jupyter-widgets/base",
            "_view_module_version": "1.2.0",
            "_view_name": "LayoutView",
            "align_content": null,
            "align_items": null,
            "align_self": null,
            "border": null,
            "bottom": null,
            "display": null,
            "flex": null,
            "flex_flow": null,
            "grid_area": null,
            "grid_auto_columns": null,
            "grid_auto_flow": null,
            "grid_auto_rows": null,
            "grid_column": null,
            "grid_gap": null,
            "grid_row": null,
            "grid_template_areas": null,
            "grid_template_columns": null,
            "grid_template_rows": null,
            "height": null,
            "justify_content": null,
            "justify_items": null,
            "left": null,
            "margin": null,
            "max_height": null,
            "max_width": null,
            "min_height": null,
            "min_width": null,
            "object_fit": null,
            "object_position": null,
            "order": null,
            "overflow": null,
            "overflow_x": null,
            "overflow_y": null,
            "padding": null,
            "right": null,
            "top": null,
            "visibility": null,
            "width": null
          }
        },
        "a95ec34d44ca4aa789c9afd5c8666f45": {
          "model_module": "@jupyter-widgets/controls",
          "model_name": "DescriptionStyleModel",
          "model_module_version": "1.5.0",
          "state": {
            "_model_module": "@jupyter-widgets/controls",
            "_model_module_version": "1.5.0",
            "_model_name": "DescriptionStyleModel",
            "_view_count": null,
            "_view_module": "@jupyter-widgets/base",
            "_view_module_version": "1.2.0",
            "_view_name": "StyleView",
            "description_width": ""
          }
        },
        "474c7a6fcefd493e8f44f1ebe129785b": {
          "model_module": "@jupyter-widgets/base",
          "model_name": "LayoutModel",
          "model_module_version": "1.2.0",
          "state": {
            "_model_module": "@jupyter-widgets/base",
            "_model_module_version": "1.2.0",
            "_model_name": "LayoutModel",
            "_view_count": null,
            "_view_module": "@jupyter-widgets/base",
            "_view_module_version": "1.2.0",
            "_view_name": "LayoutView",
            "align_content": null,
            "align_items": null,
            "align_self": null,
            "border": null,
            "bottom": null,
            "display": null,
            "flex": null,
            "flex_flow": null,
            "grid_area": null,
            "grid_auto_columns": null,
            "grid_auto_flow": null,
            "grid_auto_rows": null,
            "grid_column": null,
            "grid_gap": null,
            "grid_row": null,
            "grid_template_areas": null,
            "grid_template_columns": null,
            "grid_template_rows": null,
            "height": null,
            "justify_content": null,
            "justify_items": null,
            "left": null,
            "margin": null,
            "max_height": null,
            "max_width": null,
            "min_height": null,
            "min_width": null,
            "object_fit": null,
            "object_position": null,
            "order": null,
            "overflow": null,
            "overflow_x": null,
            "overflow_y": null,
            "padding": null,
            "right": null,
            "top": null,
            "visibility": null,
            "width": null
          }
        },
        "63a2f00757244fe8ad878c7d0aa911b6": {
          "model_module": "@jupyter-widgets/controls",
          "model_name": "ProgressStyleModel",
          "model_module_version": "1.5.0",
          "state": {
            "_model_module": "@jupyter-widgets/controls",
            "_model_module_version": "1.5.0",
            "_model_name": "ProgressStyleModel",
            "_view_count": null,
            "_view_module": "@jupyter-widgets/base",
            "_view_module_version": "1.2.0",
            "_view_name": "StyleView",
            "bar_color": null,
            "description_width": ""
          }
        },
        "99927cb0a09a4c199e228c7d6a44559f": {
          "model_module": "@jupyter-widgets/base",
          "model_name": "LayoutModel",
          "model_module_version": "1.2.0",
          "state": {
            "_model_module": "@jupyter-widgets/base",
            "_model_module_version": "1.2.0",
            "_model_name": "LayoutModel",
            "_view_count": null,
            "_view_module": "@jupyter-widgets/base",
            "_view_module_version": "1.2.0",
            "_view_name": "LayoutView",
            "align_content": null,
            "align_items": null,
            "align_self": null,
            "border": null,
            "bottom": null,
            "display": null,
            "flex": null,
            "flex_flow": null,
            "grid_area": null,
            "grid_auto_columns": null,
            "grid_auto_flow": null,
            "grid_auto_rows": null,
            "grid_column": null,
            "grid_gap": null,
            "grid_row": null,
            "grid_template_areas": null,
            "grid_template_columns": null,
            "grid_template_rows": null,
            "height": null,
            "justify_content": null,
            "justify_items": null,
            "left": null,
            "margin": null,
            "max_height": null,
            "max_width": null,
            "min_height": null,
            "min_width": null,
            "object_fit": null,
            "object_position": null,
            "order": null,
            "overflow": null,
            "overflow_x": null,
            "overflow_y": null,
            "padding": null,
            "right": null,
            "top": null,
            "visibility": null,
            "width": null
          }
        },
        "bb11737eebd6413991da759931f5df38": {
          "model_module": "@jupyter-widgets/controls",
          "model_name": "DescriptionStyleModel",
          "model_module_version": "1.5.0",
          "state": {
            "_model_module": "@jupyter-widgets/controls",
            "_model_module_version": "1.5.0",
            "_model_name": "DescriptionStyleModel",
            "_view_count": null,
            "_view_module": "@jupyter-widgets/base",
            "_view_module_version": "1.2.0",
            "_view_name": "StyleView",
            "description_width": ""
          }
        },
        "fb239811c1844aab89b6b81433ac323a": {
          "model_module": "@jupyter-widgets/controls",
          "model_name": "HBoxModel",
          "model_module_version": "1.5.0",
          "state": {
            "_dom_classes": [],
            "_model_module": "@jupyter-widgets/controls",
            "_model_module_version": "1.5.0",
            "_model_name": "HBoxModel",
            "_view_count": null,
            "_view_module": "@jupyter-widgets/controls",
            "_view_module_version": "1.5.0",
            "_view_name": "HBoxView",
            "box_style": "",
            "children": [
              "IPY_MODEL_7530cbc1b47945d3ae95709e4f6cc658",
              "IPY_MODEL_5a0ed99227554928b0a74fcb4804b757",
              "IPY_MODEL_972b32fc973d44feab7a3b89a16024f3"
            ],
            "layout": "IPY_MODEL_d3111ee96d4e475c98f7196355e21821"
          }
        },
        "7530cbc1b47945d3ae95709e4f6cc658": {
          "model_module": "@jupyter-widgets/controls",
          "model_name": "HTMLModel",
          "model_module_version": "1.5.0",
          "state": {
            "_dom_classes": [],
            "_model_module": "@jupyter-widgets/controls",
            "_model_module_version": "1.5.0",
            "_model_name": "HTMLModel",
            "_view_count": null,
            "_view_module": "@jupyter-widgets/controls",
            "_view_module_version": "1.5.0",
            "_view_name": "HTMLView",
            "description": "",
            "description_tooltip": null,
            "layout": "IPY_MODEL_05bcdb87c4004935804dc16bada387d1",
            "placeholder": "​",
            "style": "IPY_MODEL_5b4f3fedeeac437fa3f3cb367d518a99",
            "value": "config.json: 100%"
          }
        },
        "5a0ed99227554928b0a74fcb4804b757": {
          "model_module": "@jupyter-widgets/controls",
          "model_name": "FloatProgressModel",
          "model_module_version": "1.5.0",
          "state": {
            "_dom_classes": [],
            "_model_module": "@jupyter-widgets/controls",
            "_model_module_version": "1.5.0",
            "_model_name": "FloatProgressModel",
            "_view_count": null,
            "_view_module": "@jupyter-widgets/controls",
            "_view_module_version": "1.5.0",
            "_view_name": "ProgressView",
            "bar_style": "success",
            "description": "",
            "description_tooltip": null,
            "layout": "IPY_MODEL_7f79f0987ae0451d83b830d60cbf56ae",
            "max": 702,
            "min": 0,
            "orientation": "horizontal",
            "style": "IPY_MODEL_fe6ea54a6f0045c2ba2e56eb16c3c5dc",
            "value": 702
          }
        },
        "972b32fc973d44feab7a3b89a16024f3": {
          "model_module": "@jupyter-widgets/controls",
          "model_name": "HTMLModel",
          "model_module_version": "1.5.0",
          "state": {
            "_dom_classes": [],
            "_model_module": "@jupyter-widgets/controls",
            "_model_module_version": "1.5.0",
            "_model_name": "HTMLModel",
            "_view_count": null,
            "_view_module": "@jupyter-widgets/controls",
            "_view_module_version": "1.5.0",
            "_view_name": "HTMLView",
            "description": "",
            "description_tooltip": null,
            "layout": "IPY_MODEL_fdadc1770d344f14977ee223fb84668e",
            "placeholder": "​",
            "style": "IPY_MODEL_bc909b247739423585ffac70076a768b",
            "value": " 702/702 [00:00&lt;00:00, 53.6kB/s]"
          }
        },
        "d3111ee96d4e475c98f7196355e21821": {
          "model_module": "@jupyter-widgets/base",
          "model_name": "LayoutModel",
          "model_module_version": "1.2.0",
          "state": {
            "_model_module": "@jupyter-widgets/base",
            "_model_module_version": "1.2.0",
            "_model_name": "LayoutModel",
            "_view_count": null,
            "_view_module": "@jupyter-widgets/base",
            "_view_module_version": "1.2.0",
            "_view_name": "LayoutView",
            "align_content": null,
            "align_items": null,
            "align_self": null,
            "border": null,
            "bottom": null,
            "display": null,
            "flex": null,
            "flex_flow": null,
            "grid_area": null,
            "grid_auto_columns": null,
            "grid_auto_flow": null,
            "grid_auto_rows": null,
            "grid_column": null,
            "grid_gap": null,
            "grid_row": null,
            "grid_template_areas": null,
            "grid_template_columns": null,
            "grid_template_rows": null,
            "height": null,
            "justify_content": null,
            "justify_items": null,
            "left": null,
            "margin": null,
            "max_height": null,
            "max_width": null,
            "min_height": null,
            "min_width": null,
            "object_fit": null,
            "object_position": null,
            "order": null,
            "overflow": null,
            "overflow_x": null,
            "overflow_y": null,
            "padding": null,
            "right": null,
            "top": null,
            "visibility": null,
            "width": null
          }
        },
        "05bcdb87c4004935804dc16bada387d1": {
          "model_module": "@jupyter-widgets/base",
          "model_name": "LayoutModel",
          "model_module_version": "1.2.0",
          "state": {
            "_model_module": "@jupyter-widgets/base",
            "_model_module_version": "1.2.0",
            "_model_name": "LayoutModel",
            "_view_count": null,
            "_view_module": "@jupyter-widgets/base",
            "_view_module_version": "1.2.0",
            "_view_name": "LayoutView",
            "align_content": null,
            "align_items": null,
            "align_self": null,
            "border": null,
            "bottom": null,
            "display": null,
            "flex": null,
            "flex_flow": null,
            "grid_area": null,
            "grid_auto_columns": null,
            "grid_auto_flow": null,
            "grid_auto_rows": null,
            "grid_column": null,
            "grid_gap": null,
            "grid_row": null,
            "grid_template_areas": null,
            "grid_template_columns": null,
            "grid_template_rows": null,
            "height": null,
            "justify_content": null,
            "justify_items": null,
            "left": null,
            "margin": null,
            "max_height": null,
            "max_width": null,
            "min_height": null,
            "min_width": null,
            "object_fit": null,
            "object_position": null,
            "order": null,
            "overflow": null,
            "overflow_x": null,
            "overflow_y": null,
            "padding": null,
            "right": null,
            "top": null,
            "visibility": null,
            "width": null
          }
        },
        "5b4f3fedeeac437fa3f3cb367d518a99": {
          "model_module": "@jupyter-widgets/controls",
          "model_name": "DescriptionStyleModel",
          "model_module_version": "1.5.0",
          "state": {
            "_model_module": "@jupyter-widgets/controls",
            "_model_module_version": "1.5.0",
            "_model_name": "DescriptionStyleModel",
            "_view_count": null,
            "_view_module": "@jupyter-widgets/base",
            "_view_module_version": "1.2.0",
            "_view_name": "StyleView",
            "description_width": ""
          }
        },
        "7f79f0987ae0451d83b830d60cbf56ae": {
          "model_module": "@jupyter-widgets/base",
          "model_name": "LayoutModel",
          "model_module_version": "1.2.0",
          "state": {
            "_model_module": "@jupyter-widgets/base",
            "_model_module_version": "1.2.0",
            "_model_name": "LayoutModel",
            "_view_count": null,
            "_view_module": "@jupyter-widgets/base",
            "_view_module_version": "1.2.0",
            "_view_name": "LayoutView",
            "align_content": null,
            "align_items": null,
            "align_self": null,
            "border": null,
            "bottom": null,
            "display": null,
            "flex": null,
            "flex_flow": null,
            "grid_area": null,
            "grid_auto_columns": null,
            "grid_auto_flow": null,
            "grid_auto_rows": null,
            "grid_column": null,
            "grid_gap": null,
            "grid_row": null,
            "grid_template_areas": null,
            "grid_template_columns": null,
            "grid_template_rows": null,
            "height": null,
            "justify_content": null,
            "justify_items": null,
            "left": null,
            "margin": null,
            "max_height": null,
            "max_width": null,
            "min_height": null,
            "min_width": null,
            "object_fit": null,
            "object_position": null,
            "order": null,
            "overflow": null,
            "overflow_x": null,
            "overflow_y": null,
            "padding": null,
            "right": null,
            "top": null,
            "visibility": null,
            "width": null
          }
        },
        "fe6ea54a6f0045c2ba2e56eb16c3c5dc": {
          "model_module": "@jupyter-widgets/controls",
          "model_name": "ProgressStyleModel",
          "model_module_version": "1.5.0",
          "state": {
            "_model_module": "@jupyter-widgets/controls",
            "_model_module_version": "1.5.0",
            "_model_name": "ProgressStyleModel",
            "_view_count": null,
            "_view_module": "@jupyter-widgets/base",
            "_view_module_version": "1.2.0",
            "_view_name": "StyleView",
            "bar_color": null,
            "description_width": ""
          }
        },
        "fdadc1770d344f14977ee223fb84668e": {
          "model_module": "@jupyter-widgets/base",
          "model_name": "LayoutModel",
          "model_module_version": "1.2.0",
          "state": {
            "_model_module": "@jupyter-widgets/base",
            "_model_module_version": "1.2.0",
            "_model_name": "LayoutModel",
            "_view_count": null,
            "_view_module": "@jupyter-widgets/base",
            "_view_module_version": "1.2.0",
            "_view_name": "LayoutView",
            "align_content": null,
            "align_items": null,
            "align_self": null,
            "border": null,
            "bottom": null,
            "display": null,
            "flex": null,
            "flex_flow": null,
            "grid_area": null,
            "grid_auto_columns": null,
            "grid_auto_flow": null,
            "grid_auto_rows": null,
            "grid_column": null,
            "grid_gap": null,
            "grid_row": null,
            "grid_template_areas": null,
            "grid_template_columns": null,
            "grid_template_rows": null,
            "height": null,
            "justify_content": null,
            "justify_items": null,
            "left": null,
            "margin": null,
            "max_height": null,
            "max_width": null,
            "min_height": null,
            "min_width": null,
            "object_fit": null,
            "object_position": null,
            "order": null,
            "overflow": null,
            "overflow_x": null,
            "overflow_y": null,
            "padding": null,
            "right": null,
            "top": null,
            "visibility": null,
            "width": null
          }
        },
        "bc909b247739423585ffac70076a768b": {
          "model_module": "@jupyter-widgets/controls",
          "model_name": "DescriptionStyleModel",
          "model_module_version": "1.5.0",
          "state": {
            "_model_module": "@jupyter-widgets/controls",
            "_model_module_version": "1.5.0",
            "_model_name": "DescriptionStyleModel",
            "_view_count": null,
            "_view_module": "@jupyter-widgets/base",
            "_view_module_version": "1.2.0",
            "_view_name": "StyleView",
            "description_width": ""
          }
        },
        "d288e1880dd04519a532e60855932dd6": {
          "model_module": "@jupyter-widgets/controls",
          "model_name": "HBoxModel",
          "model_module_version": "1.5.0",
          "state": {
            "_dom_classes": [],
            "_model_module": "@jupyter-widgets/controls",
            "_model_module_version": "1.5.0",
            "_model_name": "HBoxModel",
            "_view_count": null,
            "_view_module": "@jupyter-widgets/controls",
            "_view_module_version": "1.5.0",
            "_view_name": "HBoxView",
            "box_style": "",
            "children": [
              "IPY_MODEL_0242eca906394930a334e050a345d4f5",
              "IPY_MODEL_603fc1440ac84d6e9b02be68bb387ca3",
              "IPY_MODEL_bce44ea6699748ebad6f87c98250ae7d"
            ],
            "layout": "IPY_MODEL_238133f7de374cd6a1c69e1ee19efcbd"
          }
        },
        "0242eca906394930a334e050a345d4f5": {
          "model_module": "@jupyter-widgets/controls",
          "model_name": "HTMLModel",
          "model_module_version": "1.5.0",
          "state": {
            "_dom_classes": [],
            "_model_module": "@jupyter-widgets/controls",
            "_model_module_version": "1.5.0",
            "_model_name": "HTMLModel",
            "_view_count": null,
            "_view_module": "@jupyter-widgets/controls",
            "_view_module_version": "1.5.0",
            "_view_name": "HTMLView",
            "description": "",
            "description_tooltip": null,
            "layout": "IPY_MODEL_992e0dea350f4f2f87862e21ecd3aac7",
            "placeholder": "​",
            "style": "IPY_MODEL_55d3d4dea28a49b58d2848b640e09cb0",
            "value": "model.safetensors: 100%"
          }
        },
        "603fc1440ac84d6e9b02be68bb387ca3": {
          "model_module": "@jupyter-widgets/controls",
          "model_name": "FloatProgressModel",
          "model_module_version": "1.5.0",
          "state": {
            "_dom_classes": [],
            "_model_module": "@jupyter-widgets/controls",
            "_model_module_version": "1.5.0",
            "_model_name": "FloatProgressModel",
            "_view_count": null,
            "_view_module": "@jupyter-widgets/controls",
            "_view_module_version": "1.5.0",
            "_view_name": "ProgressView",
            "bar_style": "success",
            "description": "",
            "description_tooltip": null,
            "layout": "IPY_MODEL_f6bf0cbf91a74bc0bd008beddde456db",
            "max": 2297637448,
            "min": 0,
            "orientation": "horizontal",
            "style": "IPY_MODEL_ce9552401c95499f8a786a4d88d03131",
            "value": 2297637448
          }
        },
        "bce44ea6699748ebad6f87c98250ae7d": {
          "model_module": "@jupyter-widgets/controls",
          "model_name": "HTMLModel",
          "model_module_version": "1.5.0",
          "state": {
            "_dom_classes": [],
            "_model_module": "@jupyter-widgets/controls",
            "_model_module_version": "1.5.0",
            "_model_name": "HTMLModel",
            "_view_count": null,
            "_view_module": "@jupyter-widgets/controls",
            "_view_module_version": "1.5.0",
            "_view_name": "HTMLView",
            "description": "",
            "description_tooltip": null,
            "layout": "IPY_MODEL_9c01047b9ae948f9aa7693d17c5bcbd5",
            "placeholder": "​",
            "style": "IPY_MODEL_d453015e94584b618071ad2e42cef661",
            "value": " 2.30G/2.30G [01:41&lt;00:00, 22.6MB/s]"
          }
        },
        "238133f7de374cd6a1c69e1ee19efcbd": {
          "model_module": "@jupyter-widgets/base",
          "model_name": "LayoutModel",
          "model_module_version": "1.2.0",
          "state": {
            "_model_module": "@jupyter-widgets/base",
            "_model_module_version": "1.2.0",
            "_model_name": "LayoutModel",
            "_view_count": null,
            "_view_module": "@jupyter-widgets/base",
            "_view_module_version": "1.2.0",
            "_view_name": "LayoutView",
            "align_content": null,
            "align_items": null,
            "align_self": null,
            "border": null,
            "bottom": null,
            "display": null,
            "flex": null,
            "flex_flow": null,
            "grid_area": null,
            "grid_auto_columns": null,
            "grid_auto_flow": null,
            "grid_auto_rows": null,
            "grid_column": null,
            "grid_gap": null,
            "grid_row": null,
            "grid_template_areas": null,
            "grid_template_columns": null,
            "grid_template_rows": null,
            "height": null,
            "justify_content": null,
            "justify_items": null,
            "left": null,
            "margin": null,
            "max_height": null,
            "max_width": null,
            "min_height": null,
            "min_width": null,
            "object_fit": null,
            "object_position": null,
            "order": null,
            "overflow": null,
            "overflow_x": null,
            "overflow_y": null,
            "padding": null,
            "right": null,
            "top": null,
            "visibility": null,
            "width": null
          }
        },
        "992e0dea350f4f2f87862e21ecd3aac7": {
          "model_module": "@jupyter-widgets/base",
          "model_name": "LayoutModel",
          "model_module_version": "1.2.0",
          "state": {
            "_model_module": "@jupyter-widgets/base",
            "_model_module_version": "1.2.0",
            "_model_name": "LayoutModel",
            "_view_count": null,
            "_view_module": "@jupyter-widgets/base",
            "_view_module_version": "1.2.0",
            "_view_name": "LayoutView",
            "align_content": null,
            "align_items": null,
            "align_self": null,
            "border": null,
            "bottom": null,
            "display": null,
            "flex": null,
            "flex_flow": null,
            "grid_area": null,
            "grid_auto_columns": null,
            "grid_auto_flow": null,
            "grid_auto_rows": null,
            "grid_column": null,
            "grid_gap": null,
            "grid_row": null,
            "grid_template_areas": null,
            "grid_template_columns": null,
            "grid_template_rows": null,
            "height": null,
            "justify_content": null,
            "justify_items": null,
            "left": null,
            "margin": null,
            "max_height": null,
            "max_width": null,
            "min_height": null,
            "min_width": null,
            "object_fit": null,
            "object_position": null,
            "order": null,
            "overflow": null,
            "overflow_x": null,
            "overflow_y": null,
            "padding": null,
            "right": null,
            "top": null,
            "visibility": null,
            "width": null
          }
        },
        "55d3d4dea28a49b58d2848b640e09cb0": {
          "model_module": "@jupyter-widgets/controls",
          "model_name": "DescriptionStyleModel",
          "model_module_version": "1.5.0",
          "state": {
            "_model_module": "@jupyter-widgets/controls",
            "_model_module_version": "1.5.0",
            "_model_name": "DescriptionStyleModel",
            "_view_count": null,
            "_view_module": "@jupyter-widgets/base",
            "_view_module_version": "1.2.0",
            "_view_name": "StyleView",
            "description_width": ""
          }
        },
        "f6bf0cbf91a74bc0bd008beddde456db": {
          "model_module": "@jupyter-widgets/base",
          "model_name": "LayoutModel",
          "model_module_version": "1.2.0",
          "state": {
            "_model_module": "@jupyter-widgets/base",
            "_model_module_version": "1.2.0",
            "_model_name": "LayoutModel",
            "_view_count": null,
            "_view_module": "@jupyter-widgets/base",
            "_view_module_version": "1.2.0",
            "_view_name": "LayoutView",
            "align_content": null,
            "align_items": null,
            "align_self": null,
            "border": null,
            "bottom": null,
            "display": null,
            "flex": null,
            "flex_flow": null,
            "grid_area": null,
            "grid_auto_columns": null,
            "grid_auto_flow": null,
            "grid_auto_rows": null,
            "grid_column": null,
            "grid_gap": null,
            "grid_row": null,
            "grid_template_areas": null,
            "grid_template_columns": null,
            "grid_template_rows": null,
            "height": null,
            "justify_content": null,
            "justify_items": null,
            "left": null,
            "margin": null,
            "max_height": null,
            "max_width": null,
            "min_height": null,
            "min_width": null,
            "object_fit": null,
            "object_position": null,
            "order": null,
            "overflow": null,
            "overflow_x": null,
            "overflow_y": null,
            "padding": null,
            "right": null,
            "top": null,
            "visibility": null,
            "width": null
          }
        },
        "ce9552401c95499f8a786a4d88d03131": {
          "model_module": "@jupyter-widgets/controls",
          "model_name": "ProgressStyleModel",
          "model_module_version": "1.5.0",
          "state": {
            "_model_module": "@jupyter-widgets/controls",
            "_model_module_version": "1.5.0",
            "_model_name": "ProgressStyleModel",
            "_view_count": null,
            "_view_module": "@jupyter-widgets/base",
            "_view_module_version": "1.2.0",
            "_view_name": "StyleView",
            "bar_color": null,
            "description_width": ""
          }
        },
        "9c01047b9ae948f9aa7693d17c5bcbd5": {
          "model_module": "@jupyter-widgets/base",
          "model_name": "LayoutModel",
          "model_module_version": "1.2.0",
          "state": {
            "_model_module": "@jupyter-widgets/base",
            "_model_module_version": "1.2.0",
            "_model_name": "LayoutModel",
            "_view_count": null,
            "_view_module": "@jupyter-widgets/base",
            "_view_module_version": "1.2.0",
            "_view_name": "LayoutView",
            "align_content": null,
            "align_items": null,
            "align_self": null,
            "border": null,
            "bottom": null,
            "display": null,
            "flex": null,
            "flex_flow": null,
            "grid_area": null,
            "grid_auto_columns": null,
            "grid_auto_flow": null,
            "grid_auto_rows": null,
            "grid_column": null,
            "grid_gap": null,
            "grid_row": null,
            "grid_template_areas": null,
            "grid_template_columns": null,
            "grid_template_rows": null,
            "height": null,
            "justify_content": null,
            "justify_items": null,
            "left": null,
            "margin": null,
            "max_height": null,
            "max_width": null,
            "min_height": null,
            "min_width": null,
            "object_fit": null,
            "object_position": null,
            "order": null,
            "overflow": null,
            "overflow_x": null,
            "overflow_y": null,
            "padding": null,
            "right": null,
            "top": null,
            "visibility": null,
            "width": null
          }
        },
        "d453015e94584b618071ad2e42cef661": {
          "model_module": "@jupyter-widgets/controls",
          "model_name": "DescriptionStyleModel",
          "model_module_version": "1.5.0",
          "state": {
            "_model_module": "@jupyter-widgets/controls",
            "_model_module_version": "1.5.0",
            "_model_name": "DescriptionStyleModel",
            "_view_count": null,
            "_view_module": "@jupyter-widgets/base",
            "_view_module_version": "1.2.0",
            "_view_name": "StyleView",
            "description_width": ""
          }
        },
        "ba65d3968cbd40289e232cdcc06f536a": {
          "model_module": "@jupyter-widgets/controls",
          "model_name": "HBoxModel",
          "model_module_version": "1.5.0",
          "state": {
            "_dom_classes": [],
            "_model_module": "@jupyter-widgets/controls",
            "_model_module_version": "1.5.0",
            "_model_name": "HBoxModel",
            "_view_count": null,
            "_view_module": "@jupyter-widgets/controls",
            "_view_module_version": "1.5.0",
            "_view_name": "HBoxView",
            "box_style": "",
            "children": [
              "IPY_MODEL_c19cd2d406de499fbdabb6eb05cd7b83",
              "IPY_MODEL_89ee3f2a22cb45fa9e6f94b6795a2854",
              "IPY_MODEL_91bf1e6ecdb64d1c9cc6535badb15424"
            ],
            "layout": "IPY_MODEL_252522c7eda84311aa3f90d6ccbc7b9b"
          }
        },
        "c19cd2d406de499fbdabb6eb05cd7b83": {
          "model_module": "@jupyter-widgets/controls",
          "model_name": "HTMLModel",
          "model_module_version": "1.5.0",
          "state": {
            "_dom_classes": [],
            "_model_module": "@jupyter-widgets/controls",
            "_model_module_version": "1.5.0",
            "_model_name": "HTMLModel",
            "_view_count": null,
            "_view_module": "@jupyter-widgets/controls",
            "_view_module_version": "1.5.0",
            "_view_name": "HTMLView",
            "description": "",
            "description_tooltip": null,
            "layout": "IPY_MODEL_c9e1db98619b4182b1c12a1dfd22a967",
            "placeholder": "​",
            "style": "IPY_MODEL_37b0e330f0a64506af50229ea53a2650",
            "value": "generation_config.json: 100%"
          }
        },
        "89ee3f2a22cb45fa9e6f94b6795a2854": {
          "model_module": "@jupyter-widgets/controls",
          "model_name": "FloatProgressModel",
          "model_module_version": "1.5.0",
          "state": {
            "_dom_classes": [],
            "_model_module": "@jupyter-widgets/controls",
            "_model_module_version": "1.5.0",
            "_model_name": "FloatProgressModel",
            "_view_count": null,
            "_view_module": "@jupyter-widgets/controls",
            "_view_module_version": "1.5.0",
            "_view_name": "ProgressView",
            "bar_style": "success",
            "description": "",
            "description_tooltip": null,
            "layout": "IPY_MODEL_75fdc389a77b4a5c8e0f1fda58842ec3",
            "max": 111,
            "min": 0,
            "orientation": "horizontal",
            "style": "IPY_MODEL_e62ef1a7a03b46818dfb647115ac8393",
            "value": 111
          }
        },
        "91bf1e6ecdb64d1c9cc6535badb15424": {
          "model_module": "@jupyter-widgets/controls",
          "model_name": "HTMLModel",
          "model_module_version": "1.5.0",
          "state": {
            "_dom_classes": [],
            "_model_module": "@jupyter-widgets/controls",
            "_model_module_version": "1.5.0",
            "_model_name": "HTMLModel",
            "_view_count": null,
            "_view_module": "@jupyter-widgets/controls",
            "_view_module_version": "1.5.0",
            "_view_name": "HTMLView",
            "description": "",
            "description_tooltip": null,
            "layout": "IPY_MODEL_45c06f0628d344aaba315934ad558aac",
            "placeholder": "​",
            "style": "IPY_MODEL_a8edc26d53104f98baecebda0c2d4f9f",
            "value": " 111/111 [00:00&lt;00:00, 7.50kB/s]"
          }
        },
        "252522c7eda84311aa3f90d6ccbc7b9b": {
          "model_module": "@jupyter-widgets/base",
          "model_name": "LayoutModel",
          "model_module_version": "1.2.0",
          "state": {
            "_model_module": "@jupyter-widgets/base",
            "_model_module_version": "1.2.0",
            "_model_name": "LayoutModel",
            "_view_count": null,
            "_view_module": "@jupyter-widgets/base",
            "_view_module_version": "1.2.0",
            "_view_name": "LayoutView",
            "align_content": null,
            "align_items": null,
            "align_self": null,
            "border": null,
            "bottom": null,
            "display": null,
            "flex": null,
            "flex_flow": null,
            "grid_area": null,
            "grid_auto_columns": null,
            "grid_auto_flow": null,
            "grid_auto_rows": null,
            "grid_column": null,
            "grid_gap": null,
            "grid_row": null,
            "grid_template_areas": null,
            "grid_template_columns": null,
            "grid_template_rows": null,
            "height": null,
            "justify_content": null,
            "justify_items": null,
            "left": null,
            "margin": null,
            "max_height": null,
            "max_width": null,
            "min_height": null,
            "min_width": null,
            "object_fit": null,
            "object_position": null,
            "order": null,
            "overflow": null,
            "overflow_x": null,
            "overflow_y": null,
            "padding": null,
            "right": null,
            "top": null,
            "visibility": null,
            "width": null
          }
        },
        "c9e1db98619b4182b1c12a1dfd22a967": {
          "model_module": "@jupyter-widgets/base",
          "model_name": "LayoutModel",
          "model_module_version": "1.2.0",
          "state": {
            "_model_module": "@jupyter-widgets/base",
            "_model_module_version": "1.2.0",
            "_model_name": "LayoutModel",
            "_view_count": null,
            "_view_module": "@jupyter-widgets/base",
            "_view_module_version": "1.2.0",
            "_view_name": "LayoutView",
            "align_content": null,
            "align_items": null,
            "align_self": null,
            "border": null,
            "bottom": null,
            "display": null,
            "flex": null,
            "flex_flow": null,
            "grid_area": null,
            "grid_auto_columns": null,
            "grid_auto_flow": null,
            "grid_auto_rows": null,
            "grid_column": null,
            "grid_gap": null,
            "grid_row": null,
            "grid_template_areas": null,
            "grid_template_columns": null,
            "grid_template_rows": null,
            "height": null,
            "justify_content": null,
            "justify_items": null,
            "left": null,
            "margin": null,
            "max_height": null,
            "max_width": null,
            "min_height": null,
            "min_width": null,
            "object_fit": null,
            "object_position": null,
            "order": null,
            "overflow": null,
            "overflow_x": null,
            "overflow_y": null,
            "padding": null,
            "right": null,
            "top": null,
            "visibility": null,
            "width": null
          }
        },
        "37b0e330f0a64506af50229ea53a2650": {
          "model_module": "@jupyter-widgets/controls",
          "model_name": "DescriptionStyleModel",
          "model_module_version": "1.5.0",
          "state": {
            "_model_module": "@jupyter-widgets/controls",
            "_model_module_version": "1.5.0",
            "_model_name": "DescriptionStyleModel",
            "_view_count": null,
            "_view_module": "@jupyter-widgets/base",
            "_view_module_version": "1.2.0",
            "_view_name": "StyleView",
            "description_width": ""
          }
        },
        "75fdc389a77b4a5c8e0f1fda58842ec3": {
          "model_module": "@jupyter-widgets/base",
          "model_name": "LayoutModel",
          "model_module_version": "1.2.0",
          "state": {
            "_model_module": "@jupyter-widgets/base",
            "_model_module_version": "1.2.0",
            "_model_name": "LayoutModel",
            "_view_count": null,
            "_view_module": "@jupyter-widgets/base",
            "_view_module_version": "1.2.0",
            "_view_name": "LayoutView",
            "align_content": null,
            "align_items": null,
            "align_self": null,
            "border": null,
            "bottom": null,
            "display": null,
            "flex": null,
            "flex_flow": null,
            "grid_area": null,
            "grid_auto_columns": null,
            "grid_auto_flow": null,
            "grid_auto_rows": null,
            "grid_column": null,
            "grid_gap": null,
            "grid_row": null,
            "grid_template_areas": null,
            "grid_template_columns": null,
            "grid_template_rows": null,
            "height": null,
            "justify_content": null,
            "justify_items": null,
            "left": null,
            "margin": null,
            "max_height": null,
            "max_width": null,
            "min_height": null,
            "min_width": null,
            "object_fit": null,
            "object_position": null,
            "order": null,
            "overflow": null,
            "overflow_x": null,
            "overflow_y": null,
            "padding": null,
            "right": null,
            "top": null,
            "visibility": null,
            "width": null
          }
        },
        "e62ef1a7a03b46818dfb647115ac8393": {
          "model_module": "@jupyter-widgets/controls",
          "model_name": "ProgressStyleModel",
          "model_module_version": "1.5.0",
          "state": {
            "_model_module": "@jupyter-widgets/controls",
            "_model_module_version": "1.5.0",
            "_model_name": "ProgressStyleModel",
            "_view_count": null,
            "_view_module": "@jupyter-widgets/base",
            "_view_module_version": "1.2.0",
            "_view_name": "StyleView",
            "bar_color": null,
            "description_width": ""
          }
        },
        "45c06f0628d344aaba315934ad558aac": {
          "model_module": "@jupyter-widgets/base",
          "model_name": "LayoutModel",
          "model_module_version": "1.2.0",
          "state": {
            "_model_module": "@jupyter-widgets/base",
            "_model_module_version": "1.2.0",
            "_model_name": "LayoutModel",
            "_view_count": null,
            "_view_module": "@jupyter-widgets/base",
            "_view_module_version": "1.2.0",
            "_view_name": "LayoutView",
            "align_content": null,
            "align_items": null,
            "align_self": null,
            "border": null,
            "bottom": null,
            "display": null,
            "flex": null,
            "flex_flow": null,
            "grid_area": null,
            "grid_auto_columns": null,
            "grid_auto_flow": null,
            "grid_auto_rows": null,
            "grid_column": null,
            "grid_gap": null,
            "grid_row": null,
            "grid_template_areas": null,
            "grid_template_columns": null,
            "grid_template_rows": null,
            "height": null,
            "justify_content": null,
            "justify_items": null,
            "left": null,
            "margin": null,
            "max_height": null,
            "max_width": null,
            "min_height": null,
            "min_width": null,
            "object_fit": null,
            "object_position": null,
            "order": null,
            "overflow": null,
            "overflow_x": null,
            "overflow_y": null,
            "padding": null,
            "right": null,
            "top": null,
            "visibility": null,
            "width": null
          }
        },
        "a8edc26d53104f98baecebda0c2d4f9f": {
          "model_module": "@jupyter-widgets/controls",
          "model_name": "DescriptionStyleModel",
          "model_module_version": "1.5.0",
          "state": {
            "_model_module": "@jupyter-widgets/controls",
            "_model_module_version": "1.5.0",
            "_model_name": "DescriptionStyleModel",
            "_view_count": null,
            "_view_module": "@jupyter-widgets/base",
            "_view_module_version": "1.2.0",
            "_view_name": "StyleView",
            "description_width": ""
          }
        }
      }
    }
  },
  "cells": [
    {
      "cell_type": "code",
      "source": [
        "pip install -U bitsandbytes"
      ],
      "metadata": {
        "colab": {
          "base_uri": "https://localhost:8080/"
        },
        "id": "iP3SxumU6hNg",
        "outputId": "f6282956-4fd4-4001-b2f4-9d0a03cc1b48"
      },
      "execution_count": 1,
      "outputs": [
        {
          "output_type": "stream",
          "name": "stdout",
          "text": [
            "Requirement already satisfied: bitsandbytes in /usr/local/lib/python3.10/dist-packages (0.44.1)\n",
            "Requirement already satisfied: torch in /usr/local/lib/python3.10/dist-packages (from bitsandbytes) (2.5.1+cu121)\n",
            "Requirement already satisfied: numpy in /usr/local/lib/python3.10/dist-packages (from bitsandbytes) (1.26.4)\n",
            "Requirement already satisfied: filelock in /usr/local/lib/python3.10/dist-packages (from torch->bitsandbytes) (3.16.1)\n",
            "Requirement already satisfied: typing-extensions>=4.8.0 in /usr/local/lib/python3.10/dist-packages (from torch->bitsandbytes) (4.12.2)\n",
            "Requirement already satisfied: networkx in /usr/local/lib/python3.10/dist-packages (from torch->bitsandbytes) (3.4.2)\n",
            "Requirement already satisfied: jinja2 in /usr/local/lib/python3.10/dist-packages (from torch->bitsandbytes) (3.1.4)\n",
            "Requirement already satisfied: fsspec in /usr/local/lib/python3.10/dist-packages (from torch->bitsandbytes) (2024.10.0)\n",
            "Requirement already satisfied: sympy==1.13.1 in /usr/local/lib/python3.10/dist-packages (from torch->bitsandbytes) (1.13.1)\n",
            "Requirement already satisfied: mpmath<1.4,>=1.1.0 in /usr/local/lib/python3.10/dist-packages (from sympy==1.13.1->torch->bitsandbytes) (1.3.0)\n",
            "Requirement already satisfied: MarkupSafe>=2.0 in /usr/local/lib/python3.10/dist-packages (from jinja2->torch->bitsandbytes) (3.0.2)\n"
          ]
        }
      ]
    },
    {
      "cell_type": "code",
      "execution_count": 2,
      "metadata": {
        "id": "mlAKXZ4855LO"
      },
      "outputs": [],
      "source": [
        "import torch\n",
        "from transformers import AutoTokenizer, AutoModelForCausalLM, TextStreamer\n",
        "import re\n",
        "from collections import Counter\n",
        "import random\n",
        "from transformers import pipeline, set_seed\n",
        "from torch.nn import functional as F\n",
        "import math"
      ]
    },
    {
      "cell_type": "code",
      "source": [
        "from google.colab import files\n",
        "import os\n",
        "required_files = [\"prefiksy.txt\"]\n",
        "for f in required_files:\n",
        "    if not os.path.exists(f):\n",
        "        files.upload()"
      ],
      "metadata": {
        "id": "grJexb4d597Z",
        "colab": {
          "base_uri": "https://localhost:8080/",
          "height": 73
        },
        "outputId": "5e8baccb-1d38-432c-df26-051492c1d1c5"
      },
      "execution_count": 3,
      "outputs": [
        {
          "output_type": "display_data",
          "data": {
            "text/plain": [
              "<IPython.core.display.HTML object>"
            ],
            "text/html": [
              "\n",
              "     <input type=\"file\" id=\"files-c98b7080-5f75-4375-be5e-d941dc793eb3\" name=\"files[]\" multiple disabled\n",
              "        style=\"border:none\" />\n",
              "     <output id=\"result-c98b7080-5f75-4375-be5e-d941dc793eb3\">\n",
              "      Upload widget is only available when the cell has been executed in the\n",
              "      current browser session. Please rerun this cell to enable.\n",
              "      </output>\n",
              "      <script>// Copyright 2017 Google LLC\n",
              "//\n",
              "// Licensed under the Apache License, Version 2.0 (the \"License\");\n",
              "// you may not use this file except in compliance with the License.\n",
              "// You may obtain a copy of the License at\n",
              "//\n",
              "//      http://www.apache.org/licenses/LICENSE-2.0\n",
              "//\n",
              "// Unless required by applicable law or agreed to in writing, software\n",
              "// distributed under the License is distributed on an \"AS IS\" BASIS,\n",
              "// WITHOUT WARRANTIES OR CONDITIONS OF ANY KIND, either express or implied.\n",
              "// See the License for the specific language governing permissions and\n",
              "// limitations under the License.\n",
              "\n",
              "/**\n",
              " * @fileoverview Helpers for google.colab Python module.\n",
              " */\n",
              "(function(scope) {\n",
              "function span(text, styleAttributes = {}) {\n",
              "  const element = document.createElement('span');\n",
              "  element.textContent = text;\n",
              "  for (const key of Object.keys(styleAttributes)) {\n",
              "    element.style[key] = styleAttributes[key];\n",
              "  }\n",
              "  return element;\n",
              "}\n",
              "\n",
              "// Max number of bytes which will be uploaded at a time.\n",
              "const MAX_PAYLOAD_SIZE = 100 * 1024;\n",
              "\n",
              "function _uploadFiles(inputId, outputId) {\n",
              "  const steps = uploadFilesStep(inputId, outputId);\n",
              "  const outputElement = document.getElementById(outputId);\n",
              "  // Cache steps on the outputElement to make it available for the next call\n",
              "  // to uploadFilesContinue from Python.\n",
              "  outputElement.steps = steps;\n",
              "\n",
              "  return _uploadFilesContinue(outputId);\n",
              "}\n",
              "\n",
              "// This is roughly an async generator (not supported in the browser yet),\n",
              "// where there are multiple asynchronous steps and the Python side is going\n",
              "// to poll for completion of each step.\n",
              "// This uses a Promise to block the python side on completion of each step,\n",
              "// then passes the result of the previous step as the input to the next step.\n",
              "function _uploadFilesContinue(outputId) {\n",
              "  const outputElement = document.getElementById(outputId);\n",
              "  const steps = outputElement.steps;\n",
              "\n",
              "  const next = steps.next(outputElement.lastPromiseValue);\n",
              "  return Promise.resolve(next.value.promise).then((value) => {\n",
              "    // Cache the last promise value to make it available to the next\n",
              "    // step of the generator.\n",
              "    outputElement.lastPromiseValue = value;\n",
              "    return next.value.response;\n",
              "  });\n",
              "}\n",
              "\n",
              "/**\n",
              " * Generator function which is called between each async step of the upload\n",
              " * process.\n",
              " * @param {string} inputId Element ID of the input file picker element.\n",
              " * @param {string} outputId Element ID of the output display.\n",
              " * @return {!Iterable<!Object>} Iterable of next steps.\n",
              " */\n",
              "function* uploadFilesStep(inputId, outputId) {\n",
              "  const inputElement = document.getElementById(inputId);\n",
              "  inputElement.disabled = false;\n",
              "\n",
              "  const outputElement = document.getElementById(outputId);\n",
              "  outputElement.innerHTML = '';\n",
              "\n",
              "  const pickedPromise = new Promise((resolve) => {\n",
              "    inputElement.addEventListener('change', (e) => {\n",
              "      resolve(e.target.files);\n",
              "    });\n",
              "  });\n",
              "\n",
              "  const cancel = document.createElement('button');\n",
              "  inputElement.parentElement.appendChild(cancel);\n",
              "  cancel.textContent = 'Cancel upload';\n",
              "  const cancelPromise = new Promise((resolve) => {\n",
              "    cancel.onclick = () => {\n",
              "      resolve(null);\n",
              "    };\n",
              "  });\n",
              "\n",
              "  // Wait for the user to pick the files.\n",
              "  const files = yield {\n",
              "    promise: Promise.race([pickedPromise, cancelPromise]),\n",
              "    response: {\n",
              "      action: 'starting',\n",
              "    }\n",
              "  };\n",
              "\n",
              "  cancel.remove();\n",
              "\n",
              "  // Disable the input element since further picks are not allowed.\n",
              "  inputElement.disabled = true;\n",
              "\n",
              "  if (!files) {\n",
              "    return {\n",
              "      response: {\n",
              "        action: 'complete',\n",
              "      }\n",
              "    };\n",
              "  }\n",
              "\n",
              "  for (const file of files) {\n",
              "    const li = document.createElement('li');\n",
              "    li.append(span(file.name, {fontWeight: 'bold'}));\n",
              "    li.append(span(\n",
              "        `(${file.type || 'n/a'}) - ${file.size} bytes, ` +\n",
              "        `last modified: ${\n",
              "            file.lastModifiedDate ? file.lastModifiedDate.toLocaleDateString() :\n",
              "                                    'n/a'} - `));\n",
              "    const percent = span('0% done');\n",
              "    li.appendChild(percent);\n",
              "\n",
              "    outputElement.appendChild(li);\n",
              "\n",
              "    const fileDataPromise = new Promise((resolve) => {\n",
              "      const reader = new FileReader();\n",
              "      reader.onload = (e) => {\n",
              "        resolve(e.target.result);\n",
              "      };\n",
              "      reader.readAsArrayBuffer(file);\n",
              "    });\n",
              "    // Wait for the data to be ready.\n",
              "    let fileData = yield {\n",
              "      promise: fileDataPromise,\n",
              "      response: {\n",
              "        action: 'continue',\n",
              "      }\n",
              "    };\n",
              "\n",
              "    // Use a chunked sending to avoid message size limits. See b/62115660.\n",
              "    let position = 0;\n",
              "    do {\n",
              "      const length = Math.min(fileData.byteLength - position, MAX_PAYLOAD_SIZE);\n",
              "      const chunk = new Uint8Array(fileData, position, length);\n",
              "      position += length;\n",
              "\n",
              "      const base64 = btoa(String.fromCharCode.apply(null, chunk));\n",
              "      yield {\n",
              "        response: {\n",
              "          action: 'append',\n",
              "          file: file.name,\n",
              "          data: base64,\n",
              "        },\n",
              "      };\n",
              "\n",
              "      let percentDone = fileData.byteLength === 0 ?\n",
              "          100 :\n",
              "          Math.round((position / fileData.byteLength) * 100);\n",
              "      percent.textContent = `${percentDone}% done`;\n",
              "\n",
              "    } while (position < fileData.byteLength);\n",
              "  }\n",
              "\n",
              "  // All done.\n",
              "  yield {\n",
              "    response: {\n",
              "      action: 'complete',\n",
              "    }\n",
              "  };\n",
              "}\n",
              "\n",
              "scope.google = scope.google || {};\n",
              "scope.google.colab = scope.google.colab || {};\n",
              "scope.google.colab._files = {\n",
              "  _uploadFiles,\n",
              "  _uploadFilesContinue,\n",
              "};\n",
              "})(self);\n",
              "</script> "
            ]
          },
          "metadata": {}
        },
        {
          "output_type": "stream",
          "name": "stdout",
          "text": [
            "Saving prefiksy.txt to prefiksy.txt\n"
          ]
        }
      ]
    },
    {
      "cell_type": "code",
      "source": [
        "with open(\"prefiksy.txt\", \"r\") as f:\n",
        "    prefixes_str = f.read()"
      ],
      "metadata": {
        "id": "JRYY2Mgz6AGH"
      },
      "execution_count": 4,
      "outputs": []
    },
    {
      "cell_type": "code",
      "source": [
        "prefixes = prefixes_str.splitlines()\n",
        "prefixes[:5]"
      ],
      "metadata": {
        "colab": {
          "base_uri": "https://localhost:8080/"
        },
        "id": "s1T1wI136C6P",
        "outputId": "9268fe4a-f399-4776-dd82-8ad3e5d882e4"
      },
      "execution_count": 5,
      "outputs": [
        {
          "output_type": "execute_result",
          "data": {
            "text/plain": [
              "['Obowiązuje on od',\n",
              " 'Został zrodzony ze',\n",
              " 'Po pierwsze, projekt',\n",
              " 'Po Panthers przejechali',\n",
              " 'Duze dwusuwowe diesle']"
            ]
          },
          "metadata": {},
          "execution_count": 5
        }
      ]
    },
    {
      "cell_type": "code",
      "source": [
        "model_name = \"eryk-mazus/polka-1.1b\"\n",
        "\n",
        "tokenizer = AutoTokenizer.from_pretrained(model_name, padding_side=\"left\")\n",
        "tokenizer.pad_token = tokenizer.eos_token\n",
        "\n",
        "device = 'cuda' if torch.cuda.is_available() else 'cpu'\n",
        "\n",
        "model = AutoModelForCausalLM.from_pretrained(model_name, device_map=\"auto\", load_in_8bit=True)\n"
      ],
      "metadata": {
        "colab": {
          "base_uri": "https://localhost:8080/",
          "height": 350,
          "referenced_widgets": [
            "e4e76074f77a4efda8cb76e82532cd6a",
            "fdd02b0818654326a6fc1c553f9ecb89",
            "7ef34bf044bf4e18879bf952f23581bf",
            "0d8ae9a3abb14dbd99d8a9877bce1d01",
            "a9edb831395242a595f64fb2baa8bb0d",
            "1b8c7431fd8148cea30043a564c84af8",
            "5be81165614941dfa79b07b0dc8f7357",
            "3d4e8ab4403f4c4eb64a9e673a0e40ac",
            "387e789375754236be9d25c74c8d207a",
            "2005b1f36cd44dd29e7acd0ec40af07b",
            "8459b79bb7e24e1091ae688026e2bc4f",
            "8f108886dce743a2abe741ed6fcd776a",
            "869bcf8c731e4cf4a8c1c74f03ca275e",
            "43052b8074c54c688818cf4aa53d669b",
            "702ee8821ba94eb6bceaa1e3570d920e",
            "17c86ccf544d49e9856e669b377e1bff",
            "a82d1060fd6a4da8a541fe76103cf728",
            "8d270fbcb4554cc0a28994f82a447fd8",
            "30b75cc412f34b43a236a5a06954e1b8",
            "9b9c8d60435a4d0cac94f47eff11bccc",
            "e8fd8f5c357f4d458bcdb31633842646",
            "be3a769a85d54fa2bda3351ed3402b0e",
            "256a2d88735345b593d196de35a9372f",
            "a5e430bd900c45ef93d8da907bca0328",
            "bd2dfa3b1de34924a5979edee2e89542",
            "4019c86710d6491bb1d810ba4bd5e32d",
            "57462e7d7b7647a4a3e533e8ce0acf40",
            "0a57870f9797423791cde380753bc63c",
            "a95ec34d44ca4aa789c9afd5c8666f45",
            "474c7a6fcefd493e8f44f1ebe129785b",
            "63a2f00757244fe8ad878c7d0aa911b6",
            "99927cb0a09a4c199e228c7d6a44559f",
            "bb11737eebd6413991da759931f5df38",
            "fb239811c1844aab89b6b81433ac323a",
            "7530cbc1b47945d3ae95709e4f6cc658",
            "5a0ed99227554928b0a74fcb4804b757",
            "972b32fc973d44feab7a3b89a16024f3",
            "d3111ee96d4e475c98f7196355e21821",
            "05bcdb87c4004935804dc16bada387d1",
            "5b4f3fedeeac437fa3f3cb367d518a99",
            "7f79f0987ae0451d83b830d60cbf56ae",
            "fe6ea54a6f0045c2ba2e56eb16c3c5dc",
            "fdadc1770d344f14977ee223fb84668e",
            "bc909b247739423585ffac70076a768b",
            "d288e1880dd04519a532e60855932dd6",
            "0242eca906394930a334e050a345d4f5",
            "603fc1440ac84d6e9b02be68bb387ca3",
            "bce44ea6699748ebad6f87c98250ae7d",
            "238133f7de374cd6a1c69e1ee19efcbd",
            "992e0dea350f4f2f87862e21ecd3aac7",
            "55d3d4dea28a49b58d2848b640e09cb0",
            "f6bf0cbf91a74bc0bd008beddde456db",
            "ce9552401c95499f8a786a4d88d03131",
            "9c01047b9ae948f9aa7693d17c5bcbd5",
            "d453015e94584b618071ad2e42cef661",
            "ba65d3968cbd40289e232cdcc06f536a",
            "c19cd2d406de499fbdabb6eb05cd7b83",
            "89ee3f2a22cb45fa9e6f94b6795a2854",
            "91bf1e6ecdb64d1c9cc6535badb15424",
            "252522c7eda84311aa3f90d6ccbc7b9b",
            "c9e1db98619b4182b1c12a1dfd22a967",
            "37b0e330f0a64506af50229ea53a2650",
            "75fdc389a77b4a5c8e0f1fda58842ec3",
            "e62ef1a7a03b46818dfb647115ac8393",
            "45c06f0628d344aaba315934ad558aac",
            "a8edc26d53104f98baecebda0c2d4f9f"
          ]
        },
        "id": "H-Rli5gI6N7u",
        "outputId": "43f3fcf9-da02-4015-bb57-2d2214a2f331"
      },
      "execution_count": 6,
      "outputs": [
        {
          "output_type": "stream",
          "name": "stderr",
          "text": [
            "/usr/local/lib/python3.10/dist-packages/huggingface_hub/utils/_auth.py:94: UserWarning: \n",
            "The secret `HF_TOKEN` does not exist in your Colab secrets.\n",
            "To authenticate with the Hugging Face Hub, create a token in your settings tab (https://huggingface.co/settings/tokens), set it as secret in your Google Colab and restart your session.\n",
            "You will be able to reuse this secret in all of your notebooks.\n",
            "Please note that authentication is recommended but still optional to access public models or datasets.\n",
            "  warnings.warn(\n"
          ]
        },
        {
          "output_type": "display_data",
          "data": {
            "text/plain": [
              "tokenizer_config.json:   0%|          | 0.00/920 [00:00<?, ?B/s]"
            ],
            "application/vnd.jupyter.widget-view+json": {
              "version_major": 2,
              "version_minor": 0,
              "model_id": "e4e76074f77a4efda8cb76e82532cd6a"
            }
          },
          "metadata": {}
        },
        {
          "output_type": "display_data",
          "data": {
            "text/plain": [
              "tokenizer.json:   0%|          | 0.00/2.44M [00:00<?, ?B/s]"
            ],
            "application/vnd.jupyter.widget-view+json": {
              "version_major": 2,
              "version_minor": 0,
              "model_id": "8f108886dce743a2abe741ed6fcd776a"
            }
          },
          "metadata": {}
        },
        {
          "output_type": "display_data",
          "data": {
            "text/plain": [
              "special_tokens_map.json:   0%|          | 0.00/437 [00:00<?, ?B/s]"
            ],
            "application/vnd.jupyter.widget-view+json": {
              "version_major": 2,
              "version_minor": 0,
              "model_id": "256a2d88735345b593d196de35a9372f"
            }
          },
          "metadata": {}
        },
        {
          "output_type": "display_data",
          "data": {
            "text/plain": [
              "config.json:   0%|          | 0.00/702 [00:00<?, ?B/s]"
            ],
            "application/vnd.jupyter.widget-view+json": {
              "version_major": 2,
              "version_minor": 0,
              "model_id": "fb239811c1844aab89b6b81433ac323a"
            }
          },
          "metadata": {}
        },
        {
          "output_type": "stream",
          "name": "stderr",
          "text": [
            "The `load_in_4bit` and `load_in_8bit` arguments are deprecated and will be removed in the future versions. Please, pass a `BitsAndBytesConfig` object in `quantization_config` argument instead.\n"
          ]
        },
        {
          "output_type": "display_data",
          "data": {
            "text/plain": [
              "model.safetensors:   0%|          | 0.00/2.30G [00:00<?, ?B/s]"
            ],
            "application/vnd.jupyter.widget-view+json": {
              "version_major": 2,
              "version_minor": 0,
              "model_id": "d288e1880dd04519a532e60855932dd6"
            }
          },
          "metadata": {}
        },
        {
          "output_type": "display_data",
          "data": {
            "text/plain": [
              "generation_config.json:   0%|          | 0.00/111 [00:00<?, ?B/s]"
            ],
            "application/vnd.jupyter.widget-view+json": {
              "version_major": 2,
              "version_minor": 0,
              "model_id": "ba65d3968cbd40289e232cdcc06f536a"
            }
          },
          "metadata": {}
        }
      ]
    },
    {
      "cell_type": "code",
      "source": [
        "p = random.choice(prefixes)\n",
        "p.split(\" \")[0]"
      ],
      "metadata": {
        "colab": {
          "base_uri": "https://localhost:8080/",
          "height": 36
        },
        "id": "wuJXiIlX7rOY",
        "outputId": "0dd8c5b3-36f3-4b4e-f368-06b68e18f38b"
      },
      "execution_count": 7,
      "outputs": [
        {
          "output_type": "execute_result",
          "data": {
            "text/plain": [
              "'Pan'"
            ],
            "application/vnd.google.colaboratory.intrinsic+json": {
              "type": "string"
            }
          },
          "metadata": {},
          "execution_count": 7
        }
      ]
    },
    {
      "cell_type": "code",
      "source": [
        "def log_probs_from_logits(logits, labels):\n",
        "    logp = F.log_softmax(logits, dim=-1)\n",
        "    logp_label = torch.gather(logp, 2, labels.unsqueeze(2)).squeeze(-1)\n",
        "    return logp_label\n",
        "\n",
        "\n",
        "def sentence_prob(sentence_txt):\n",
        "    input_ids = tokenizer(sentence_txt, return_tensors='pt')['input_ids'].to(device)\n",
        "    with torch.no_grad():\n",
        "        output = model(input_ids=input_ids)\n",
        "        log_probs = log_probs_from_logits(output.logits[:, :-1, :], input_ids[:, 1:])\n",
        "        seq_log_probs = torch.sum(log_probs)\n",
        "    return seq_log_probs.cpu().numpy()\n",
        "\n",
        "def normalize_sentence_prob(sentence):\n",
        "    return int(1000 * sentence_prob(sentence).item() / math.log(len(sentence)))\n"
      ],
      "metadata": {
        "id": "ifc8As-gAIUG"
      },
      "execution_count": 43,
      "outputs": []
    },
    {
      "cell_type": "code",
      "source": [
        "s1 = \"Pan pali\"\n",
        "s2 = \"Pan pali papierosy\"\n",
        "s3 = \"Pan pali papierosy.\"\n",
        "\n",
        "print(sentence_prob(s1) / math.log(len(s1)))\n",
        "print(sentence_prob(s2) / math.log(len(s2)))\n",
        "print(sentence_prob(s3) / math.log(len(s3)))\n"
      ],
      "metadata": {
        "colab": {
          "base_uri": "https://localhost:8080/"
        },
        "id": "qRtdmkwv38C0",
        "outputId": "d6944edc-2838-4bc1-cf56-a4e2548258dc"
      },
      "execution_count": 15,
      "outputs": [
        {
          "output_type": "stream",
          "name": "stdout",
          "text": [
            "-8.220356118398573\n",
            "-6.978989794268764\n",
            "-7.997066730405136\n"
          ]
        }
      ]
    },
    {
      "cell_type": "code",
      "source": [
        "random.choice(prefixes)"
      ],
      "metadata": {
        "colab": {
          "base_uri": "https://localhost:8080/",
          "height": 36
        },
        "id": "2mAfCOYr-heE",
        "outputId": "105bc217-40fb-4fe1-e997-621e01853c3d"
      },
      "execution_count": 35,
      "outputs": [
        {
          "output_type": "execute_result",
          "data": {
            "text/plain": [
              "'Mam mocno mieszane'"
            ],
            "application/vnd.google.colaboratory.intrinsic+json": {
              "type": "string"
            }
          },
          "metadata": {},
          "execution_count": 35
        }
      ]
    },
    {
      "cell_type": "code",
      "source": [
        "def generate_one_letter_sentences():\n",
        "  sentences_ready = []\n",
        "  sentences_in_progress = [(random.choice(prefixes), -100000)]\n",
        "  temperature_values = [0.2, 0.5]\n",
        "  top_p_values = [0.7, 0.9]\n",
        "  top_k_values = [5, 10]\n",
        "  threshold = -13000\n",
        "  # temperature_values = [0.2]\n",
        "  # top_p_values = [0.7]\n",
        "  # top_k_values = [5]\n",
        "  for temp in temperature_values:\n",
        "    for top_p in top_p_values:\n",
        "      for top_k in top_k_values:\n",
        "        for p, prob in sentences_in_progress:\n",
        "          try:\n",
        "            sentences_in_progress.remove((p, prob))\n",
        "          except:\n",
        "            print(f\"ERROR: {sentences_in_progress}, {p}, {prob}\")\n",
        "            return sorted(sentences_ready, key=lambda x: x[1], reverse=True)\n",
        "          p_last_word = p.split(\" \")[-1]\n",
        "          first_letter_lower = p.split(\" \")[0][0].lower()\n",
        "          prompt_lower = f\"{p} {first_letter_lower}\"\n",
        "          prompt_upper = f\"{p} {first_letter_lower.upper()}\"\n",
        "          prompts = [prompt_lower, prompt_upper]\n",
        "\n",
        "          for prompt in prompts:\n",
        "            model_inputs = tokenizer([prompt], return_tensors=\"pt\").to(\"cuda\")\n",
        "            with torch.no_grad():\n",
        "              generated_ids = model.generate(\n",
        "                **model_inputs,\n",
        "                max_new_tokens= int(len(prompt)),\n",
        "                do_sample=True,\n",
        "                penalty_alpha=0.6,\n",
        "                top_k=top_k,\n",
        "                temperature=temp,\n",
        "                top_p=top_p,\n",
        "              )\n",
        "            output = tokenizer.batch_decode(generated_ids, skip_special_tokens=True)[0]\n",
        "            output = output.replace(\"\\\\n\", \" \")\n",
        "            previous_words = output[:len(p)]\n",
        "            generated_words = output[len(p):].split(\" \")\n",
        "            while len(generated_words) > 0 and generated_words[0].lower() in p.lower():\n",
        "              generated_words = generated_words[1:]\n",
        "            # print(f\"output: {output}\")\n",
        "            # print(f\"previous words: {previous_words}\")\n",
        "            # print(f\"generated words: {generated_words}\")\n",
        "            print()\n",
        "            print(f\"READY: {sentences_ready}\")\n",
        "            for w in generated_words:\n",
        "              if w == \"\":\n",
        "                continue\n",
        "              if w[0] == first_letter_lower or w[0] == first_letter_lower.upper():\n",
        "                previous_words = f\"{previous_words} {w}\"\n",
        "                if previous_words[-1] == \".\" or previous_words[-1] == \"?\" or previous_words[-1] == \"!\":\n",
        "                  print(\"NATURALNY DOT\")\n",
        "                  sentences_ready.append((previous_words, normalize_sentence_prob(previous_words)))\n",
        "                elif len(previous_words.split(\" \")) <= 8:\n",
        "                  sentences_in_progress.append((previous_words, normalize_sentence_prob(previous_words)))\n",
        "                  # previous_words += f\"{w} \"\n",
        "                if normalize_sentence_prob(previous_words + \".\") > threshold:\n",
        "                  sentences_ready.append((previous_words + \".\", 10 * normalize_sentence_prob(previous_words + \".\")))\n",
        "                  print(\"WYMUSZONY DOT\")\n",
        "              else:\n",
        "                break\n",
        "            print(sorted(sentences_in_progress, key=lambda x: x[1], reverse=True))\n",
        "            sentences_in_progress = sorted(sentences_in_progress, key=lambda x: x[1], reverse=True)[:7]\n",
        "            print(f\"sent in prog: {sentences_in_progress}\")\n",
        "\n",
        "\n",
        "  return sorted(sentences_ready, key=lambda x: x[1], reverse=True)\n"
      ],
      "metadata": {
        "id": "I_CB14Af7WWi"
      },
      "execution_count": 67,
      "outputs": []
    },
    {
      "cell_type": "code",
      "source": [
        "out1 = generate_one_letter_sentences()"
      ],
      "metadata": {
        "colab": {
          "base_uri": "https://localhost:8080/"
        },
        "id": "J89u1YFLDzro",
        "outputId": "1dc5d70a-9ffe-42fa-b2a4-edbc57f9e7a2"
      },
      "execution_count": 69,
      "outputs": [
        {
          "output_type": "stream",
          "name": "stderr",
          "text": [
            "Setting `pad_token_id` to `eos_token_id`:None for open-end generation.\n"
          ]
        },
        {
          "output_type": "stream",
          "name": "stdout",
          "text": [
            "\n",
            "READY: []\n",
            "WYMUSZONY DOT\n"
          ]
        },
        {
          "output_type": "stream",
          "name": "stderr",
          "text": [
            "Setting `pad_token_id` to `eos_token_id`:None for open-end generation.\n"
          ]
        },
        {
          "output_type": "stream",
          "name": "stdout",
          "text": [
            "WYMUSZONY DOT\n",
            "[('Poprawki proponowane przez pana', -7862), ('Poprawki proponowane przez pana prezydenta', -7913)]\n",
            "sent in prog: [('Poprawki proponowane przez pana', -7862), ('Poprawki proponowane przez pana prezydenta', -7913)]\n",
            "\n",
            "READY: [('Poprawki proponowane przez pana.', -101800), ('Poprawki proponowane przez pana prezydenta.', -92800)]\n",
            "WYMUSZONY DOT\n"
          ]
        },
        {
          "output_type": "stream",
          "name": "stderr",
          "text": [
            "Setting `pad_token_id` to `eos_token_id`:None for open-end generation.\n"
          ]
        },
        {
          "output_type": "stream",
          "name": "stdout",
          "text": [
            "WYMUSZONY DOT\n",
            "[('Poprawki proponowane przez Pana', -7694), ('Poprawki proponowane przez Pana Prezydenta', -7737), ('Poprawki proponowane przez pana', -7862), ('Poprawki proponowane przez pana prezydenta', -7913)]\n",
            "sent in prog: [('Poprawki proponowane przez Pana', -7694), ('Poprawki proponowane przez Pana Prezydenta', -7737), ('Poprawki proponowane przez pana', -7862), ('Poprawki proponowane przez pana prezydenta', -7913)]\n"
          ]
        },
        {
          "output_type": "stream",
          "name": "stderr",
          "text": [
            "Setting `pad_token_id` to `eos_token_id`:None for open-end generation.\n"
          ]
        },
        {
          "output_type": "stream",
          "name": "stdout",
          "text": [
            "\n",
            "READY: [('Poprawki proponowane przez pana.', -101800), ('Poprawki proponowane przez pana prezydenta.', -92800), ('Poprawki proponowane przez Pana.', -99000), ('Poprawki proponowane przez Pana Prezydenta.', -92390)]\n",
            "[('Poprawki proponowane przez Pana', -7694), ('Poprawki proponowane przez Pana Prezydenta', -7737), ('Poprawki proponowane przez pana', -7862)]\n",
            "sent in prog: [('Poprawki proponowane przez Pana', -7694), ('Poprawki proponowane przez Pana Prezydenta', -7737), ('Poprawki proponowane przez pana', -7862)]\n",
            "\n",
            "READY: [('Poprawki proponowane przez pana.', -101800), ('Poprawki proponowane przez pana prezydenta.', -92800), ('Poprawki proponowane przez Pana.', -99000), ('Poprawki proponowane przez Pana Prezydenta.', -92390)]\n"
          ]
        },
        {
          "output_type": "stream",
          "name": "stderr",
          "text": [
            "Setting `pad_token_id` to `eos_token_id`:None for open-end generation.\n"
          ]
        },
        {
          "output_type": "stream",
          "name": "stdout",
          "text": [
            "WYMUSZONY DOT\n",
            "[('Poprawki proponowane przez Pana', -7694), ('Poprawki proponowane przez Pana Prezydenta', -7737), ('Poprawki proponowane przez pana', -7862), ('Poprawki proponowane przez pana prezydenta Pawła', -9339)]\n",
            "sent in prog: [('Poprawki proponowane przez Pana', -7694), ('Poprawki proponowane przez Pana Prezydenta', -7737), ('Poprawki proponowane przez pana', -7862), ('Poprawki proponowane przez pana prezydenta Pawła', -9339)]\n"
          ]
        },
        {
          "output_type": "stream",
          "name": "stderr",
          "text": [
            "Setting `pad_token_id` to `eos_token_id`:None for open-end generation.\n"
          ]
        },
        {
          "output_type": "stream",
          "name": "stdout",
          "text": [
            "\n",
            "READY: [('Poprawki proponowane przez pana.', -101800), ('Poprawki proponowane przez pana prezydenta.', -92800), ('Poprawki proponowane przez Pana.', -99000), ('Poprawki proponowane przez Pana Prezydenta.', -92390), ('Poprawki proponowane przez pana prezydenta Pawła.', -112730)]\n",
            "[('Poprawki proponowane przez Pana Prezydenta', -7737), ('Poprawki proponowane przez pana', -7862), ('Poprawki proponowane przez pana prezydenta Pawła', -9339)]\n",
            "sent in prog: [('Poprawki proponowane przez Pana Prezydenta', -7737), ('Poprawki proponowane przez pana', -7862), ('Poprawki proponowane przez pana prezydenta Pawła', -9339)]\n",
            "\n",
            "READY: [('Poprawki proponowane przez pana.', -101800), ('Poprawki proponowane przez pana prezydenta.', -92800), ('Poprawki proponowane przez Pana.', -99000), ('Poprawki proponowane przez Pana Prezydenta.', -92390), ('Poprawki proponowane przez pana prezydenta Pawła.', -112730)]\n"
          ]
        },
        {
          "output_type": "stream",
          "name": "stderr",
          "text": [
            "Setting `pad_token_id` to `eos_token_id`:None for open-end generation.\n"
          ]
        },
        {
          "output_type": "stream",
          "name": "stdout",
          "text": [
            "WYMUSZONY DOT\n",
            "[('Poprawki proponowane przez Pana Prezydenta', -7737), ('Poprawki proponowane przez pana', -7862), ('Poprawki proponowane przez Pana Pawła', -8732), ('Poprawki proponowane przez pana prezydenta Pawła', -9339)]\n",
            "sent in prog: [('Poprawki proponowane przez Pana Prezydenta', -7737), ('Poprawki proponowane przez pana', -7862), ('Poprawki proponowane przez Pana Pawła', -8732), ('Poprawki proponowane przez pana prezydenta Pawła', -9339)]\n"
          ]
        },
        {
          "output_type": "stream",
          "name": "stderr",
          "text": [
            "Setting `pad_token_id` to `eos_token_id`:None for open-end generation.\n"
          ]
        },
        {
          "output_type": "stream",
          "name": "stdout",
          "text": [
            "\n",
            "READY: [('Poprawki proponowane przez pana.', -101800), ('Poprawki proponowane przez pana prezydenta.', -92800), ('Poprawki proponowane przez Pana.', -99000), ('Poprawki proponowane przez Pana Prezydenta.', -92390), ('Poprawki proponowane przez pana prezydenta Pawła.', -112730), ('Poprawki proponowane przez Pana Pawła.', -106350)]\n",
            "[('Poprawki proponowane przez Pana Prezydenta', -7737), ('Poprawki proponowane przez Pana Pawła', -8732), ('Poprawki proponowane przez pana prezydenta Pawła', -9339)]\n",
            "sent in prog: [('Poprawki proponowane przez Pana Prezydenta', -7737), ('Poprawki proponowane przez Pana Pawła', -8732), ('Poprawki proponowane przez pana prezydenta Pawła', -9339)]\n",
            "\n",
            "READY: [('Poprawki proponowane przez pana.', -101800), ('Poprawki proponowane przez pana prezydenta.', -92800), ('Poprawki proponowane przez Pana.', -99000), ('Poprawki proponowane przez Pana Prezydenta.', -92390), ('Poprawki proponowane przez pana prezydenta Pawła.', -112730), ('Poprawki proponowane przez Pana Pawła.', -106350)]\n"
          ]
        },
        {
          "output_type": "stream",
          "name": "stderr",
          "text": [
            "Setting `pad_token_id` to `eos_token_id`:None for open-end generation.\n"
          ]
        },
        {
          "output_type": "stream",
          "name": "stdout",
          "text": [
            "WYMUSZONY DOT\n",
            "[('Poprawki proponowane przez Pana Prezydenta', -7737), ('Poprawki proponowane przez Pana Pawła', -8732), ('Poprawki proponowane przez pana Pawła', -9199), ('Poprawki proponowane przez pana prezydenta Pawła', -9339)]\n",
            "sent in prog: [('Poprawki proponowane przez Pana Prezydenta', -7737), ('Poprawki proponowane przez Pana Pawła', -8732), ('Poprawki proponowane przez pana Pawła', -9199), ('Poprawki proponowane przez pana prezydenta Pawła', -9339)]\n"
          ]
        },
        {
          "output_type": "stream",
          "name": "stderr",
          "text": [
            "Setting `pad_token_id` to `eos_token_id`:None for open-end generation.\n"
          ]
        },
        {
          "output_type": "stream",
          "name": "stdout",
          "text": [
            "\n",
            "READY: [('Poprawki proponowane przez pana.', -101800), ('Poprawki proponowane przez pana prezydenta.', -92800), ('Poprawki proponowane przez Pana.', -99000), ('Poprawki proponowane przez Pana Prezydenta.', -92390), ('Poprawki proponowane przez pana prezydenta Pawła.', -112730), ('Poprawki proponowane przez Pana Pawła.', -106350), ('Poprawki proponowane przez pana Pawła.', -110560)]\n",
            "[('Poprawki proponowane przez Pana Prezydenta', -7737), ('Poprawki proponowane przez Pana Pawła', -8732), ('Poprawki proponowane przez pana Pawła', -9199)]\n",
            "sent in prog: [('Poprawki proponowane przez Pana Prezydenta', -7737), ('Poprawki proponowane przez Pana Pawła', -8732), ('Poprawki proponowane przez pana Pawła', -9199)]\n",
            "\n",
            "READY: [('Poprawki proponowane przez pana.', -101800), ('Poprawki proponowane przez pana prezydenta.', -92800), ('Poprawki proponowane przez Pana.', -99000), ('Poprawki proponowane przez Pana Prezydenta.', -92390), ('Poprawki proponowane przez pana prezydenta Pawła.', -112730), ('Poprawki proponowane przez Pana Pawła.', -106350), ('Poprawki proponowane przez pana Pawła.', -110560)]\n"
          ]
        },
        {
          "output_type": "stream",
          "name": "stderr",
          "text": [
            "Setting `pad_token_id` to `eos_token_id`:None for open-end generation.\n"
          ]
        },
        {
          "output_type": "stream",
          "name": "stdout",
          "text": [
            "WYMUSZONY DOT\n",
            "[('Poprawki proponowane przez Pana Prezydenta', -7737), ('Poprawki proponowane przez Pana Pawła', -8732), ('Poprawki proponowane przez pana Pawła', -9199), ('Poprawki proponowane przez pana prezydenta Pawła Piskorskiego', -10505)]\n",
            "sent in prog: [('Poprawki proponowane przez Pana Prezydenta', -7737), ('Poprawki proponowane przez Pana Pawła', -8732), ('Poprawki proponowane przez pana Pawła', -9199), ('Poprawki proponowane przez pana prezydenta Pawła Piskorskiego', -10505)]\n",
            "\n",
            "READY: [('Poprawki proponowane przez pana.', -101800), ('Poprawki proponowane przez pana prezydenta.', -92800), ('Poprawki proponowane przez Pana.', -99000), ('Poprawki proponowane przez Pana Prezydenta.', -92390), ('Poprawki proponowane przez pana prezydenta Pawła.', -112730), ('Poprawki proponowane przez Pana Pawła.', -106350), ('Poprawki proponowane przez pana Pawła.', -110560), ('Poprawki proponowane przez pana prezydenta Pawła Piskorskiego.', -114330)]\n"
          ]
        },
        {
          "output_type": "stream",
          "name": "stderr",
          "text": [
            "Setting `pad_token_id` to `eos_token_id`:None for open-end generation.\n"
          ]
        },
        {
          "output_type": "stream",
          "name": "stdout",
          "text": [
            "WYMUSZONY DOT\n",
            "[('Poprawki proponowane przez Pana Pawła', -8732), ('Poprawki proponowane przez pana Pawła', -9199), ('Poprawki proponowane przez Pana Prezydenta podyktowane', -9573), ('Poprawki proponowane przez pana prezydenta Pawła Piskorskiego', -10505)]\n",
            "sent in prog: [('Poprawki proponowane przez Pana Pawła', -8732), ('Poprawki proponowane przez pana Pawła', -9199), ('Poprawki proponowane przez Pana Prezydenta podyktowane', -9573), ('Poprawki proponowane przez pana prezydenta Pawła Piskorskiego', -10505)]\n",
            "\n",
            "READY: [('Poprawki proponowane przez pana.', -101800), ('Poprawki proponowane przez pana prezydenta.', -92800), ('Poprawki proponowane przez Pana.', -99000), ('Poprawki proponowane przez Pana Prezydenta.', -92390), ('Poprawki proponowane przez pana prezydenta Pawła.', -112730), ('Poprawki proponowane przez Pana Pawła.', -106350), ('Poprawki proponowane przez pana Pawła.', -110560), ('Poprawki proponowane przez pana prezydenta Pawła Piskorskiego.', -114330), ('Poprawki proponowane przez Pana Prezydenta podyktowane.', -125000)]\n"
          ]
        },
        {
          "output_type": "stream",
          "name": "stderr",
          "text": [
            "Setting `pad_token_id` to `eos_token_id`:None for open-end generation.\n"
          ]
        },
        {
          "output_type": "stream",
          "name": "stdout",
          "text": [
            "WYMUSZONY DOT\n",
            "[('Poprawki proponowane przez Pana Pawła', -8732), ('Poprawki proponowane przez Pana Prezydenta Pawła', -9008), ('Poprawki proponowane przez pana Pawła', -9199), ('Poprawki proponowane przez Pana Prezydenta podyktowane', -9573), ('Poprawki proponowane przez pana prezydenta Pawła Piskorskiego', -10505)]\n",
            "sent in prog: [('Poprawki proponowane przez Pana Pawła', -8732), ('Poprawki proponowane przez Pana Prezydenta Pawła', -9008), ('Poprawki proponowane przez pana Pawła', -9199), ('Poprawki proponowane przez Pana Prezydenta podyktowane', -9573), ('Poprawki proponowane przez pana prezydenta Pawła Piskorskiego', -10505)]\n",
            "\n",
            "READY: [('Poprawki proponowane przez pana.', -101800), ('Poprawki proponowane przez pana prezydenta.', -92800), ('Poprawki proponowane przez Pana.', -99000), ('Poprawki proponowane przez Pana Prezydenta.', -92390), ('Poprawki proponowane przez pana prezydenta Pawła.', -112730), ('Poprawki proponowane przez Pana Pawła.', -106350), ('Poprawki proponowane przez pana Pawła.', -110560), ('Poprawki proponowane przez pana prezydenta Pawła Piskorskiego.', -114330), ('Poprawki proponowane przez Pana Prezydenta podyktowane.', -125000), ('Poprawki proponowane przez Pana Prezydenta Pawła.', -111450)]\n"
          ]
        },
        {
          "output_type": "stream",
          "name": "stderr",
          "text": [
            "Setting `pad_token_id` to `eos_token_id`:None for open-end generation.\n"
          ]
        },
        {
          "output_type": "stream",
          "name": "stdout",
          "text": [
            "[('Poprawki proponowane przez Pana Pawła', -8732), ('Poprawki proponowane przez Pana Prezydenta Pawła', -9008), ('Poprawki proponowane przez Pana Prezydenta podyktowane', -9573), ('Poprawki proponowane przez pana prezydenta Pawła Piskorskiego', -10505), ('Poprawki proponowane przez pana Pawła Pawła,', -12543)]\n",
            "sent in prog: [('Poprawki proponowane przez Pana Pawła', -8732), ('Poprawki proponowane przez Pana Prezydenta Pawła', -9008), ('Poprawki proponowane przez Pana Prezydenta podyktowane', -9573), ('Poprawki proponowane przez pana prezydenta Pawła Piskorskiego', -10505), ('Poprawki proponowane przez pana Pawła Pawła,', -12543)]\n",
            "\n",
            "READY: [('Poprawki proponowane przez pana.', -101800), ('Poprawki proponowane przez pana prezydenta.', -92800), ('Poprawki proponowane przez Pana.', -99000), ('Poprawki proponowane przez Pana Prezydenta.', -92390), ('Poprawki proponowane przez pana prezydenta Pawła.', -112730), ('Poprawki proponowane przez Pana Pawła.', -106350), ('Poprawki proponowane przez pana Pawła.', -110560), ('Poprawki proponowane przez pana prezydenta Pawła Piskorskiego.', -114330), ('Poprawki proponowane przez Pana Prezydenta podyktowane.', -125000), ('Poprawki proponowane przez Pana Prezydenta Pawła.', -111450)]\n"
          ]
        },
        {
          "output_type": "stream",
          "name": "stderr",
          "text": [
            "Setting `pad_token_id` to `eos_token_id`:None for open-end generation.\n"
          ]
        },
        {
          "output_type": "stream",
          "name": "stdout",
          "text": [
            "WYMUSZONY DOT\n",
            "[('Poprawki proponowane przez Pana Pawła', -8732), ('Poprawki proponowane przez Pana Prezydenta Pawła', -9008), ('Poprawki proponowane przez Pana Prezydenta podyktowane', -9573), ('Poprawki proponowane przez pana Pawła Piskorskiego', -9889), ('Poprawki proponowane przez pana prezydenta Pawła Piskorskiego', -10505), ('Poprawki proponowane przez pana Pawła Pawła,', -12543)]\n",
            "sent in prog: [('Poprawki proponowane przez Pana Pawła', -8732), ('Poprawki proponowane przez Pana Prezydenta Pawła', -9008), ('Poprawki proponowane przez Pana Prezydenta podyktowane', -9573), ('Poprawki proponowane przez pana Pawła Piskorskiego', -9889), ('Poprawki proponowane przez pana prezydenta Pawła Piskorskiego', -10505), ('Poprawki proponowane przez pana Pawła Pawła,', -12543)]\n",
            "\n",
            "READY: [('Poprawki proponowane przez pana.', -101800), ('Poprawki proponowane przez pana prezydenta.', -92800), ('Poprawki proponowane przez Pana.', -99000), ('Poprawki proponowane przez Pana Prezydenta.', -92390), ('Poprawki proponowane przez pana prezydenta Pawła.', -112730), ('Poprawki proponowane przez Pana Pawła.', -106350), ('Poprawki proponowane przez pana Pawła.', -110560), ('Poprawki proponowane przez pana prezydenta Pawła Piskorskiego.', -114330), ('Poprawki proponowane przez Pana Prezydenta podyktowane.', -125000), ('Poprawki proponowane przez Pana Prezydenta Pawła.', -111450), ('Poprawki proponowane przez pana Pawła Piskorskiego.', -110070)]\n",
            "NATURALNY DOT\n"
          ]
        },
        {
          "output_type": "stream",
          "name": "stderr",
          "text": [
            "Setting `pad_token_id` to `eos_token_id`:None for open-end generation.\n"
          ]
        },
        {
          "output_type": "stream",
          "name": "stdout",
          "text": [
            "[('Poprawki proponowane przez Pana Pawła', -8732), ('Poprawki proponowane przez Pana Prezydenta Pawła', -9008), ('Poprawki proponowane przez Pana Prezydenta podyktowane', -9573), ('Poprawki proponowane przez pana Pawła Piskorskiego', -9889), ('Poprawki proponowane przez pana Pawła Pawła,', -12543)]\n",
            "sent in prog: [('Poprawki proponowane przez Pana Pawła', -8732), ('Poprawki proponowane przez Pana Prezydenta Pawła', -9008), ('Poprawki proponowane przez Pana Prezydenta podyktowane', -9573), ('Poprawki proponowane przez pana Pawła Piskorskiego', -9889), ('Poprawki proponowane przez pana Pawła Pawła,', -12543)]\n",
            "\n",
            "READY: [('Poprawki proponowane przez pana.', -101800), ('Poprawki proponowane przez pana prezydenta.', -92800), ('Poprawki proponowane przez Pana.', -99000), ('Poprawki proponowane przez Pana Prezydenta.', -92390), ('Poprawki proponowane przez pana prezydenta Pawła.', -112730), ('Poprawki proponowane przez Pana Pawła.', -106350), ('Poprawki proponowane przez pana Pawła.', -110560), ('Poprawki proponowane przez pana prezydenta Pawła Piskorskiego.', -114330), ('Poprawki proponowane przez Pana Prezydenta podyktowane.', -125000), ('Poprawki proponowane przez Pana Prezydenta Pawła.', -111450), ('Poprawki proponowane przez pana Pawła Piskorskiego.', -110070), ('Poprawki proponowane przez pana prezydenta Pawła Piskorskiego pn.', -12621)]\n"
          ]
        },
        {
          "output_type": "stream",
          "name": "stderr",
          "text": [
            "Setting `pad_token_id` to `eos_token_id`:None for open-end generation.\n"
          ]
        },
        {
          "output_type": "stream",
          "name": "stdout",
          "text": [
            "[('Poprawki proponowane przez Pana Pawła', -8732), ('Poprawki proponowane przez Pana Prezydenta Pawła', -9008), ('Poprawki proponowane przez Pana Prezydenta podyktowane', -9573), ('Poprawki proponowane przez pana Pawła Piskorskiego', -9889), ('Poprawki proponowane przez pana Pawła Pawła,', -12543), ('Poprawki proponowane przez pana prezydenta Pawła Piskorskiego PIS-u,', -13841)]\n",
            "sent in prog: [('Poprawki proponowane przez Pana Pawła', -8732), ('Poprawki proponowane przez Pana Prezydenta Pawła', -9008), ('Poprawki proponowane przez Pana Prezydenta podyktowane', -9573), ('Poprawki proponowane przez pana Pawła Piskorskiego', -9889), ('Poprawki proponowane przez pana Pawła Pawła,', -12543), ('Poprawki proponowane przez pana prezydenta Pawła Piskorskiego PIS-u,', -13841)]\n",
            "\n",
            "READY: [('Poprawki proponowane przez pana.', -101800), ('Poprawki proponowane przez pana prezydenta.', -92800), ('Poprawki proponowane przez Pana.', -99000), ('Poprawki proponowane przez Pana Prezydenta.', -92390), ('Poprawki proponowane przez pana prezydenta Pawła.', -112730), ('Poprawki proponowane przez Pana Pawła.', -106350), ('Poprawki proponowane przez pana Pawła.', -110560), ('Poprawki proponowane przez pana prezydenta Pawła Piskorskiego.', -114330), ('Poprawki proponowane przez Pana Prezydenta podyktowane.', -125000), ('Poprawki proponowane przez Pana Prezydenta Pawła.', -111450), ('Poprawki proponowane przez pana Pawła Piskorskiego.', -110070), ('Poprawki proponowane przez pana prezydenta Pawła Piskorskiego pn.', -12621)]\n"
          ]
        },
        {
          "output_type": "stream",
          "name": "stderr",
          "text": [
            "Setting `pad_token_id` to `eos_token_id`:None for open-end generation.\n"
          ]
        },
        {
          "output_type": "stream",
          "name": "stdout",
          "text": [
            "[('Poprawki proponowane przez Pana Pawła', -8732), ('Poprawki proponowane przez Pana Prezydenta Pawła', -9008), ('Poprawki proponowane przez pana Pawła Piskorskiego', -9889), ('Poprawki proponowane przez Pana Prezydenta podyktowane powszechnym', -11247), ('Poprawki proponowane przez Pana Prezydenta podyktowane powszechnym poczuciem', -11646), ('Poprawki proponowane przez pana Pawła Pawła,', -12543), ('Poprawki proponowane przez pana prezydenta Pawła Piskorskiego PIS-u,', -13841)]\n",
            "sent in prog: [('Poprawki proponowane przez Pana Pawła', -8732), ('Poprawki proponowane przez Pana Prezydenta Pawła', -9008), ('Poprawki proponowane przez pana Pawła Piskorskiego', -9889), ('Poprawki proponowane przez Pana Prezydenta podyktowane powszechnym', -11247), ('Poprawki proponowane przez Pana Prezydenta podyktowane powszechnym poczuciem', -11646), ('Poprawki proponowane przez pana Pawła Pawła,', -12543), ('Poprawki proponowane przez pana prezydenta Pawła Piskorskiego PIS-u,', -13841)]\n"
          ]
        },
        {
          "output_type": "stream",
          "name": "stderr",
          "text": [
            "Setting `pad_token_id` to `eos_token_id`:None for open-end generation.\n"
          ]
        },
        {
          "output_type": "stream",
          "name": "stdout",
          "text": [
            "\n",
            "READY: [('Poprawki proponowane przez pana.', -101800), ('Poprawki proponowane przez pana prezydenta.', -92800), ('Poprawki proponowane przez Pana.', -99000), ('Poprawki proponowane przez Pana Prezydenta.', -92390), ('Poprawki proponowane przez pana prezydenta Pawła.', -112730), ('Poprawki proponowane przez Pana Pawła.', -106350), ('Poprawki proponowane przez pana Pawła.', -110560), ('Poprawki proponowane przez pana prezydenta Pawła Piskorskiego.', -114330), ('Poprawki proponowane przez Pana Prezydenta podyktowane.', -125000), ('Poprawki proponowane przez Pana Prezydenta Pawła.', -111450), ('Poprawki proponowane przez pana Pawła Piskorskiego.', -110070), ('Poprawki proponowane przez pana prezydenta Pawła Piskorskiego pn.', -12621)]\n",
            "[('Poprawki proponowane przez Pana Pawła', -8732), ('Poprawki proponowane przez Pana Prezydenta Pawła', -9008), ('Poprawki proponowane przez pana Pawła Piskorskiego', -9889), ('Poprawki proponowane przez Pana Prezydenta podyktowane powszechnym', -11247), ('Poprawki proponowane przez Pana Prezydenta podyktowane powszechnym poczuciem', -11646), ('Poprawki proponowane przez pana Pawła Pawła,', -12543), ('Poprawki proponowane przez pana prezydenta Pawła Piskorskiego PIS-u,', -13841)]\n",
            "sent in prog: [('Poprawki proponowane przez Pana Pawła', -8732), ('Poprawki proponowane przez Pana Prezydenta Pawła', -9008), ('Poprawki proponowane przez pana Pawła Piskorskiego', -9889), ('Poprawki proponowane przez Pana Prezydenta podyktowane powszechnym', -11247), ('Poprawki proponowane przez Pana Prezydenta podyktowane powszechnym poczuciem', -11646), ('Poprawki proponowane przez pana Pawła Pawła,', -12543), ('Poprawki proponowane przez pana prezydenta Pawła Piskorskiego PIS-u,', -13841)]\n"
          ]
        },
        {
          "output_type": "stream",
          "name": "stderr",
          "text": [
            "Setting `pad_token_id` to `eos_token_id`:None for open-end generation.\n"
          ]
        },
        {
          "output_type": "stream",
          "name": "stdout",
          "text": [
            "\n",
            "READY: [('Poprawki proponowane przez pana.', -101800), ('Poprawki proponowane przez pana prezydenta.', -92800), ('Poprawki proponowane przez Pana.', -99000), ('Poprawki proponowane przez Pana Prezydenta.', -92390), ('Poprawki proponowane przez pana prezydenta Pawła.', -112730), ('Poprawki proponowane przez Pana Pawła.', -106350), ('Poprawki proponowane przez pana Pawła.', -110560), ('Poprawki proponowane przez pana prezydenta Pawła Piskorskiego.', -114330), ('Poprawki proponowane przez Pana Prezydenta podyktowane.', -125000), ('Poprawki proponowane przez Pana Prezydenta Pawła.', -111450), ('Poprawki proponowane przez pana Pawła Piskorskiego.', -110070), ('Poprawki proponowane przez pana prezydenta Pawła Piskorskiego pn.', -12621)]\n",
            "[('Poprawki proponowane przez Pana Prezydenta Pawła', -9008), ('Poprawki proponowane przez pana Pawła Piskorskiego', -9889), ('Poprawki proponowane przez Pana Prezydenta podyktowane powszechnym', -11247), ('Poprawki proponowane przez Pana Prezydenta podyktowane powszechnym poczuciem', -11646), ('Poprawki proponowane przez pana Pawła Pawła,', -12543), ('Poprawki proponowane przez pana prezydenta Pawła Piskorskiego PIS-u,', -13841)]\n",
            "sent in prog: [('Poprawki proponowane przez Pana Prezydenta Pawła', -9008), ('Poprawki proponowane przez pana Pawła Piskorskiego', -9889), ('Poprawki proponowane przez Pana Prezydenta podyktowane powszechnym', -11247), ('Poprawki proponowane przez Pana Prezydenta podyktowane powszechnym poczuciem', -11646), ('Poprawki proponowane przez pana Pawła Pawła,', -12543), ('Poprawki proponowane przez pana prezydenta Pawła Piskorskiego PIS-u,', -13841)]\n",
            "\n",
            "READY: [('Poprawki proponowane przez pana.', -101800), ('Poprawki proponowane przez pana prezydenta.', -92800), ('Poprawki proponowane przez Pana.', -99000), ('Poprawki proponowane przez Pana Prezydenta.', -92390), ('Poprawki proponowane przez pana prezydenta Pawła.', -112730), ('Poprawki proponowane przez Pana Pawła.', -106350), ('Poprawki proponowane przez pana Pawła.', -110560), ('Poprawki proponowane przez pana prezydenta Pawła Piskorskiego.', -114330), ('Poprawki proponowane przez Pana Prezydenta podyktowane.', -125000), ('Poprawki proponowane przez Pana Prezydenta Pawła.', -111450), ('Poprawki proponowane przez pana Pawła Piskorskiego.', -110070), ('Poprawki proponowane przez pana prezydenta Pawła Piskorskiego pn.', -12621)]\n"
          ]
        },
        {
          "output_type": "stream",
          "name": "stderr",
          "text": [
            "Setting `pad_token_id` to `eos_token_id`:None for open-end generation.\n"
          ]
        },
        {
          "output_type": "stream",
          "name": "stdout",
          "text": [
            "WYMUSZONY DOT\n",
            "[('Poprawki proponowane przez Pana Prezydenta Pawła', -9008), ('Poprawki proponowane przez Pana Pawła Piskorskiego', -9561), ('Poprawki proponowane przez pana Pawła Piskorskiego', -9889), ('Poprawki proponowane przez Pana Prezydenta podyktowane powszechnym', -11247), ('Poprawki proponowane przez Pana Prezydenta podyktowane powszechnym poczuciem', -11646), ('Poprawki proponowane przez pana Pawła Pawła,', -12543), ('Poprawki proponowane przez pana prezydenta Pawła Piskorskiego PIS-u,', -13841)]\n",
            "sent in prog: [('Poprawki proponowane przez Pana Prezydenta Pawła', -9008), ('Poprawki proponowane przez Pana Pawła Piskorskiego', -9561), ('Poprawki proponowane przez pana Pawła Piskorskiego', -9889), ('Poprawki proponowane przez Pana Prezydenta podyktowane powszechnym', -11247), ('Poprawki proponowane przez Pana Prezydenta podyktowane powszechnym poczuciem', -11646), ('Poprawki proponowane przez pana Pawła Pawła,', -12543), ('Poprawki proponowane przez pana prezydenta Pawła Piskorskiego PIS-u,', -13841)]\n",
            "\n",
            "READY: [('Poprawki proponowane przez pana.', -101800), ('Poprawki proponowane przez pana prezydenta.', -92800), ('Poprawki proponowane przez Pana.', -99000), ('Poprawki proponowane przez Pana Prezydenta.', -92390), ('Poprawki proponowane przez pana prezydenta Pawła.', -112730), ('Poprawki proponowane przez Pana Pawła.', -106350), ('Poprawki proponowane przez pana Pawła.', -110560), ('Poprawki proponowane przez pana prezydenta Pawła Piskorskiego.', -114330), ('Poprawki proponowane przez Pana Prezydenta podyktowane.', -125000), ('Poprawki proponowane przez Pana Prezydenta Pawła.', -111450), ('Poprawki proponowane przez pana Pawła Piskorskiego.', -110070), ('Poprawki proponowane przez pana prezydenta Pawła Piskorskiego pn.', -12621), ('Poprawki proponowane przez Pana Pawła Piskorskiego.', -107130)]\n"
          ]
        },
        {
          "output_type": "stream",
          "name": "stderr",
          "text": [
            "Setting `pad_token_id` to `eos_token_id`:None for open-end generation.\n"
          ]
        },
        {
          "output_type": "stream",
          "name": "stdout",
          "text": [
            "[('Poprawki proponowane przez Pana Prezydenta Pawła', -9008), ('Poprawki proponowane przez Pana Pawła Piskorskiego', -9561), ('Poprawki proponowane przez Pana Prezydenta podyktowane powszechnym', -11247), ('Poprawki proponowane przez Pana Prezydenta podyktowane powszechnym poczuciem', -11646), ('Poprawki proponowane przez pana Pawła Piskorskiego padające', -11902), ('Poprawki proponowane przez pana Pawła Pawła,', -12543), ('Poprawki proponowane przez pana prezydenta Pawła Piskorskiego PIS-u,', -13841)]\n",
            "sent in prog: [('Poprawki proponowane przez Pana Prezydenta Pawła', -9008), ('Poprawki proponowane przez Pana Pawła Piskorskiego', -9561), ('Poprawki proponowane przez Pana Prezydenta podyktowane powszechnym', -11247), ('Poprawki proponowane przez Pana Prezydenta podyktowane powszechnym poczuciem', -11646), ('Poprawki proponowane przez pana Pawła Piskorskiego padające', -11902), ('Poprawki proponowane przez pana Pawła Pawła,', -12543), ('Poprawki proponowane przez pana prezydenta Pawła Piskorskiego PIS-u,', -13841)]\n",
            "\n",
            "READY: [('Poprawki proponowane przez pana.', -101800), ('Poprawki proponowane przez pana prezydenta.', -92800), ('Poprawki proponowane przez Pana.', -99000), ('Poprawki proponowane przez Pana Prezydenta.', -92390), ('Poprawki proponowane przez pana prezydenta Pawła.', -112730), ('Poprawki proponowane przez Pana Pawła.', -106350), ('Poprawki proponowane przez pana Pawła.', -110560), ('Poprawki proponowane przez pana prezydenta Pawła Piskorskiego.', -114330), ('Poprawki proponowane przez Pana Prezydenta podyktowane.', -125000), ('Poprawki proponowane przez Pana Prezydenta Pawła.', -111450), ('Poprawki proponowane przez pana Pawła Piskorskiego.', -110070), ('Poprawki proponowane przez pana prezydenta Pawła Piskorskiego pn.', -12621), ('Poprawki proponowane przez Pana Pawła Piskorskiego.', -107130)]\n"
          ]
        },
        {
          "output_type": "stream",
          "name": "stderr",
          "text": [
            "Setting `pad_token_id` to `eos_token_id`:None for open-end generation.\n"
          ]
        },
        {
          "output_type": "stream",
          "name": "stdout",
          "text": [
            "[('Poprawki proponowane przez Pana Prezydenta Pawła', -9008), ('Poprawki proponowane przez Pana Pawła Piskorskiego', -9561), ('Poprawki proponowane przez Pana Prezydenta podyktowane powszechnym', -11247), ('Poprawki proponowane przez Pana Prezydenta podyktowane powszechnym poczuciem', -11646), ('Poprawki proponowane przez pana Pawła Piskorskiego padające', -11902), ('Poprawki proponowane przez pana Pawła Piskorskiego Poseł', -12040), ('Poprawki proponowane przez pana Pawła Pawła,', -12543), ('Poprawki proponowane przez pana prezydenta Pawła Piskorskiego PIS-u,', -13841)]\n",
            "sent in prog: [('Poprawki proponowane przez Pana Prezydenta Pawła', -9008), ('Poprawki proponowane przez Pana Pawła Piskorskiego', -9561), ('Poprawki proponowane przez Pana Prezydenta podyktowane powszechnym', -11247), ('Poprawki proponowane przez Pana Prezydenta podyktowane powszechnym poczuciem', -11646), ('Poprawki proponowane przez pana Pawła Piskorskiego padające', -11902), ('Poprawki proponowane przez pana Pawła Piskorskiego Poseł', -12040), ('Poprawki proponowane przez pana Pawła Pawła,', -12543)]\n"
          ]
        },
        {
          "output_type": "stream",
          "name": "stderr",
          "text": [
            "Setting `pad_token_id` to `eos_token_id`:None for open-end generation.\n"
          ]
        },
        {
          "output_type": "stream",
          "name": "stdout",
          "text": [
            "\n",
            "READY: [('Poprawki proponowane przez pana.', -101800), ('Poprawki proponowane przez pana prezydenta.', -92800), ('Poprawki proponowane przez Pana.', -99000), ('Poprawki proponowane przez Pana Prezydenta.', -92390), ('Poprawki proponowane przez pana prezydenta Pawła.', -112730), ('Poprawki proponowane przez Pana Pawła.', -106350), ('Poprawki proponowane przez pana Pawła.', -110560), ('Poprawki proponowane przez pana prezydenta Pawła Piskorskiego.', -114330), ('Poprawki proponowane przez Pana Prezydenta podyktowane.', -125000), ('Poprawki proponowane przez Pana Prezydenta Pawła.', -111450), ('Poprawki proponowane przez pana Pawła Piskorskiego.', -110070), ('Poprawki proponowane przez pana prezydenta Pawła Piskorskiego pn.', -12621), ('Poprawki proponowane przez Pana Pawła Piskorskiego.', -107130)]\n",
            "[('Poprawki proponowane przez Pana Prezydenta Pawła', -9008), ('Poprawki proponowane przez Pana Pawła Piskorskiego', -9561), ('Poprawki proponowane przez Pana Prezydenta podyktowane powszechnym poczuciem', -11646), ('Poprawki proponowane przez pana Pawła Piskorskiego padające', -11902), ('Poprawki proponowane przez pana Pawła Piskorskiego Poseł', -12040), ('Poprawki proponowane przez pana Pawła Pawła,', -12543)]\n",
            "sent in prog: [('Poprawki proponowane przez Pana Prezydenta Pawła', -9008), ('Poprawki proponowane przez Pana Pawła Piskorskiego', -9561), ('Poprawki proponowane przez Pana Prezydenta podyktowane powszechnym poczuciem', -11646), ('Poprawki proponowane przez pana Pawła Piskorskiego padające', -11902), ('Poprawki proponowane przez pana Pawła Piskorskiego Poseł', -12040), ('Poprawki proponowane przez pana Pawła Pawła,', -12543)]\n"
          ]
        },
        {
          "output_type": "stream",
          "name": "stderr",
          "text": [
            "Setting `pad_token_id` to `eos_token_id`:None for open-end generation.\n"
          ]
        },
        {
          "output_type": "stream",
          "name": "stdout",
          "text": [
            "\n",
            "READY: [('Poprawki proponowane przez pana.', -101800), ('Poprawki proponowane przez pana prezydenta.', -92800), ('Poprawki proponowane przez Pana.', -99000), ('Poprawki proponowane przez Pana Prezydenta.', -92390), ('Poprawki proponowane przez pana prezydenta Pawła.', -112730), ('Poprawki proponowane przez Pana Pawła.', -106350), ('Poprawki proponowane przez pana Pawła.', -110560), ('Poprawki proponowane przez pana prezydenta Pawła Piskorskiego.', -114330), ('Poprawki proponowane przez Pana Prezydenta podyktowane.', -125000), ('Poprawki proponowane przez Pana Prezydenta Pawła.', -111450), ('Poprawki proponowane przez pana Pawła Piskorskiego.', -110070), ('Poprawki proponowane przez pana prezydenta Pawła Piskorskiego pn.', -12621), ('Poprawki proponowane przez Pana Pawła Piskorskiego.', -107130)]\n",
            "[('Poprawki proponowane przez Pana Prezydenta Pawła', -9008), ('Poprawki proponowane przez Pana Pawła Piskorskiego', -9561), ('Poprawki proponowane przez Pana Prezydenta podyktowane powszechnym poczuciem', -11646), ('Poprawki proponowane przez pana Pawła Piskorskiego padające', -11902), ('Poprawki proponowane przez pana Pawła Piskorskiego Poseł', -12040), ('Poprawki proponowane przez pana Pawła Pawła,', -12543)]\n",
            "sent in prog: [('Poprawki proponowane przez Pana Prezydenta Pawła', -9008), ('Poprawki proponowane przez Pana Pawła Piskorskiego', -9561), ('Poprawki proponowane przez Pana Prezydenta podyktowane powszechnym poczuciem', -11646), ('Poprawki proponowane przez pana Pawła Piskorskiego padające', -11902), ('Poprawki proponowane przez pana Pawła Piskorskiego Poseł', -12040), ('Poprawki proponowane przez pana Pawła Pawła,', -12543)]\n"
          ]
        },
        {
          "output_type": "stream",
          "name": "stderr",
          "text": [
            "Setting `pad_token_id` to `eos_token_id`:None for open-end generation.\n"
          ]
        },
        {
          "output_type": "stream",
          "name": "stdout",
          "text": [
            "\n",
            "READY: [('Poprawki proponowane przez pana.', -101800), ('Poprawki proponowane przez pana prezydenta.', -92800), ('Poprawki proponowane przez Pana.', -99000), ('Poprawki proponowane przez Pana Prezydenta.', -92390), ('Poprawki proponowane przez pana prezydenta Pawła.', -112730), ('Poprawki proponowane przez Pana Pawła.', -106350), ('Poprawki proponowane przez pana Pawła.', -110560), ('Poprawki proponowane przez pana prezydenta Pawła Piskorskiego.', -114330), ('Poprawki proponowane przez Pana Prezydenta podyktowane.', -125000), ('Poprawki proponowane przez Pana Prezydenta Pawła.', -111450), ('Poprawki proponowane przez pana Pawła Piskorskiego.', -110070), ('Poprawki proponowane przez pana prezydenta Pawła Piskorskiego pn.', -12621), ('Poprawki proponowane przez Pana Pawła Piskorskiego.', -107130)]\n",
            "[('Poprawki proponowane przez Pana Prezydenta Pawła', -9008), ('Poprawki proponowane przez Pana Pawła Piskorskiego', -9561), ('Poprawki proponowane przez pana Pawła Piskorskiego padające', -11902), ('Poprawki proponowane przez pana Pawła Piskorskiego Poseł', -12040), ('Poprawki proponowane przez pana Pawła Pawła,', -12543)]\n",
            "sent in prog: [('Poprawki proponowane przez Pana Prezydenta Pawła', -9008), ('Poprawki proponowane przez Pana Pawła Piskorskiego', -9561), ('Poprawki proponowane przez pana Pawła Piskorskiego padające', -11902), ('Poprawki proponowane przez pana Pawła Piskorskiego Poseł', -12040), ('Poprawki proponowane przez pana Pawła Pawła,', -12543)]\n"
          ]
        },
        {
          "output_type": "stream",
          "name": "stderr",
          "text": [
            "Setting `pad_token_id` to `eos_token_id`:None for open-end generation.\n"
          ]
        },
        {
          "output_type": "stream",
          "name": "stdout",
          "text": [
            "\n",
            "READY: [('Poprawki proponowane przez pana.', -101800), ('Poprawki proponowane przez pana prezydenta.', -92800), ('Poprawki proponowane przez Pana.', -99000), ('Poprawki proponowane przez Pana Prezydenta.', -92390), ('Poprawki proponowane przez pana prezydenta Pawła.', -112730), ('Poprawki proponowane przez Pana Pawła.', -106350), ('Poprawki proponowane przez pana Pawła.', -110560), ('Poprawki proponowane przez pana prezydenta Pawła Piskorskiego.', -114330), ('Poprawki proponowane przez Pana Prezydenta podyktowane.', -125000), ('Poprawki proponowane przez Pana Prezydenta Pawła.', -111450), ('Poprawki proponowane przez pana Pawła Piskorskiego.', -110070), ('Poprawki proponowane przez pana prezydenta Pawła Piskorskiego pn.', -12621), ('Poprawki proponowane przez Pana Pawła Piskorskiego.', -107130)]\n",
            "[('Poprawki proponowane przez Pana Prezydenta Pawła', -9008), ('Poprawki proponowane przez Pana Pawła Piskorskiego', -9561), ('Poprawki proponowane przez pana Pawła Piskorskiego padające', -11902), ('Poprawki proponowane przez pana Pawła Piskorskiego Poseł', -12040), ('Poprawki proponowane przez pana Pawła Pawła,', -12543)]\n",
            "sent in prog: [('Poprawki proponowane przez Pana Prezydenta Pawła', -9008), ('Poprawki proponowane przez Pana Pawła Piskorskiego', -9561), ('Poprawki proponowane przez pana Pawła Piskorskiego padające', -11902), ('Poprawki proponowane przez pana Pawła Piskorskiego Poseł', -12040), ('Poprawki proponowane przez pana Pawła Pawła,', -12543)]\n"
          ]
        },
        {
          "output_type": "stream",
          "name": "stderr",
          "text": [
            "Setting `pad_token_id` to `eos_token_id`:None for open-end generation.\n"
          ]
        },
        {
          "output_type": "stream",
          "name": "stdout",
          "text": [
            "\n",
            "READY: [('Poprawki proponowane przez pana.', -101800), ('Poprawki proponowane przez pana prezydenta.', -92800), ('Poprawki proponowane przez Pana.', -99000), ('Poprawki proponowane przez Pana Prezydenta.', -92390), ('Poprawki proponowane przez pana prezydenta Pawła.', -112730), ('Poprawki proponowane przez Pana Pawła.', -106350), ('Poprawki proponowane przez pana Pawła.', -110560), ('Poprawki proponowane przez pana prezydenta Pawła Piskorskiego.', -114330), ('Poprawki proponowane przez Pana Prezydenta podyktowane.', -125000), ('Poprawki proponowane przez Pana Prezydenta Pawła.', -111450), ('Poprawki proponowane przez pana Pawła Piskorskiego.', -110070), ('Poprawki proponowane przez pana prezydenta Pawła Piskorskiego pn.', -12621), ('Poprawki proponowane przez Pana Pawła Piskorskiego.', -107130)]\n",
            "[('Poprawki proponowane przez Pana Prezydenta Pawła', -9008), ('Poprawki proponowane przez Pana Pawła Piskorskiego', -9561), ('Poprawki proponowane przez pana Pawła Piskorskiego padające', -11902), ('Poprawki proponowane przez pana Pawła Piskorskiego Poseł', -12040)]\n",
            "sent in prog: [('Poprawki proponowane przez Pana Prezydenta Pawła', -9008), ('Poprawki proponowane przez Pana Pawła Piskorskiego', -9561), ('Poprawki proponowane przez pana Pawła Piskorskiego padające', -11902), ('Poprawki proponowane przez pana Pawła Piskorskiego Poseł', -12040)]\n",
            "\n",
            "READY: [('Poprawki proponowane przez pana.', -101800), ('Poprawki proponowane przez pana prezydenta.', -92800), ('Poprawki proponowane przez Pana.', -99000), ('Poprawki proponowane przez Pana Prezydenta.', -92390), ('Poprawki proponowane przez pana prezydenta Pawła.', -112730), ('Poprawki proponowane przez Pana Pawła.', -106350), ('Poprawki proponowane przez pana Pawła.', -110560), ('Poprawki proponowane przez pana prezydenta Pawła Piskorskiego.', -114330), ('Poprawki proponowane przez Pana Prezydenta podyktowane.', -125000), ('Poprawki proponowane przez Pana Prezydenta Pawła.', -111450), ('Poprawki proponowane przez pana Pawła Piskorskiego.', -110070), ('Poprawki proponowane przez pana prezydenta Pawła Piskorskiego pn.', -12621), ('Poprawki proponowane przez Pana Pawła Piskorskiego.', -107130)]\n",
            "[('Poprawki proponowane przez Pana Prezydenta Pawła', -9008), ('Poprawki proponowane przez Pana Pawła Piskorskiego', -9561), ('Poprawki proponowane przez pana Pawła Piskorskiego padające', -11902), ('Poprawki proponowane przez pana Pawła Piskorskiego Poseł', -12040), ('Poprawki proponowane przez pana Pawła Pawła, Paweł', -14091), ('Poprawki proponowane przez pana Pawła Pawła, Paweł Pawła,', -14260)]\n",
            "sent in prog: [('Poprawki proponowane przez Pana Prezydenta Pawła', -9008), ('Poprawki proponowane przez Pana Pawła Piskorskiego', -9561), ('Poprawki proponowane przez pana Pawła Piskorskiego padające', -11902), ('Poprawki proponowane przez pana Pawła Piskorskiego Poseł', -12040), ('Poprawki proponowane przez pana Pawła Pawła, Paweł', -14091), ('Poprawki proponowane przez pana Pawła Pawła, Paweł Pawła,', -14260)]\n",
            "ERROR: [('Poprawki proponowane przez Pana Prezydenta Pawła', -9008), ('Poprawki proponowane przez Pana Pawła Piskorskiego', -9561), ('Poprawki proponowane przez pana Pawła Piskorskiego padające', -11902), ('Poprawki proponowane przez pana Pawła Piskorskiego Poseł', -12040), ('Poprawki proponowane przez pana Pawła Pawła, Paweł', -14091), ('Poprawki proponowane przez pana Pawła Pawła, Paweł Pawła,', -14260)], Poprawki proponowane przez pana prezydenta Pawła Piskorskiego PIS-u,, -13841\n"
          ]
        }
      ]
    },
    {
      "cell_type": "code",
      "source": [
        "out1"
      ],
      "metadata": {
        "colab": {
          "base_uri": "https://localhost:8080/"
        },
        "id": "dlDuoo5F8Ly6",
        "outputId": "5109912d-3c74-450f-b616-8914e15255bd"
      },
      "execution_count": 70,
      "outputs": [
        {
          "output_type": "execute_result",
          "data": {
            "text/plain": [
              "[('Poprawki proponowane przez pana prezydenta Pawła Piskorskiego pn.', -12621),\n",
              " ('Poprawki proponowane przez Pana Prezydenta.', -92390),\n",
              " ('Poprawki proponowane przez pana prezydenta.', -92800),\n",
              " ('Poprawki proponowane przez Pana.', -99000),\n",
              " ('Poprawki proponowane przez pana.', -101800),\n",
              " ('Poprawki proponowane przez Pana Pawła.', -106350),\n",
              " ('Poprawki proponowane przez Pana Pawła Piskorskiego.', -107130),\n",
              " ('Poprawki proponowane przez pana Pawła Piskorskiego.', -110070),\n",
              " ('Poprawki proponowane przez pana Pawła.', -110560),\n",
              " ('Poprawki proponowane przez Pana Prezydenta Pawła.', -111450),\n",
              " ('Poprawki proponowane przez pana prezydenta Pawła.', -112730),\n",
              " ('Poprawki proponowane przez pana prezydenta Pawła Piskorskiego.', -114330),\n",
              " ('Poprawki proponowane przez Pana Prezydenta podyktowane.', -125000)]"
            ]
          },
          "metadata": {},
          "execution_count": 70
        }
      ]
    },
    {
      "cell_type": "code",
      "source": [
        "out2 = generate_one_letter_sentences()\n"
      ],
      "metadata": {
        "colab": {
          "base_uri": "https://localhost:8080/"
        },
        "id": "4IHv1Daa97fr",
        "outputId": "2a47fa11-e916-4797-fe99-8da1015c864a"
      },
      "execution_count": 73,
      "outputs": [
        {
          "output_type": "stream",
          "name": "stderr",
          "text": [
            "Setting `pad_token_id` to `eos_token_id`:None for open-end generation.\n",
            "Setting `pad_token_id` to `eos_token_id`:None for open-end generation.\n"
          ]
        },
        {
          "output_type": "stream",
          "name": "stdout",
          "text": [
            "\n",
            "READY: []\n",
            "[]\n",
            "sent in prog: []\n",
            "\n",
            "READY: []\n"
          ]
        },
        {
          "output_type": "stream",
          "name": "stderr",
          "text": [
            "Setting `pad_token_id` to `eos_token_id`:None for open-end generation.\n"
          ]
        },
        {
          "output_type": "stream",
          "name": "stdout",
          "text": [
            "WYMUSZONY DOT\n",
            "[('Przywołuję panią poseł Pawłowicz', -10675)]\n",
            "sent in prog: [('Przywołuję panią poseł Pawłowicz', -10675)]\n",
            "\n",
            "READY: [('Przywołuję panią poseł Pawłowicz.', -114390)]\n"
          ]
        },
        {
          "output_type": "stream",
          "name": "stderr",
          "text": [
            "Setting `pad_token_id` to `eos_token_id`:None for open-end generation.\n"
          ]
        },
        {
          "output_type": "stream",
          "name": "stdout",
          "text": [
            "[('Przywołuję panią poseł Pawłowicz posłankę', -12580), ('Przywołuję panią poseł Pawłowicz posłankę Pawłowicz,', -13666)]\n",
            "sent in prog: [('Przywołuję panią poseł Pawłowicz posłankę', -12580), ('Przywołuję panią poseł Pawłowicz posłankę Pawłowicz,', -13666)]\n",
            "\n",
            "READY: [('Przywołuję panią poseł Pawłowicz.', -114390)]\n"
          ]
        },
        {
          "output_type": "stream",
          "name": "stderr",
          "text": [
            "Setting `pad_token_id` to `eos_token_id`:None for open-end generation.\n"
          ]
        },
        {
          "output_type": "stream",
          "name": "stdout",
          "text": [
            "[('Przywołuję panią poseł Pawłowicz posłankę', -12580), ('Przywołuję panią poseł Pawłowicz posłankę', -12580), ('Przywołuję panią poseł Pawłowicz posłankę Pawłowicz,', -13666), ('Przywołuję panią poseł Pawłowicz posłankę Pawłowicz,', -13666)]\n",
            "sent in prog: [('Przywołuję panią poseł Pawłowicz posłankę', -12580), ('Przywołuję panią poseł Pawłowicz posłankę', -12580), ('Przywołuję panią poseł Pawłowicz posłankę Pawłowicz,', -13666), ('Przywołuję panią poseł Pawłowicz posłankę Pawłowicz,', -13666)]\n"
          ]
        },
        {
          "output_type": "stream",
          "name": "stderr",
          "text": [
            "Setting `pad_token_id` to `eos_token_id`:None for open-end generation.\n"
          ]
        },
        {
          "output_type": "stream",
          "name": "stdout",
          "text": [
            "\n",
            "READY: [('Przywołuję panią poseł Pawłowicz.', -114390)]\n",
            "[('Przywołuję panią poseł Pawłowicz posłankę', -12580), ('Przywołuję panią poseł Pawłowicz posłankę', -12580), ('Przywołuję panią poseł Pawłowicz posłankę Pawłowicz,', -13666)]\n",
            "sent in prog: [('Przywołuję panią poseł Pawłowicz posłankę', -12580), ('Przywołuję panią poseł Pawłowicz posłankę', -12580), ('Przywołuję panią poseł Pawłowicz posłankę Pawłowicz,', -13666)]\n"
          ]
        },
        {
          "output_type": "stream",
          "name": "stderr",
          "text": [
            "Setting `pad_token_id` to `eos_token_id`:None for open-end generation.\n"
          ]
        },
        {
          "output_type": "stream",
          "name": "stdout",
          "text": [
            "\n",
            "READY: [('Przywołuję panią poseł Pawłowicz.', -114390)]\n",
            "[('Przywołuję panią poseł Pawłowicz posłankę', -12580), ('Przywołuję panią poseł Pawłowicz posłankę', -12580), ('Przywołuję panią poseł Pawłowicz posłankę Pawłowicz,', -13666)]\n",
            "sent in prog: [('Przywołuję panią poseł Pawłowicz posłankę', -12580), ('Przywołuję panią poseł Pawłowicz posłankę', -12580), ('Przywołuję panią poseł Pawłowicz posłankę Pawłowicz,', -13666)]\n",
            "\n",
            "READY: [('Przywołuję panią poseł Pawłowicz.', -114390)]\n"
          ]
        },
        {
          "output_type": "stream",
          "name": "stderr",
          "text": [
            "Setting `pad_token_id` to `eos_token_id`:None for open-end generation.\n"
          ]
        },
        {
          "output_type": "stream",
          "name": "stdout",
          "text": [
            "[('Przywołuję panią poseł Pawłowicz posłankę', -12580), ('Przywołuję panią poseł Pawłowicz posłankę Pawłowicz,', -13666), ('Przywołuję panią poseł Pawłowicz posłankę Pawłowicz,', -13666)]\n",
            "sent in prog: [('Przywołuję panią poseł Pawłowicz posłankę', -12580), ('Przywołuję panią poseł Pawłowicz posłankę Pawłowicz,', -13666), ('Przywołuję panią poseł Pawłowicz posłankę Pawłowicz,', -13666)]\n",
            "\n",
            "READY: [('Przywołuję panią poseł Pawłowicz.', -114390)]\n"
          ]
        },
        {
          "output_type": "stream",
          "name": "stderr",
          "text": [
            "Setting `pad_token_id` to `eos_token_id`:None for open-end generation.\n"
          ]
        },
        {
          "output_type": "stream",
          "name": "stdout",
          "text": [
            "[('Przywołuję panią poseł Pawłowicz posłankę', -12580), ('Przywołuję panią poseł Pawłowicz posłankę Prawa', -13051), ('Przywołuję panią poseł Pawłowicz posłankę Pawłowicz,', -13666), ('Przywołuję panią poseł Pawłowicz posłankę Pawłowicz,', -13666)]\n",
            "sent in prog: [('Przywołuję panią poseł Pawłowicz posłankę', -12580), ('Przywołuję panią poseł Pawłowicz posłankę Prawa', -13051), ('Przywołuję panią poseł Pawłowicz posłankę Pawłowicz,', -13666), ('Przywołuję panią poseł Pawłowicz posłankę Pawłowicz,', -13666)]\n"
          ]
        },
        {
          "output_type": "stream",
          "name": "stderr",
          "text": [
            "Setting `pad_token_id` to `eos_token_id`:None for open-end generation.\n"
          ]
        },
        {
          "output_type": "stream",
          "name": "stdout",
          "text": [
            "\n",
            "READY: [('Przywołuję panią poseł Pawłowicz.', -114390)]\n",
            "[('Przywołuję panią poseł Pawłowicz posłankę', -12580), ('Przywołuję panią poseł Pawłowicz posłankę Prawa', -13051), ('Przywołuję panią poseł Pawłowicz posłankę Pawłowicz,', -13666)]\n",
            "sent in prog: [('Przywołuję panią poseł Pawłowicz posłankę', -12580), ('Przywołuję panią poseł Pawłowicz posłankę Prawa', -13051), ('Przywołuję panią poseł Pawłowicz posłankę Pawłowicz,', -13666)]\n"
          ]
        },
        {
          "output_type": "stream",
          "name": "stderr",
          "text": [
            "Setting `pad_token_id` to `eos_token_id`:None for open-end generation.\n"
          ]
        },
        {
          "output_type": "stream",
          "name": "stdout",
          "text": [
            "\n",
            "READY: [('Przywołuję panią poseł Pawłowicz.', -114390)]\n",
            "[('Przywołuję panią poseł Pawłowicz posłankę', -12580), ('Przywołuję panią poseł Pawłowicz posłankę Prawa', -13051), ('Przywołuję panią poseł Pawłowicz posłankę Pawłowicz,', -13666)]\n",
            "sent in prog: [('Przywołuję panią poseł Pawłowicz posłankę', -12580), ('Przywołuję panią poseł Pawłowicz posłankę Prawa', -13051), ('Przywołuję panią poseł Pawłowicz posłankę Pawłowicz,', -13666)]\n"
          ]
        },
        {
          "output_type": "stream",
          "name": "stderr",
          "text": [
            "Setting `pad_token_id` to `eos_token_id`:None for open-end generation.\n"
          ]
        },
        {
          "output_type": "stream",
          "name": "stdout",
          "text": [
            "\n",
            "READY: [('Przywołuję panią poseł Pawłowicz.', -114390)]\n",
            "[('Przywołuję panią poseł Pawłowicz posłankę', -12580), ('Przywołuję panią poseł Pawłowicz posłankę Prawa', -13051)]\n",
            "sent in prog: [('Przywołuję panią poseł Pawłowicz posłankę', -12580), ('Przywołuję panią poseł Pawłowicz posłankę Prawa', -13051)]\n"
          ]
        },
        {
          "output_type": "stream",
          "name": "stderr",
          "text": [
            "Setting `pad_token_id` to `eos_token_id`:None for open-end generation.\n"
          ]
        },
        {
          "output_type": "stream",
          "name": "stdout",
          "text": [
            "\n",
            "READY: [('Przywołuję panią poseł Pawłowicz.', -114390)]\n",
            "[('Przywołuję panią poseł Pawłowicz posłankę', -12580), ('Przywołuję panią poseł Pawłowicz posłankę Prawa', -13051)]\n",
            "sent in prog: [('Przywołuję panią poseł Pawłowicz posłankę', -12580), ('Przywołuję panią poseł Pawłowicz posłankę Prawa', -13051)]\n"
          ]
        },
        {
          "output_type": "stream",
          "name": "stderr",
          "text": [
            "Setting `pad_token_id` to `eos_token_id`:None for open-end generation.\n"
          ]
        },
        {
          "output_type": "stream",
          "name": "stdout",
          "text": [
            "\n",
            "READY: [('Przywołuję panią poseł Pawłowicz.', -114390)]\n",
            "[('Przywołuję panią poseł Pawłowicz posłankę Prawa', -13051)]\n",
            "sent in prog: [('Przywołuję panią poseł Pawłowicz posłankę Prawa', -13051)]\n",
            "\n",
            "READY: [('Przywołuję panią poseł Pawłowicz.', -114390)]\n"
          ]
        },
        {
          "output_type": "stream",
          "name": "stderr",
          "text": [
            "Setting `pad_token_id` to `eos_token_id`:None for open-end generation.\n"
          ]
        },
        {
          "output_type": "stream",
          "name": "stdout",
          "text": [
            "[('Przywołuję panią poseł Pawłowicz posłankę Prawa', -13051), ('Przywołuję panią poseł Pawłowicz posłankę Prawa', -13051)]\n",
            "sent in prog: [('Przywołuję panią poseł Pawłowicz posłankę Prawa', -13051), ('Przywołuję panią poseł Pawłowicz posłankę Prawa', -13051)]\n",
            "\n",
            "READY: [('Przywołuję panią poseł Pawłowicz.', -114390)]\n"
          ]
        },
        {
          "output_type": "stream",
          "name": "stderr",
          "text": [
            "Setting `pad_token_id` to `eos_token_id`:None for open-end generation.\n"
          ]
        },
        {
          "output_type": "stream",
          "name": "stdout",
          "text": [
            "[('Przywołuję panią poseł Pawłowicz posłankę Prawa', -13051), ('Przywołuję panią poseł Pawłowicz posłankę Prawa pracy', -15663)]\n",
            "sent in prog: [('Przywołuję panią poseł Pawłowicz posłankę Prawa', -13051), ('Przywołuję panią poseł Pawłowicz posłankę Prawa pracy', -15663)]\n"
          ]
        },
        {
          "output_type": "stream",
          "name": "stderr",
          "text": [
            "Setting `pad_token_id` to `eos_token_id`:None for open-end generation.\n"
          ]
        },
        {
          "output_type": "stream",
          "name": "stdout",
          "text": [
            "\n",
            "READY: [('Przywołuję panią poseł Pawłowicz.', -114390)]\n",
            "[('Przywołuję panią poseł Pawłowicz posłankę Prawa', -13051), ('Przywołuję panią poseł Pawłowicz posłankę Prawa pracy', -15663)]\n",
            "sent in prog: [('Przywołuję panią poseł Pawłowicz posłankę Prawa', -13051), ('Przywołuję panią poseł Pawłowicz posłankę Prawa pracy', -15663)]\n"
          ]
        },
        {
          "output_type": "stream",
          "name": "stderr",
          "text": [
            "Setting `pad_token_id` to `eos_token_id`:None for open-end generation.\n"
          ]
        },
        {
          "output_type": "stream",
          "name": "stdout",
          "text": [
            "\n",
            "READY: [('Przywołuję panią poseł Pawłowicz.', -114390)]\n",
            "[('Przywołuję panią poseł Pawłowicz posłankę Prawa', -13051)]\n",
            "sent in prog: [('Przywołuję panią poseł Pawłowicz posłankę Prawa', -13051)]\n",
            "\n",
            "READY: [('Przywołuję panią poseł Pawłowicz.', -114390)]\n"
          ]
        },
        {
          "output_type": "stream",
          "name": "stderr",
          "text": [
            "Setting `pad_token_id` to `eos_token_id`:None for open-end generation.\n"
          ]
        },
        {
          "output_type": "stream",
          "name": "stdout",
          "text": [
            "[('Przywołuję panią poseł Pawłowicz posłankę Prawa', -13051), ('Przywołuję panią poseł Pawłowicz posłankę Prawa pracy Pawłowicz,', -17056)]\n",
            "sent in prog: [('Przywołuję panią poseł Pawłowicz posłankę Prawa', -13051), ('Przywołuję panią poseł Pawłowicz posłankę Prawa pracy Pawłowicz,', -17056)]\n",
            "\n",
            "READY: [('Przywołuję panią poseł Pawłowicz.', -114390)]\n"
          ]
        },
        {
          "output_type": "stream",
          "name": "stderr",
          "text": [
            "Setting `pad_token_id` to `eos_token_id`:None for open-end generation.\n"
          ]
        },
        {
          "output_type": "stream",
          "name": "stdout",
          "text": [
            "[('Przywołuję panią poseł Pawłowicz posłankę Prawa pracy,', -16044), ('Przywołuję panią poseł Pawłowicz posłankę Prawa pracy Pawłowicz,', -17056)]\n",
            "sent in prog: [('Przywołuję panią poseł Pawłowicz posłankę Prawa pracy,', -16044), ('Przywołuję panią poseł Pawłowicz posłankę Prawa pracy Pawłowicz,', -17056)]\n",
            "\n",
            "READY: [('Przywołuję panią poseł Pawłowicz.', -114390)]\n"
          ]
        },
        {
          "output_type": "stream",
          "name": "stderr",
          "text": [
            "Setting `pad_token_id` to `eos_token_id`:None for open-end generation.\n"
          ]
        },
        {
          "output_type": "stream",
          "name": "stdout",
          "text": [
            "[('Przywołuję panią poseł Pawłowicz posłankę Prawa pracy,', -16044), ('Przywołuję panią poseł Pawłowicz posłankę Prawa Prawicy,', -16318), ('Przywołuję panią poseł Pawłowicz posłankę Prawa pracy Pawłowicz,', -17056)]\n",
            "sent in prog: [('Przywołuję panią poseł Pawłowicz posłankę Prawa pracy,', -16044), ('Przywołuję panią poseł Pawłowicz posłankę Prawa Prawicy,', -16318), ('Przywołuję panią poseł Pawłowicz posłankę Prawa pracy Pawłowicz,', -17056)]\n",
            "\n",
            "READY: [('Przywołuję panią poseł Pawłowicz.', -114390)]\n"
          ]
        },
        {
          "output_type": "stream",
          "name": "stderr",
          "text": [
            "Setting `pad_token_id` to `eos_token_id`:None for open-end generation.\n"
          ]
        },
        {
          "output_type": "stream",
          "name": "stdout",
          "text": [
            "[('Przywołuję panią poseł Pawłowicz posłankę Prawa Prawicy,', -16318), ('Przywołuję panią poseł Pawłowicz posłankę Prawa pracy Pawłowicz,', -17056), ('Przywołuję panią poseł Pawłowicz posłankę Prawa pracy, Pawłowicz,', -17427)]\n",
            "sent in prog: [('Przywołuję panią poseł Pawłowicz posłankę Prawa Prawicy,', -16318), ('Przywołuję panią poseł Pawłowicz posłankę Prawa pracy Pawłowicz,', -17056), ('Przywołuję panią poseł Pawłowicz posłankę Prawa pracy, Pawłowicz,', -17427)]\n"
          ]
        },
        {
          "output_type": "stream",
          "name": "stderr",
          "text": [
            "Setting `pad_token_id` to `eos_token_id`:None for open-end generation.\n"
          ]
        },
        {
          "output_type": "stream",
          "name": "stdout",
          "text": [
            "\n",
            "READY: [('Przywołuję panią poseł Pawłowicz.', -114390)]\n",
            "[('Przywołuję panią poseł Pawłowicz posłankę Prawa Prawicy,', -16318), ('Przywołuję panią poseł Pawłowicz posłankę Prawa pracy Pawłowicz,', -17056), ('Przywołuję panią poseł Pawłowicz posłankę Prawa pracy, Pawłowicz,', -17427)]\n",
            "sent in prog: [('Przywołuję panią poseł Pawłowicz posłankę Prawa Prawicy,', -16318), ('Przywołuję panią poseł Pawłowicz posłankę Prawa pracy Pawłowicz,', -17056), ('Przywołuję panią poseł Pawłowicz posłankę Prawa pracy, Pawłowicz,', -17427)]\n",
            "\n",
            "READY: [('Przywołuję panią poseł Pawłowicz.', -114390)]\n"
          ]
        },
        {
          "output_type": "stream",
          "name": "stderr",
          "text": [
            "Setting `pad_token_id` to `eos_token_id`:None for open-end generation.\n"
          ]
        },
        {
          "output_type": "stream",
          "name": "stdout",
          "text": [
            "[('Przywołuję panią poseł Pawłowicz posłankę Prawa pracy Pawłowicz,', -17056), ('Przywołuję panią poseł Pawłowicz posłankę Prawa pracy, Pawłowicz,', -17427), ('Przywołuję panią poseł Pawłowicz posłankę Prawa Prawicy, PiS,', -17894)]\n",
            "sent in prog: [('Przywołuję panią poseł Pawłowicz posłankę Prawa pracy Pawłowicz,', -17056), ('Przywołuję panią poseł Pawłowicz posłankę Prawa pracy, Pawłowicz,', -17427), ('Przywołuję panią poseł Pawłowicz posłankę Prawa Prawicy, PiS,', -17894)]\n"
          ]
        },
        {
          "output_type": "stream",
          "name": "stderr",
          "text": [
            "Setting `pad_token_id` to `eos_token_id`:None for open-end generation.\n"
          ]
        },
        {
          "output_type": "stream",
          "name": "stdout",
          "text": [
            "\n",
            "READY: [('Przywołuję panią poseł Pawłowicz.', -114390)]\n",
            "[('Przywołuję panią poseł Pawłowicz posłankę Prawa pracy Pawłowicz,', -17056), ('Przywołuję panią poseł Pawłowicz posłankę Prawa pracy, Pawłowicz,', -17427), ('Przywołuję panią poseł Pawłowicz posłankę Prawa Prawicy, PiS,', -17894)]\n",
            "sent in prog: [('Przywołuję panią poseł Pawłowicz posłankę Prawa pracy Pawłowicz,', -17056), ('Przywołuję panią poseł Pawłowicz posłankę Prawa pracy, Pawłowicz,', -17427), ('Przywołuję panią poseł Pawłowicz posłankę Prawa Prawicy, PiS,', -17894)]\n"
          ]
        },
        {
          "output_type": "stream",
          "name": "stderr",
          "text": [
            "Setting `pad_token_id` to `eos_token_id`:None for open-end generation.\n"
          ]
        },
        {
          "output_type": "stream",
          "name": "stdout",
          "text": [
            "\n",
            "READY: [('Przywołuję panią poseł Pawłowicz.', -114390)]\n",
            "[('Przywołuję panią poseł Pawłowicz posłankę Prawa pracy Pawłowicz,', -17056), ('Przywołuję panią poseł Pawłowicz posłankę Prawa Prawicy, PiS,', -17894)]\n",
            "sent in prog: [('Przywołuję panią poseł Pawłowicz posłankę Prawa pracy Pawłowicz,', -17056), ('Przywołuję panią poseł Pawłowicz posłankę Prawa Prawicy, PiS,', -17894)]\n"
          ]
        },
        {
          "output_type": "stream",
          "name": "stderr",
          "text": [
            "Setting `pad_token_id` to `eos_token_id`:None for open-end generation.\n"
          ]
        },
        {
          "output_type": "stream",
          "name": "stdout",
          "text": [
            "\n",
            "READY: [('Przywołuję panią poseł Pawłowicz.', -114390)]\n",
            "[('Przywołuję panią poseł Pawłowicz posłankę Prawa pracy Pawłowicz,', -17056), ('Przywołuję panią poseł Pawłowicz posłankę Prawa Prawicy, PiS,', -17894)]\n",
            "sent in prog: [('Przywołuję panią poseł Pawłowicz posłankę Prawa pracy Pawłowicz,', -17056), ('Przywołuję panią poseł Pawłowicz posłankę Prawa Prawicy, PiS,', -17894)]\n"
          ]
        },
        {
          "output_type": "stream",
          "name": "stderr",
          "text": [
            "Setting `pad_token_id` to `eos_token_id`:None for open-end generation.\n"
          ]
        },
        {
          "output_type": "stream",
          "name": "stdout",
          "text": [
            "\n",
            "READY: [('Przywołuję panią poseł Pawłowicz.', -114390)]\n",
            "[('Przywołuję panią poseł Pawłowicz posłankę Prawa pracy Pawłowicz,', -17056)]\n",
            "sent in prog: [('Przywołuję panią poseł Pawłowicz posłankę Prawa pracy Pawłowicz,', -17056)]\n"
          ]
        },
        {
          "output_type": "stream",
          "name": "stderr",
          "text": [
            "Setting `pad_token_id` to `eos_token_id`:None for open-end generation.\n"
          ]
        },
        {
          "output_type": "stream",
          "name": "stdout",
          "text": [
            "\n",
            "READY: [('Przywołuję panią poseł Pawłowicz.', -114390)]\n",
            "[('Przywołuję panią poseł Pawłowicz posłankę Prawa pracy Pawłowicz,', -17056)]\n",
            "sent in prog: [('Przywołuję panią poseł Pawłowicz posłankę Prawa pracy Pawłowicz,', -17056)]\n"
          ]
        },
        {
          "output_type": "stream",
          "name": "stderr",
          "text": [
            "Setting `pad_token_id` to `eos_token_id`:None for open-end generation.\n"
          ]
        },
        {
          "output_type": "stream",
          "name": "stdout",
          "text": [
            "\n",
            "READY: [('Przywołuję panią poseł Pawłowicz.', -114390)]\n",
            "[]\n",
            "sent in prog: []\n",
            "\n",
            "READY: [('Przywołuję panią poseł Pawłowicz.', -114390)]\n",
            "[]\n",
            "sent in prog: []\n"
          ]
        }
      ]
    },
    {
      "cell_type": "code",
      "source": [
        "out3 = generate_one_letter_sentences()"
      ],
      "metadata": {
        "colab": {
          "base_uri": "https://localhost:8080/"
        },
        "id": "y7q6ukuBDozF",
        "outputId": "f17f78d7-6f1b-4045-8cb1-efc892b4b9b4"
      },
      "execution_count": 76,
      "outputs": [
        {
          "output_type": "stream",
          "name": "stderr",
          "text": [
            "Setting `pad_token_id` to `eos_token_id`:None for open-end generation.\n"
          ]
        },
        {
          "output_type": "stream",
          "name": "stdout",
          "text": [
            "\n",
            "READY: []\n"
          ]
        },
        {
          "output_type": "stream",
          "name": "stderr",
          "text": [
            "Setting `pad_token_id` to `eos_token_id`:None for open-end generation.\n"
          ]
        },
        {
          "output_type": "stream",
          "name": "stdout",
          "text": [
            "WYMUSZONY DOT\n",
            "[('Obejmował on oprócz oświaty', -10448)]\n",
            "sent in prog: [('Obejmował on oprócz oświaty', -10448)]\n",
            "\n",
            "READY: [('Obejmował on oprócz oświaty.', -127070)]\n"
          ]
        },
        {
          "output_type": "stream",
          "name": "stderr",
          "text": [
            "Setting `pad_token_id` to `eos_token_id`:None for open-end generation.\n"
          ]
        },
        {
          "output_type": "stream",
          "name": "stdout",
          "text": [
            "[('Obejmował on oprócz oświaty', -10448), ('Obejmował on oprócz Oddziału', -11206)]\n",
            "sent in prog: [('Obejmował on oprócz oświaty', -10448), ('Obejmował on oprócz Oddziału', -11206)]\n",
            "\n",
            "READY: [('Obejmował on oprócz oświaty.', -127070)]\n"
          ]
        },
        {
          "output_type": "stream",
          "name": "stderr",
          "text": [
            "Setting `pad_token_id` to `eos_token_id`:None for open-end generation.\n"
          ]
        },
        {
          "output_type": "stream",
          "name": "stdout",
          "text": [
            "[('Obejmował on oprócz Oddziału', -11206), ('Obejmował on oprócz oświaty oświatę,', -12487)]\n",
            "sent in prog: [('Obejmował on oprócz Oddziału', -11206), ('Obejmował on oprócz oświaty oświatę,', -12487)]\n",
            "\n",
            "READY: [('Obejmował on oprócz oświaty.', -127070)]\n"
          ]
        },
        {
          "output_type": "stream",
          "name": "stderr",
          "text": [
            "Setting `pad_token_id` to `eos_token_id`:None for open-end generation.\n"
          ]
        },
        {
          "output_type": "stream",
          "name": "stdout",
          "text": [
            "[('Obejmował on oprócz Oddziału', -11206), ('Obejmował on oprócz oświaty oświatę,', -12487), ('Obejmował on oprócz oświaty Oraz', -13967)]\n",
            "sent in prog: [('Obejmował on oprócz Oddziału', -11206), ('Obejmował on oprócz oświaty oświatę,', -12487), ('Obejmował on oprócz oświaty Oraz', -13967)]\n"
          ]
        },
        {
          "output_type": "stream",
          "name": "stderr",
          "text": [
            "Setting `pad_token_id` to `eos_token_id`:None for open-end generation.\n"
          ]
        },
        {
          "output_type": "stream",
          "name": "stdout",
          "text": [
            "\n",
            "READY: [('Obejmował on oprócz oświaty.', -127070)]\n",
            "[('Obejmował on oprócz Oddziału', -11206), ('Obejmował on oprócz oświaty Oraz', -13967)]\n",
            "sent in prog: [('Obejmował on oprócz Oddziału', -11206), ('Obejmował on oprócz oświaty Oraz', -13967)]\n"
          ]
        },
        {
          "output_type": "stream",
          "name": "stderr",
          "text": [
            "Setting `pad_token_id` to `eos_token_id`:None for open-end generation.\n"
          ]
        },
        {
          "output_type": "stream",
          "name": "stdout",
          "text": [
            "\n",
            "READY: [('Obejmował on oprócz oświaty.', -127070)]\n",
            "[('Obejmował on oprócz Oddziału', -11206), ('Obejmował on oprócz oświaty Oraz', -13967)]\n",
            "sent in prog: [('Obejmował on oprócz Oddziału', -11206), ('Obejmował on oprócz oświaty Oraz', -13967)]\n",
            "\n",
            "READY: [('Obejmował on oprócz oświaty.', -127070)]\n"
          ]
        },
        {
          "output_type": "stream",
          "name": "stderr",
          "text": [
            "Setting `pad_token_id` to `eos_token_id`:None for open-end generation.\n"
          ]
        },
        {
          "output_type": "stream",
          "name": "stdout",
          "text": [
            "[('Obejmował on oprócz Oddziału oświatowego,', -13556), ('Obejmował on oprócz Oddziału oświatowego, Oddziału', -13563), ('Obejmował on oprócz oświaty Oraz', -13967)]\n",
            "sent in prog: [('Obejmował on oprócz Oddziału oświatowego,', -13556), ('Obejmował on oprócz Oddziału oświatowego, Oddziału', -13563), ('Obejmował on oprócz oświaty Oraz', -13967)]\n",
            "\n",
            "READY: [('Obejmował on oprócz oświaty.', -127070)]\n"
          ]
        },
        {
          "output_type": "stream",
          "name": "stderr",
          "text": [
            "Setting `pad_token_id` to `eos_token_id`:None for open-end generation.\n"
          ]
        },
        {
          "output_type": "stream",
          "name": "stdout",
          "text": [
            "[('Obejmował on oprócz Oddziału Obrony', -12393), ('Obejmował on oprócz Oddziału oświatowego,', -13556), ('Obejmował on oprócz Oddziału oświatowego, Oddziału', -13563), ('Obejmował on oprócz oświaty Oraz', -13967)]\n",
            "sent in prog: [('Obejmował on oprócz Oddziału Obrony', -12393), ('Obejmował on oprócz Oddziału oświatowego,', -13556), ('Obejmował on oprócz Oddziału oświatowego, Oddziału', -13563), ('Obejmował on oprócz oświaty Oraz', -13967)]\n"
          ]
        },
        {
          "output_type": "stream",
          "name": "stderr",
          "text": [
            "Setting `pad_token_id` to `eos_token_id`:None for open-end generation.\n"
          ]
        },
        {
          "output_type": "stream",
          "name": "stdout",
          "text": [
            "\n",
            "READY: [('Obejmował on oprócz oświaty.', -127070)]\n",
            "[('Obejmował on oprócz Oddziału Obrony', -12393), ('Obejmował on oprócz Oddziału oświatowego, Oddziału', -13563), ('Obejmował on oprócz oświaty Oraz', -13967)]\n",
            "sent in prog: [('Obejmował on oprócz Oddziału Obrony', -12393), ('Obejmował on oprócz Oddziału oświatowego, Oddziału', -13563), ('Obejmował on oprócz oświaty Oraz', -13967)]\n"
          ]
        },
        {
          "output_type": "stream",
          "name": "stderr",
          "text": [
            "Setting `pad_token_id` to `eos_token_id`:None for open-end generation.\n"
          ]
        },
        {
          "output_type": "stream",
          "name": "stdout",
          "text": [
            "\n",
            "READY: [('Obejmował on oprócz oświaty.', -127070)]\n",
            "[('Obejmował on oprócz Oddziału Obrony', -12393), ('Obejmował on oprócz Oddziału oświatowego, Oddziału', -13563), ('Obejmował on oprócz oświaty Oraz', -13967)]\n",
            "sent in prog: [('Obejmował on oprócz Oddziału Obrony', -12393), ('Obejmował on oprócz Oddziału oświatowego, Oddziału', -13563), ('Obejmował on oprócz oświaty Oraz', -13967)]\n",
            "\n",
            "READY: [('Obejmował on oprócz oświaty.', -127070)]\n"
          ]
        },
        {
          "output_type": "stream",
          "name": "stderr",
          "text": [
            "Setting `pad_token_id` to `eos_token_id`:None for open-end generation.\n"
          ]
        },
        {
          "output_type": "stream",
          "name": "stdout",
          "text": [
            "[('Obejmował on oprócz Oddziału Obrony', -12393), ('Obejmował on oprócz oświaty Oraz', -13967), ('Obejmował on oprócz Oddziału oświatowego, Oddziału oświaty', -14545)]\n",
            "sent in prog: [('Obejmował on oprócz Oddziału Obrony', -12393), ('Obejmował on oprócz oświaty Oraz', -13967), ('Obejmował on oprócz Oddziału oświatowego, Oddziału oświaty', -14545)]\n",
            "\n",
            "READY: [('Obejmował on oprócz oświaty.', -127070)]\n"
          ]
        },
        {
          "output_type": "stream",
          "name": "stderr",
          "text": [
            "Setting `pad_token_id` to `eos_token_id`:None for open-end generation.\n"
          ]
        },
        {
          "output_type": "stream",
          "name": "stdout",
          "text": [
            "[('Obejmował on oprócz Oddziału Obrony', -12393), ('Obejmował on oprócz oświaty Oraz', -13967), ('Obejmował on oprócz Oddziału oświatowego, Oddziału Oświaty', -14191), ('Obejmował on oprócz Oddziału oświatowego, Oddziału oświaty', -14545)]\n",
            "sent in prog: [('Obejmował on oprócz Oddziału Obrony', -12393), ('Obejmował on oprócz oświaty Oraz', -13967), ('Obejmował on oprócz Oddziału oświatowego, Oddziału Oświaty', -14191), ('Obejmował on oprócz Oddziału oświatowego, Oddziału oświaty', -14545)]\n",
            "\n",
            "READY: [('Obejmował on oprócz oświaty.', -127070)]\n"
          ]
        },
        {
          "output_type": "stream",
          "name": "stderr",
          "text": [
            "Setting `pad_token_id` to `eos_token_id`:None for open-end generation.\n"
          ]
        },
        {
          "output_type": "stream",
          "name": "stdout",
          "text": [
            "[('Obejmował on oprócz oświaty Oraz', -13967), ('Obejmował on oprócz Oddziału oświatowego, Oddziału Oświaty', -14191), ('Obejmował on oprócz Oddziału oświatowego, Oddziału oświaty', -14545), ('Obejmował on oprócz Oddziału Obrony ośrodka', -15362)]\n",
            "sent in prog: [('Obejmował on oprócz oświaty Oraz', -13967), ('Obejmował on oprócz Oddziału oświatowego, Oddziału Oświaty', -14191), ('Obejmował on oprócz Oddziału oświatowego, Oddziału oświaty', -14545), ('Obejmował on oprócz Oddziału Obrony ośrodka', -15362)]\n",
            "\n",
            "READY: [('Obejmował on oprócz oświaty.', -127070)]\n"
          ]
        },
        {
          "output_type": "stream",
          "name": "stderr",
          "text": [
            "Setting `pad_token_id` to `eos_token_id`:None for open-end generation.\n"
          ]
        },
        {
          "output_type": "stream",
          "name": "stdout",
          "text": [
            "[('Obejmował on oprócz oświaty Oraz', -13967), ('Obejmował on oprócz Oddziału Obrony Ojczyzny, Oddziału', -13975), ('Obejmował on oprócz Oddziału Obrony Ojczyzny,', -13988), ('Obejmował on oprócz Oddziału oświatowego, Oddziału Oświaty', -14191), ('Obejmował on oprócz Oddziału Obrony Ojczyzny, Oddziału Obrony', -14222), ('Obejmował on oprócz Oddziału oświatowego, Oddziału oświaty', -14545), ('Obejmował on oprócz Oddziału Obrony ośrodka', -15362)]\n",
            "sent in prog: [('Obejmował on oprócz oświaty Oraz', -13967), ('Obejmował on oprócz Oddziału Obrony Ojczyzny, Oddziału', -13975), ('Obejmował on oprócz Oddziału Obrony Ojczyzny,', -13988), ('Obejmował on oprócz Oddziału oświatowego, Oddziału Oświaty', -14191), ('Obejmował on oprócz Oddziału Obrony Ojczyzny, Oddziału Obrony', -14222), ('Obejmował on oprócz Oddziału oświatowego, Oddziału oświaty', -14545), ('Obejmował on oprócz Oddziału Obrony ośrodka', -15362)]\n"
          ]
        },
        {
          "output_type": "stream",
          "name": "stderr",
          "text": [
            "Setting `pad_token_id` to `eos_token_id`:None for open-end generation.\n"
          ]
        },
        {
          "output_type": "stream",
          "name": "stdout",
          "text": [
            "\n",
            "READY: [('Obejmował on oprócz oświaty.', -127070)]\n",
            "[('Obejmował on oprócz oświaty Oraz', -13967), ('Obejmował on oprócz Oddziału Obrony Ojczyzny, Oddziału', -13975), ('Obejmował on oprócz Oddziału Obrony Ojczyzny,', -13988), ('Obejmował on oprócz Oddziału Obrony Ojczyzny, Oddziału Obrony', -14222), ('Obejmował on oprócz Oddziału oświatowego, Oddziału oświaty', -14545), ('Obejmował on oprócz Oddziału Obrony ośrodka', -15362)]\n",
            "sent in prog: [('Obejmował on oprócz oświaty Oraz', -13967), ('Obejmował on oprócz Oddziału Obrony Ojczyzny, Oddziału', -13975), ('Obejmował on oprócz Oddziału Obrony Ojczyzny,', -13988), ('Obejmował on oprócz Oddziału Obrony Ojczyzny, Oddziału Obrony', -14222), ('Obejmował on oprócz Oddziału oświatowego, Oddziału oświaty', -14545), ('Obejmował on oprócz Oddziału Obrony ośrodka', -15362)]\n",
            "\n",
            "READY: [('Obejmował on oprócz oświaty.', -127070)]\n"
          ]
        },
        {
          "output_type": "stream",
          "name": "stderr",
          "text": [
            "Setting `pad_token_id` to `eos_token_id`:None for open-end generation.\n"
          ]
        },
        {
          "output_type": "stream",
          "name": "stdout",
          "text": [
            "[('Obejmował on oprócz oświaty Oraz', -13967), ('Obejmował on oprócz Oddziału Obrony Ojczyzny, Oddziału', -13975), ('Obejmował on oprócz Oddziału Obrony Ojczyzny,', -13988), ('Obejmował on oprócz Oddziału Obrony Ojczyzny, Oddziału Obrony', -14222), ('Obejmował on oprócz Oddziału oświatowego, Oddziału oświaty', -14545), ('Obejmował on oprócz Oddziału oświatowego, Oddziału Oświaty Obywatelskiej,', -15339), ('Obejmował on oprócz Oddziału Obrony ośrodka', -15362)]\n",
            "sent in prog: [('Obejmował on oprócz oświaty Oraz', -13967), ('Obejmował on oprócz Oddziału Obrony Ojczyzny, Oddziału', -13975), ('Obejmował on oprócz Oddziału Obrony Ojczyzny,', -13988), ('Obejmował on oprócz Oddziału Obrony Ojczyzny, Oddziału Obrony', -14222), ('Obejmował on oprócz Oddziału oświatowego, Oddziału oświaty', -14545), ('Obejmował on oprócz Oddziału oświatowego, Oddziału Oświaty Obywatelskiej,', -15339), ('Obejmował on oprócz Oddziału Obrony ośrodka', -15362)]\n",
            "\n",
            "READY: [('Obejmował on oprócz oświaty.', -127070)]\n"
          ]
        },
        {
          "output_type": "stream",
          "name": "stderr",
          "text": [
            "Setting `pad_token_id` to `eos_token_id`:None for open-end generation.\n"
          ]
        },
        {
          "output_type": "stream",
          "name": "stdout",
          "text": [
            "[('Obejmował on oprócz oświaty Oraz', -13967), ('Obejmował on oprócz Oddziału Obrony Ojczyzny, Oddziału', -13975), ('Obejmował on oprócz Oddziału Obrony Ojczyzny,', -13988), ('Obejmował on oprócz Oddziału Obrony Ojczyzny, Oddziału Obrony', -14222), ('Obejmował on oprócz Oddziału oświatowego, Oddziału Oświaty Obywatelskiej,', -15339), ('Obejmował on oprócz Oddziału Obrony ośrodka', -15362), ('Obejmował on oprócz Oddziału oświatowego, Oddziału oświaty oświatowej,', -16358)]\n",
            "sent in prog: [('Obejmował on oprócz oświaty Oraz', -13967), ('Obejmował on oprócz Oddziału Obrony Ojczyzny, Oddziału', -13975), ('Obejmował on oprócz Oddziału Obrony Ojczyzny,', -13988), ('Obejmował on oprócz Oddziału Obrony Ojczyzny, Oddziału Obrony', -14222), ('Obejmował on oprócz Oddziału oświatowego, Oddziału Oświaty Obywatelskiej,', -15339), ('Obejmował on oprócz Oddziału Obrony ośrodka', -15362), ('Obejmował on oprócz Oddziału oświatowego, Oddziału oświaty oświatowej,', -16358)]\n"
          ]
        },
        {
          "output_type": "stream",
          "name": "stderr",
          "text": [
            "Setting `pad_token_id` to `eos_token_id`:None for open-end generation.\n"
          ]
        },
        {
          "output_type": "stream",
          "name": "stdout",
          "text": [
            "\n",
            "READY: [('Obejmował on oprócz oświaty.', -127070)]\n",
            "[('Obejmował on oprócz oświaty Oraz', -13967), ('Obejmował on oprócz Oddziału Obrony Ojczyzny, Oddziału', -13975), ('Obejmował on oprócz Oddziału Obrony Ojczyzny,', -13988), ('Obejmował on oprócz Oddziału Obrony Ojczyzny, Oddziału Obrony', -14222), ('Obejmował on oprócz Oddziału oświatowego, Oddziału Oświaty Obywatelskiej,', -15339), ('Obejmował on oprócz Oddziału Obrony ośrodka', -15362), ('Obejmował on oprócz Oddziału oświatowego, Oddziału oświaty oświatowej,', -16358)]\n",
            "sent in prog: [('Obejmował on oprócz oświaty Oraz', -13967), ('Obejmował on oprócz Oddziału Obrony Ojczyzny, Oddziału', -13975), ('Obejmował on oprócz Oddziału Obrony Ojczyzny,', -13988), ('Obejmował on oprócz Oddziału Obrony Ojczyzny, Oddziału Obrony', -14222), ('Obejmował on oprócz Oddziału oświatowego, Oddziału Oświaty Obywatelskiej,', -15339), ('Obejmował on oprócz Oddziału Obrony ośrodka', -15362), ('Obejmował on oprócz Oddziału oświatowego, Oddziału oświaty oświatowej,', -16358)]\n",
            "\n",
            "READY: [('Obejmował on oprócz oświaty.', -127070)]\n"
          ]
        },
        {
          "output_type": "stream",
          "name": "stderr",
          "text": [
            "Setting `pad_token_id` to `eos_token_id`:None for open-end generation.\n"
          ]
        },
        {
          "output_type": "stream",
          "name": "stdout",
          "text": [
            "[('Obejmował on oprócz oświaty Oraz', -13967), ('Obejmował on oprócz Oddziału Obrony Ojczyzny, Oddziału', -13975), ('Obejmował on oprócz Oddziału Obrony Ojczyzny,', -13988), ('Obejmował on oprócz Oddziału Obrony Ojczyzny, Oddziału Obrony', -14222), ('Obejmował on oprócz Oddziału oświatowego, Oddziału Oświaty Obywatelskiej,', -15339), ('Obejmował on oprócz Oddziału oświatowego, Oddziału oświaty oświatowej,', -16358), ('Obejmował on oprócz Oddziału Obrony ośrodka ostrzegawczego', -16377)]\n",
            "sent in prog: [('Obejmował on oprócz oświaty Oraz', -13967), ('Obejmował on oprócz Oddziału Obrony Ojczyzny, Oddziału', -13975), ('Obejmował on oprócz Oddziału Obrony Ojczyzny,', -13988), ('Obejmował on oprócz Oddziału Obrony Ojczyzny, Oddziału Obrony', -14222), ('Obejmował on oprócz Oddziału oświatowego, Oddziału Oświaty Obywatelskiej,', -15339), ('Obejmował on oprócz Oddziału oświatowego, Oddziału oświaty oświatowej,', -16358), ('Obejmował on oprócz Oddziału Obrony ośrodka ostrzegawczego', -16377)]\n"
          ]
        },
        {
          "output_type": "stream",
          "name": "stderr",
          "text": [
            "Setting `pad_token_id` to `eos_token_id`:None for open-end generation.\n"
          ]
        },
        {
          "output_type": "stream",
          "name": "stdout",
          "text": [
            "\n",
            "READY: [('Obejmował on oprócz oświaty.', -127070)]\n",
            "[('Obejmował on oprócz oświaty Oraz', -13967), ('Obejmował on oprócz Oddziału Obrony Ojczyzny, Oddziału', -13975), ('Obejmował on oprócz Oddziału Obrony Ojczyzny,', -13988), ('Obejmował on oprócz Oddziału Obrony Ojczyzny, Oddziału Obrony', -14222), ('Obejmował on oprócz Oddziału oświatowego, Oddziału Oświaty Obywatelskiej,', -15339), ('Obejmował on oprócz Oddziału oświatowego, Oddziału oświaty oświatowej,', -16358), ('Obejmował on oprócz Oddziału Obrony ośrodka ostrzegawczego', -16377)]\n",
            "sent in prog: [('Obejmował on oprócz oświaty Oraz', -13967), ('Obejmował on oprócz Oddziału Obrony Ojczyzny, Oddziału', -13975), ('Obejmował on oprócz Oddziału Obrony Ojczyzny,', -13988), ('Obejmował on oprócz Oddziału Obrony Ojczyzny, Oddziału Obrony', -14222), ('Obejmował on oprócz Oddziału oświatowego, Oddziału Oświaty Obywatelskiej,', -15339), ('Obejmował on oprócz Oddziału oświatowego, Oddziału oświaty oświatowej,', -16358), ('Obejmował on oprócz Oddziału Obrony ośrodka ostrzegawczego', -16377)]\n",
            "\n",
            "READY: [('Obejmował on oprócz oświaty.', -127070)]\n"
          ]
        },
        {
          "output_type": "stream",
          "name": "stderr",
          "text": [
            "Setting `pad_token_id` to `eos_token_id`:None for open-end generation.\n"
          ]
        },
        {
          "output_type": "stream",
          "name": "stdout",
          "text": [
            "[('Obejmował on oprócz Oddziału Obrony Ojczyzny, Oddziału', -13975), ('Obejmował on oprócz Oddziału Obrony Ojczyzny,', -13988), ('Obejmował on oprócz Oddziału Obrony Ojczyzny, Oddziału Obrony', -14222), ('Obejmował on oprócz oświaty Oraz oświatę,', -15071), ('Obejmował on oprócz oświaty Oraz oświatę, opieki', -15248), ('Obejmował on oprócz Oddziału oświatowego, Oddziału Oświaty Obywatelskiej,', -15339), ('Obejmował on oprócz Oddziału oświatowego, Oddziału oświaty oświatowej,', -16358), ('Obejmował on oprócz Oddziału Obrony ośrodka ostrzegawczego', -16377)]\n",
            "sent in prog: [('Obejmował on oprócz Oddziału Obrony Ojczyzny, Oddziału', -13975), ('Obejmował on oprócz Oddziału Obrony Ojczyzny,', -13988), ('Obejmował on oprócz Oddziału Obrony Ojczyzny, Oddziału Obrony', -14222), ('Obejmował on oprócz oświaty Oraz oświatę,', -15071), ('Obejmował on oprócz oświaty Oraz oświatę, opieki', -15248), ('Obejmował on oprócz Oddziału oświatowego, Oddziału Oświaty Obywatelskiej,', -15339), ('Obejmował on oprócz Oddziału oświatowego, Oddziału oświaty oświatowej,', -16358)]\n",
            "\n",
            "READY: [('Obejmował on oprócz oświaty.', -127070)]\n"
          ]
        },
        {
          "output_type": "stream",
          "name": "stderr",
          "text": [
            "Setting `pad_token_id` to `eos_token_id`:None for open-end generation.\n"
          ]
        },
        {
          "output_type": "stream",
          "name": "stdout",
          "text": [
            "[('Obejmował on oprócz Oddziału Obrony Ojczyzny, Oddziału', -13975), ('Obejmował on oprócz Oddziału Obrony Ojczyzny,', -13988), ('Obejmował on oprócz Oddziału Obrony Ojczyzny, Oddziału Obrony', -14222), ('Obejmował on oprócz oświaty Oraz oświatę,', -15071), ('Obejmował on oprócz oświaty Oraz oświatę, opieki', -15248), ('Obejmował on oprócz Oddziału oświatowego, Oddziału Oświaty Obywatelskiej,', -15339), ('Obejmował on oprócz oświaty Oraz Ochrony', -16010), ('Obejmował on oprócz Oddziału oświatowego, Oddziału oświaty oświatowej,', -16358)]\n",
            "sent in prog: [('Obejmował on oprócz Oddziału Obrony Ojczyzny, Oddziału', -13975), ('Obejmował on oprócz Oddziału Obrony Ojczyzny,', -13988), ('Obejmował on oprócz Oddziału Obrony Ojczyzny, Oddziału Obrony', -14222), ('Obejmował on oprócz oświaty Oraz oświatę,', -15071), ('Obejmował on oprócz oświaty Oraz oświatę, opieki', -15248), ('Obejmował on oprócz Oddziału oświatowego, Oddziału Oświaty Obywatelskiej,', -15339), ('Obejmował on oprócz oświaty Oraz Ochrony', -16010)]\n"
          ]
        },
        {
          "output_type": "stream",
          "name": "stderr",
          "text": [
            "Setting `pad_token_id` to `eos_token_id`:None for open-end generation.\n"
          ]
        },
        {
          "output_type": "stream",
          "name": "stdout",
          "text": [
            "\n",
            "READY: [('Obejmował on oprócz oświaty.', -127070)]\n",
            "[('Obejmował on oprócz Oddziału Obrony Ojczyzny, Oddziału', -13975), ('Obejmował on oprócz Oddziału Obrony Ojczyzny, Oddziału Obrony', -14222), ('Obejmował on oprócz oświaty Oraz oświatę,', -15071), ('Obejmował on oprócz oświaty Oraz oświatę, opieki', -15248), ('Obejmował on oprócz Oddziału oświatowego, Oddziału Oświaty Obywatelskiej,', -15339), ('Obejmował on oprócz oświaty Oraz Ochrony', -16010)]\n",
            "sent in prog: [('Obejmował on oprócz Oddziału Obrony Ojczyzny, Oddziału', -13975), ('Obejmował on oprócz Oddziału Obrony Ojczyzny, Oddziału Obrony', -14222), ('Obejmował on oprócz oświaty Oraz oświatę,', -15071), ('Obejmował on oprócz oświaty Oraz oświatę, opieki', -15248), ('Obejmował on oprócz Oddziału oświatowego, Oddziału Oświaty Obywatelskiej,', -15339), ('Obejmował on oprócz oświaty Oraz Ochrony', -16010)]\n"
          ]
        },
        {
          "output_type": "stream",
          "name": "stderr",
          "text": [
            "Setting `pad_token_id` to `eos_token_id`:None for open-end generation.\n"
          ]
        },
        {
          "output_type": "stream",
          "name": "stdout",
          "text": [
            "\n",
            "READY: [('Obejmował on oprócz oświaty.', -127070)]\n",
            "[('Obejmował on oprócz Oddziału Obrony Ojczyzny, Oddziału', -13975), ('Obejmował on oprócz Oddziału Obrony Ojczyzny, Oddziału Obrony', -14222), ('Obejmował on oprócz oświaty Oraz oświatę,', -15071), ('Obejmował on oprócz oświaty Oraz oświatę, opieki', -15248), ('Obejmował on oprócz Oddziału oświatowego, Oddziału Oświaty Obywatelskiej,', -15339), ('Obejmował on oprócz oświaty Oraz Ochrony', -16010)]\n",
            "sent in prog: [('Obejmował on oprócz Oddziału Obrony Ojczyzny, Oddziału', -13975), ('Obejmował on oprócz Oddziału Obrony Ojczyzny, Oddziału Obrony', -14222), ('Obejmował on oprócz oświaty Oraz oświatę,', -15071), ('Obejmował on oprócz oświaty Oraz oświatę, opieki', -15248), ('Obejmował on oprócz Oddziału oświatowego, Oddziału Oświaty Obywatelskiej,', -15339), ('Obejmował on oprócz oświaty Oraz Ochrony', -16010)]\n"
          ]
        },
        {
          "output_type": "stream",
          "name": "stderr",
          "text": [
            "Setting `pad_token_id` to `eos_token_id`:None for open-end generation.\n"
          ]
        },
        {
          "output_type": "stream",
          "name": "stdout",
          "text": [
            "\n",
            "READY: [('Obejmował on oprócz oświaty.', -127070)]\n",
            "[('Obejmował on oprócz Oddziału Obrony Ojczyzny, Oddziału', -13975), ('Obejmował on oprócz oświaty Oraz oświatę,', -15071), ('Obejmował on oprócz oświaty Oraz oświatę, opieki', -15248), ('Obejmował on oprócz Oddziału oświatowego, Oddziału Oświaty Obywatelskiej,', -15339), ('Obejmował on oprócz oświaty Oraz Ochrony', -16010)]\n",
            "sent in prog: [('Obejmował on oprócz Oddziału Obrony Ojczyzny, Oddziału', -13975), ('Obejmował on oprócz oświaty Oraz oświatę,', -15071), ('Obejmował on oprócz oświaty Oraz oświatę, opieki', -15248), ('Obejmował on oprócz Oddziału oświatowego, Oddziału Oświaty Obywatelskiej,', -15339), ('Obejmował on oprócz oświaty Oraz Ochrony', -16010)]\n"
          ]
        },
        {
          "output_type": "stream",
          "name": "stderr",
          "text": [
            "Setting `pad_token_id` to `eos_token_id`:None for open-end generation.\n"
          ]
        },
        {
          "output_type": "stream",
          "name": "stdout",
          "text": [
            "\n",
            "READY: [('Obejmował on oprócz oświaty.', -127070)]\n",
            "[('Obejmował on oprócz Oddziału Obrony Ojczyzny, Oddziału', -13975), ('Obejmował on oprócz oświaty Oraz oświatę,', -15071), ('Obejmował on oprócz oświaty Oraz oświatę, opieki', -15248), ('Obejmował on oprócz Oddziału oświatowego, Oddziału Oświaty Obywatelskiej,', -15339), ('Obejmował on oprócz oświaty Oraz Ochrony', -16010)]\n",
            "sent in prog: [('Obejmował on oprócz Oddziału Obrony Ojczyzny, Oddziału', -13975), ('Obejmował on oprócz oświaty Oraz oświatę,', -15071), ('Obejmował on oprócz oświaty Oraz oświatę, opieki', -15248), ('Obejmował on oprócz Oddziału oświatowego, Oddziału Oświaty Obywatelskiej,', -15339), ('Obejmował on oprócz oświaty Oraz Ochrony', -16010)]\n"
          ]
        },
        {
          "output_type": "stream",
          "name": "stderr",
          "text": [
            "Setting `pad_token_id` to `eos_token_id`:None for open-end generation.\n"
          ]
        },
        {
          "output_type": "stream",
          "name": "stdout",
          "text": [
            "\n",
            "READY: [('Obejmował on oprócz oświaty.', -127070)]\n",
            "[('Obejmował on oprócz Oddziału Obrony Ojczyzny, Oddziału', -13975), ('Obejmował on oprócz oświaty Oraz oświatę,', -15071), ('Obejmował on oprócz oświaty Oraz oświatę, opieki', -15248), ('Obejmował on oprócz oświaty Oraz Ochrony', -16010)]\n",
            "sent in prog: [('Obejmował on oprócz Oddziału Obrony Ojczyzny, Oddziału', -13975), ('Obejmował on oprócz oświaty Oraz oświatę,', -15071), ('Obejmował on oprócz oświaty Oraz oświatę, opieki', -15248), ('Obejmował on oprócz oświaty Oraz Ochrony', -16010)]\n",
            "\n",
            "READY: [('Obejmował on oprócz oświaty.', -127070)]\n",
            "[('Obejmował on oprócz Oddziału Obrony Ojczyzny, Oddziału', -13975), ('Obejmował on oprócz oświaty Oraz oświatę,', -15071), ('Obejmował on oprócz oświaty Oraz oświatę, opieki', -15248), ('Obejmował on oprócz oświaty Oraz Ochrony', -16010)]\n",
            "sent in prog: [('Obejmował on oprócz Oddziału Obrony Ojczyzny, Oddziału', -13975), ('Obejmował on oprócz oświaty Oraz oświatę,', -15071), ('Obejmował on oprócz oświaty Oraz oświatę, opieki', -15248), ('Obejmował on oprócz oświaty Oraz Ochrony', -16010)]\n",
            "ERROR: [('Obejmował on oprócz Oddziału Obrony Ojczyzny, Oddziału', -13975), ('Obejmował on oprócz oświaty Oraz oświatę,', -15071), ('Obejmował on oprócz oświaty Oraz oświatę, opieki', -15248), ('Obejmował on oprócz oświaty Oraz Ochrony', -16010)], Obejmował on oprócz Oddziału oświatowego, Oddziału oświaty oświatowej,, -16358\n"
          ]
        }
      ]
    },
    {
      "cell_type": "code",
      "source": [
        "out3"
      ],
      "metadata": {
        "colab": {
          "base_uri": "https://localhost:8080/"
        },
        "id": "vFGPaBnoIoJf",
        "outputId": "f43b7ee8-c342-4d6b-a27d-a26bf3f42b8f"
      },
      "execution_count": 77,
      "outputs": [
        {
          "output_type": "execute_result",
          "data": {
            "text/plain": [
              "[('Obejmował on oprócz oświaty.', -127070)]"
            ]
          },
          "metadata": {},
          "execution_count": 77
        }
      ]
    },
    {
      "cell_type": "code",
      "source": [
        "out4 = generate_one_letter_sentences()"
      ],
      "metadata": {
        "colab": {
          "base_uri": "https://localhost:8080/"
        },
        "id": "Nl8lhnn3IsEk",
        "outputId": "28c359c9-14c2-48be-a31e-8447f57dae88"
      },
      "execution_count": 78,
      "outputs": [
        {
          "output_type": "stream",
          "name": "stderr",
          "text": [
            "Setting `pad_token_id` to `eos_token_id`:None for open-end generation.\n"
          ]
        },
        {
          "output_type": "stream",
          "name": "stdout",
          "text": [
            "\n",
            "READY: []\n"
          ]
        },
        {
          "output_type": "stream",
          "name": "stderr",
          "text": [
            "Setting `pad_token_id` to `eos_token_id`:None for open-end generation.\n"
          ]
        },
        {
          "output_type": "stream",
          "name": "stdout",
          "text": [
            "WYMUSZONY DOT\n",
            "[('Doskonały dostęp do dachu', -8494)]\n",
            "sent in prog: [('Doskonały dostęp do dachu', -8494)]\n",
            "\n",
            "READY: [('Doskonały dostęp do dachu.', -94900)]\n"
          ]
        },
        {
          "output_type": "stream",
          "name": "stderr",
          "text": [
            "Setting `pad_token_id` to `eos_token_id`:None for open-end generation.\n"
          ]
        },
        {
          "output_type": "stream",
          "name": "stdout",
          "text": [
            "WYMUSZONY DOT\n",
            "[('Doskonały dostęp do dachu', -8494), ('Doskonały dostęp do Darmowych', -8844)]\n",
            "sent in prog: [('Doskonały dostęp do dachu', -8494), ('Doskonały dostęp do Darmowych', -8844)]\n"
          ]
        },
        {
          "output_type": "stream",
          "name": "stderr",
          "text": [
            "Setting `pad_token_id` to `eos_token_id`:None for open-end generation.\n"
          ]
        },
        {
          "output_type": "stream",
          "name": "stdout",
          "text": [
            "\n",
            "READY: [('Doskonały dostęp do dachu.', -94900), ('Doskonały dostęp do Darmowych.', -111170)]\n",
            "[('Doskonały dostęp do Darmowych', -8844)]\n",
            "sent in prog: [('Doskonały dostęp do Darmowych', -8844)]\n",
            "\n",
            "READY: [('Doskonały dostęp do dachu.', -94900), ('Doskonały dostęp do Darmowych.', -111170)]\n"
          ]
        },
        {
          "output_type": "stream",
          "name": "stderr",
          "text": [
            "Setting `pad_token_id` to `eos_token_id`:None for open-end generation.\n"
          ]
        },
        {
          "output_type": "stream",
          "name": "stdout",
          "text": [
            "WYMUSZONY DOT\n",
            "[('Doskonały dostęp do Darmowych', -8844), ('Doskonały dostęp do dachu Dachy', -10829)]\n",
            "sent in prog: [('Doskonały dostęp do Darmowych', -8844), ('Doskonały dostęp do dachu Dachy', -10829)]\n",
            "\n",
            "READY: [('Doskonały dostęp do dachu.', -94900), ('Doskonały dostęp do Darmowych.', -111170), ('Doskonały dostęp do dachu Dachy.', -120190)]\n",
            "WYMUSZONY DOT\n"
          ]
        },
        {
          "output_type": "stream",
          "name": "stderr",
          "text": [
            "Setting `pad_token_id` to `eos_token_id`:None for open-end generation.\n"
          ]
        },
        {
          "output_type": "stream",
          "name": "stdout",
          "text": [
            "[('Doskonały dostęp do Darmowych dzwonków', -10609), ('Doskonały dostęp do dachu Dachy', -10829), ('Doskonały dostęp do Darmowych dzwonków do', -11006)]\n",
            "sent in prog: [('Doskonały dostęp do Darmowych dzwonków', -10609), ('Doskonały dostęp do dachu Dachy', -10829), ('Doskonały dostęp do Darmowych dzwonków do', -11006)]\n"
          ]
        },
        {
          "output_type": "stream",
          "name": "stderr",
          "text": [
            "Setting `pad_token_id` to `eos_token_id`:None for open-end generation.\n"
          ]
        },
        {
          "output_type": "stream",
          "name": "stdout",
          "text": [
            "\n",
            "READY: [('Doskonały dostęp do dachu.', -94900), ('Doskonały dostęp do Darmowych.', -111170), ('Doskonały dostęp do dachu Dachy.', -120190), ('Doskonały dostęp do Darmowych dzwonków.', -118050)]\n",
            "[('Doskonały dostęp do Darmowych dzwonków', -10609), ('Doskonały dostęp do dachu Dachy', -10829), ('Doskonały dostęp do Darmowych dzwonków do', -11006)]\n",
            "sent in prog: [('Doskonały dostęp do Darmowych dzwonków', -10609), ('Doskonały dostęp do dachu Dachy', -10829), ('Doskonały dostęp do Darmowych dzwonków do', -11006)]\n"
          ]
        },
        {
          "output_type": "stream",
          "name": "stderr",
          "text": [
            "Setting `pad_token_id` to `eos_token_id`:None for open-end generation.\n"
          ]
        },
        {
          "output_type": "stream",
          "name": "stdout",
          "text": [
            "\n",
            "READY: [('Doskonały dostęp do dachu.', -94900), ('Doskonały dostęp do Darmowych.', -111170), ('Doskonały dostęp do dachu Dachy.', -120190), ('Doskonały dostęp do Darmowych dzwonków.', -118050)]\n",
            "[('Doskonały dostęp do dachu Dachy', -10829), ('Doskonały dostęp do Darmowych dzwonków do', -11006)]\n",
            "sent in prog: [('Doskonały dostęp do dachu Dachy', -10829), ('Doskonały dostęp do Darmowych dzwonków do', -11006)]\n",
            "\n",
            "READY: [('Doskonały dostęp do dachu.', -94900), ('Doskonały dostęp do Darmowych.', -111170), ('Doskonały dostęp do dachu Dachy.', -120190), ('Doskonały dostęp do Darmowych dzwonków.', -118050)]\n",
            "WYMUSZONY DOT\n"
          ]
        },
        {
          "output_type": "stream",
          "name": "stderr",
          "text": [
            "Setting `pad_token_id` to `eos_token_id`:None for open-end generation.\n"
          ]
        },
        {
          "output_type": "stream",
          "name": "stdout",
          "text": [
            "[('Doskonały dostęp do dachu Dachy', -10829), ('Doskonały dostęp do Darmowych dzwonków do', -11006), ('Doskonały dostęp do Darmowych dzwonków Dzwonki', -11990), ('Doskonały dostęp do Darmowych dzwonków Dzwonki do', -12277)]\n",
            "sent in prog: [('Doskonały dostęp do dachu Dachy', -10829), ('Doskonały dostęp do Darmowych dzwonków do', -11006), ('Doskonały dostęp do Darmowych dzwonków Dzwonki', -11990), ('Doskonały dostęp do Darmowych dzwonków Dzwonki do', -12277)]\n"
          ]
        },
        {
          "output_type": "stream",
          "name": "stderr",
          "text": [
            "Setting `pad_token_id` to `eos_token_id`:None for open-end generation.\n"
          ]
        },
        {
          "output_type": "stream",
          "name": "stdout",
          "text": [
            "\n",
            "READY: [('Doskonały dostęp do dachu.', -94900), ('Doskonały dostęp do Darmowych.', -111170), ('Doskonały dostęp do dachu Dachy.', -120190), ('Doskonały dostęp do Darmowych dzwonków.', -118050), ('Doskonały dostęp do Darmowych dzwonków Dzwonki.', -128160)]\n",
            "[('Doskonały dostęp do dachu Dachy', -10829), ('Doskonały dostęp do Darmowych dzwonków Dzwonki', -11990), ('Doskonały dostęp do Darmowych dzwonków Dzwonki do', -12277)]\n",
            "sent in prog: [('Doskonały dostęp do dachu Dachy', -10829), ('Doskonały dostęp do Darmowych dzwonków Dzwonki', -11990), ('Doskonały dostęp do Darmowych dzwonków Dzwonki do', -12277)]\n"
          ]
        },
        {
          "output_type": "stream",
          "name": "stderr",
          "text": [
            "Setting `pad_token_id` to `eos_token_id`:None for open-end generation.\n"
          ]
        },
        {
          "output_type": "stream",
          "name": "stdout",
          "text": [
            "\n",
            "READY: [('Doskonały dostęp do dachu.', -94900), ('Doskonały dostęp do Darmowych.', -111170), ('Doskonały dostęp do dachu Dachy.', -120190), ('Doskonały dostęp do Darmowych dzwonków.', -118050), ('Doskonały dostęp do Darmowych dzwonków Dzwonki.', -128160)]\n",
            "[('Doskonały dostęp do dachu Dachy', -10829), ('Doskonały dostęp do Darmowych dzwonków Dzwonki', -11990), ('Doskonały dostęp do Darmowych dzwonków Dzwonki do', -12277)]\n",
            "sent in prog: [('Doskonały dostęp do dachu Dachy', -10829), ('Doskonały dostęp do Darmowych dzwonków Dzwonki', -11990), ('Doskonały dostęp do Darmowych dzwonków Dzwonki do', -12277)]\n",
            "\n",
            "READY: [('Doskonały dostęp do dachu.', -94900), ('Doskonały dostęp do Darmowych.', -111170), ('Doskonały dostęp do dachu Dachy.', -120190), ('Doskonały dostęp do Darmowych dzwonków.', -118050), ('Doskonały dostęp do Darmowych dzwonków Dzwonki.', -128160)]\n"
          ]
        },
        {
          "output_type": "stream",
          "name": "stderr",
          "text": [
            "Setting `pad_token_id` to `eos_token_id`:None for open-end generation.\n"
          ]
        },
        {
          "output_type": "stream",
          "name": "stdout",
          "text": [
            "[('Doskonały dostęp do Darmowych dzwonków Dzwonki', -11990), ('Doskonały dostęp do Darmowych dzwonków Dzwonki do', -12277), ('Doskonały dostęp do dachu Dachy dachówka', -12436)]\n",
            "sent in prog: [('Doskonały dostęp do Darmowych dzwonków Dzwonki', -11990), ('Doskonały dostęp do Darmowych dzwonków Dzwonki do', -12277), ('Doskonały dostęp do dachu Dachy dachówka', -12436)]\n"
          ]
        },
        {
          "output_type": "stream",
          "name": "stderr",
          "text": [
            "Setting `pad_token_id` to `eos_token_id`:None for open-end generation.\n"
          ]
        },
        {
          "output_type": "stream",
          "name": "stdout",
          "text": [
            "\n",
            "READY: [('Doskonały dostęp do dachu.', -94900), ('Doskonały dostęp do Darmowych.', -111170), ('Doskonały dostęp do dachu Dachy.', -120190), ('Doskonały dostęp do Darmowych dzwonków.', -118050), ('Doskonały dostęp do Darmowych dzwonków Dzwonki.', -128160)]\n",
            "[('Doskonały dostęp do Darmowych dzwonków Dzwonki', -11990), ('Doskonały dostęp do Darmowych dzwonków Dzwonki do', -12277), ('Doskonały dostęp do dachu Dachy dachówka', -12436)]\n",
            "sent in prog: [('Doskonały dostęp do Darmowych dzwonków Dzwonki', -11990), ('Doskonały dostęp do Darmowych dzwonków Dzwonki do', -12277), ('Doskonały dostęp do dachu Dachy dachówka', -12436)]\n",
            "\n",
            "READY: [('Doskonały dostęp do dachu.', -94900), ('Doskonały dostęp do Darmowych.', -111170), ('Doskonały dostęp do dachu Dachy.', -120190), ('Doskonały dostęp do Darmowych dzwonków.', -118050), ('Doskonały dostęp do Darmowych dzwonków Dzwonki.', -128160)]\n"
          ]
        },
        {
          "output_type": "stream",
          "name": "stderr",
          "text": [
            "Setting `pad_token_id` to `eos_token_id`:None for open-end generation.\n"
          ]
        },
        {
          "output_type": "stream",
          "name": "stdout",
          "text": [
            "[('Doskonały dostęp do Darmowych dzwonków Dzwonki', -11990), ('Doskonały dostęp do dachu Dachy dachówka', -12436), ('Doskonały dostęp do Darmowych dzwonków Dzwonki do dzwonienia', -12853)]\n",
            "sent in prog: [('Doskonały dostęp do Darmowych dzwonków Dzwonki', -11990), ('Doskonały dostęp do dachu Dachy dachówka', -12436), ('Doskonały dostęp do Darmowych dzwonków Dzwonki do dzwonienia', -12853)]\n",
            "\n",
            "READY: [('Doskonały dostęp do dachu.', -94900), ('Doskonały dostęp do Darmowych.', -111170), ('Doskonały dostęp do dachu Dachy.', -120190), ('Doskonały dostęp do Darmowych dzwonków.', -118050), ('Doskonały dostęp do Darmowych dzwonków Dzwonki.', -128160)]\n"
          ]
        },
        {
          "output_type": "stream",
          "name": "stderr",
          "text": [
            "Setting `pad_token_id` to `eos_token_id`:None for open-end generation.\n"
          ]
        },
        {
          "output_type": "stream",
          "name": "stdout",
          "text": [
            "[('Doskonały dostęp do Darmowych dzwonków Dzwonki', -11990), ('Doskonały dostęp do dachu Dachy dachówka', -12436), ('Doskonały dostęp do Darmowych dzwonków Dzwonki do dzwonienia', -12853), ('Doskonały dostęp do Darmowych dzwonków Dzwonki do Darmowego', -13396)]\n",
            "sent in prog: [('Doskonały dostęp do Darmowych dzwonków Dzwonki', -11990), ('Doskonały dostęp do dachu Dachy dachówka', -12436), ('Doskonały dostęp do Darmowych dzwonków Dzwonki do dzwonienia', -12853), ('Doskonały dostęp do Darmowych dzwonków Dzwonki do Darmowego', -13396)]\n"
          ]
        },
        {
          "output_type": "stream",
          "name": "stderr",
          "text": [
            "Setting `pad_token_id` to `eos_token_id`:None for open-end generation.\n"
          ]
        },
        {
          "output_type": "stream",
          "name": "stdout",
          "text": [
            "\n",
            "READY: [('Doskonały dostęp do dachu.', -94900), ('Doskonały dostęp do Darmowych.', -111170), ('Doskonały dostęp do dachu Dachy.', -120190), ('Doskonały dostęp do Darmowych dzwonków.', -118050), ('Doskonały dostęp do Darmowych dzwonków Dzwonki.', -128160)]\n",
            "[('Doskonały dostęp do Darmowych dzwonków Dzwonki', -11990), ('Doskonały dostęp do Darmowych dzwonków Dzwonki do dzwonienia', -12853), ('Doskonały dostęp do Darmowych dzwonków Dzwonki do Darmowego', -13396)]\n",
            "sent in prog: [('Doskonały dostęp do Darmowych dzwonków Dzwonki', -11990), ('Doskonały dostęp do Darmowych dzwonków Dzwonki do dzwonienia', -12853), ('Doskonały dostęp do Darmowych dzwonków Dzwonki do Darmowego', -13396)]\n"
          ]
        },
        {
          "output_type": "stream",
          "name": "stderr",
          "text": [
            "Setting `pad_token_id` to `eos_token_id`:None for open-end generation.\n"
          ]
        },
        {
          "output_type": "stream",
          "name": "stdout",
          "text": [
            "\n",
            "READY: [('Doskonały dostęp do dachu.', -94900), ('Doskonały dostęp do Darmowych.', -111170), ('Doskonały dostęp do dachu Dachy.', -120190), ('Doskonały dostęp do Darmowych dzwonków.', -118050), ('Doskonały dostęp do Darmowych dzwonków Dzwonki.', -128160)]\n",
            "[('Doskonały dostęp do Darmowych dzwonków Dzwonki', -11990), ('Doskonały dostęp do Darmowych dzwonków Dzwonki do dzwonienia', -12853), ('Doskonały dostęp do Darmowych dzwonków Dzwonki do Darmowego', -13396)]\n",
            "sent in prog: [('Doskonały dostęp do Darmowych dzwonków Dzwonki', -11990), ('Doskonały dostęp do Darmowych dzwonków Dzwonki do dzwonienia', -12853), ('Doskonały dostęp do Darmowych dzwonków Dzwonki do Darmowego', -13396)]\n"
          ]
        },
        {
          "output_type": "stream",
          "name": "stderr",
          "text": [
            "Setting `pad_token_id` to `eos_token_id`:None for open-end generation.\n"
          ]
        },
        {
          "output_type": "stream",
          "name": "stdout",
          "text": [
            "\n",
            "READY: [('Doskonały dostęp do dachu.', -94900), ('Doskonały dostęp do Darmowych.', -111170), ('Doskonały dostęp do dachu Dachy.', -120190), ('Doskonały dostęp do Darmowych dzwonków.', -118050), ('Doskonały dostęp do Darmowych dzwonków Dzwonki.', -128160)]\n",
            "[('Doskonały dostęp do Darmowych dzwonków Dzwonki do dzwonienia', -12853), ('Doskonały dostęp do Darmowych dzwonków Dzwonki do Darmowego', -13396)]\n",
            "sent in prog: [('Doskonały dostęp do Darmowych dzwonków Dzwonki do dzwonienia', -12853), ('Doskonały dostęp do Darmowych dzwonków Dzwonki do Darmowego', -13396)]\n",
            "\n",
            "READY: [('Doskonały dostęp do dachu.', -94900), ('Doskonały dostęp do Darmowych.', -111170), ('Doskonały dostęp do dachu Dachy.', -120190), ('Doskonały dostęp do Darmowych dzwonków.', -118050), ('Doskonały dostęp do Darmowych dzwonków Dzwonki.', -128160)]\n"
          ]
        },
        {
          "output_type": "stream",
          "name": "stderr",
          "text": [
            "Setting `pad_token_id` to `eos_token_id`:None for open-end generation.\n"
          ]
        },
        {
          "output_type": "stream",
          "name": "stdout",
          "text": [
            "[('Doskonały dostęp do Darmowych dzwonków Dzwonki do dzwonienia', -12853), ('Doskonały dostęp do Darmowych dzwonków Dzwonki Dla', -13020), ('Doskonały dostęp do Darmowych dzwonków Dzwonki Dla Dzieci', -13217), ('Doskonały dostęp do Darmowych dzwonków Dzwonki do Darmowego', -13396)]\n",
            "sent in prog: [('Doskonały dostęp do Darmowych dzwonków Dzwonki do dzwonienia', -12853), ('Doskonały dostęp do Darmowych dzwonków Dzwonki Dla', -13020), ('Doskonały dostęp do Darmowych dzwonków Dzwonki Dla Dzieci', -13217), ('Doskonały dostęp do Darmowych dzwonków Dzwonki do Darmowego', -13396)]\n",
            "\n",
            "READY: [('Doskonały dostęp do dachu.', -94900), ('Doskonały dostęp do Darmowych.', -111170), ('Doskonały dostęp do dachu Dachy.', -120190), ('Doskonały dostęp do Darmowych dzwonków.', -118050), ('Doskonały dostęp do Darmowych dzwonków Dzwonki.', -128160)]\n"
          ]
        },
        {
          "output_type": "stream",
          "name": "stderr",
          "text": [
            "Setting `pad_token_id` to `eos_token_id`:None for open-end generation.\n"
          ]
        },
        {
          "output_type": "stream",
          "name": "stdout",
          "text": [
            "[('Doskonały dostęp do Darmowych dzwonków Dzwonki do dzwonienia', -12853), ('Doskonały dostęp do Darmowych dzwonków Dzwonki Dla', -13020), ('Doskonały dostęp do Darmowych dzwonków Dzwonki Dla Dzieci', -13217)]\n",
            "sent in prog: [('Doskonały dostęp do Darmowych dzwonków Dzwonki do dzwonienia', -12853), ('Doskonały dostęp do Darmowych dzwonków Dzwonki Dla', -13020), ('Doskonały dostęp do Darmowych dzwonków Dzwonki Dla Dzieci', -13217)]\n"
          ]
        },
        {
          "output_type": "stream",
          "name": "stderr",
          "text": [
            "Setting `pad_token_id` to `eos_token_id`:None for open-end generation.\n"
          ]
        },
        {
          "output_type": "stream",
          "name": "stdout",
          "text": [
            "\n",
            "READY: [('Doskonały dostęp do dachu.', -94900), ('Doskonały dostęp do Darmowych.', -111170), ('Doskonały dostęp do dachu Dachy.', -120190), ('Doskonały dostęp do Darmowych dzwonków.', -118050), ('Doskonały dostęp do Darmowych dzwonków Dzwonki.', -128160)]\n",
            "[('Doskonały dostęp do Darmowych dzwonków Dzwonki do dzwonienia', -12853), ('Doskonały dostęp do Darmowych dzwonków Dzwonki Dla', -13020), ('Doskonały dostęp do Darmowych dzwonków Dzwonki Dla Dzieci', -13217)]\n",
            "sent in prog: [('Doskonały dostęp do Darmowych dzwonków Dzwonki do dzwonienia', -12853), ('Doskonały dostęp do Darmowych dzwonków Dzwonki Dla', -13020), ('Doskonały dostęp do Darmowych dzwonków Dzwonki Dla Dzieci', -13217)]\n"
          ]
        },
        {
          "output_type": "stream",
          "name": "stderr",
          "text": [
            "Setting `pad_token_id` to `eos_token_id`:None for open-end generation.\n"
          ]
        },
        {
          "output_type": "stream",
          "name": "stdout",
          "text": [
            "\n",
            "READY: [('Doskonały dostęp do dachu.', -94900), ('Doskonały dostęp do Darmowych.', -111170), ('Doskonały dostęp do dachu Dachy.', -120190), ('Doskonały dostęp do Darmowych dzwonków.', -118050), ('Doskonały dostęp do Darmowych dzwonków Dzwonki.', -128160)]\n",
            "[('Doskonały dostęp do Darmowych dzwonków Dzwonki Dla', -13020), ('Doskonały dostęp do Darmowych dzwonków Dzwonki Dla Dzieci', -13217)]\n",
            "sent in prog: [('Doskonały dostęp do Darmowych dzwonków Dzwonki Dla', -13020), ('Doskonały dostęp do Darmowych dzwonków Dzwonki Dla Dzieci', -13217)]\n"
          ]
        },
        {
          "output_type": "stream",
          "name": "stderr",
          "text": [
            "Setting `pad_token_id` to `eos_token_id`:None for open-end generation.\n"
          ]
        },
        {
          "output_type": "stream",
          "name": "stdout",
          "text": [
            "\n",
            "READY: [('Doskonały dostęp do dachu.', -94900), ('Doskonały dostęp do Darmowych.', -111170), ('Doskonały dostęp do dachu Dachy.', -120190), ('Doskonały dostęp do Darmowych dzwonków.', -118050), ('Doskonały dostęp do Darmowych dzwonków Dzwonki.', -128160)]\n",
            "[('Doskonały dostęp do Darmowych dzwonków Dzwonki Dla', -13020), ('Doskonały dostęp do Darmowych dzwonków Dzwonki Dla Dzieci', -13217)]\n",
            "sent in prog: [('Doskonały dostęp do Darmowych dzwonków Dzwonki Dla', -13020), ('Doskonały dostęp do Darmowych dzwonków Dzwonki Dla Dzieci', -13217)]\n"
          ]
        },
        {
          "output_type": "stream",
          "name": "stderr",
          "text": [
            "Setting `pad_token_id` to `eos_token_id`:None for open-end generation.\n"
          ]
        },
        {
          "output_type": "stream",
          "name": "stdout",
          "text": [
            "\n",
            "READY: [('Doskonały dostęp do dachu.', -94900), ('Doskonały dostęp do Darmowych.', -111170), ('Doskonały dostęp do dachu Dachy.', -120190), ('Doskonały dostęp do Darmowych dzwonków.', -118050), ('Doskonały dostęp do Darmowych dzwonków Dzwonki.', -128160)]\n",
            "[('Doskonały dostęp do Darmowych dzwonków Dzwonki Dla', -13020)]\n",
            "sent in prog: [('Doskonały dostęp do Darmowych dzwonków Dzwonki Dla', -13020)]\n"
          ]
        },
        {
          "output_type": "stream",
          "name": "stderr",
          "text": [
            "Setting `pad_token_id` to `eos_token_id`:None for open-end generation.\n"
          ]
        },
        {
          "output_type": "stream",
          "name": "stdout",
          "text": [
            "\n",
            "READY: [('Doskonały dostęp do dachu.', -94900), ('Doskonały dostęp do Darmowych.', -111170), ('Doskonały dostęp do dachu Dachy.', -120190), ('Doskonały dostęp do Darmowych dzwonków.', -118050), ('Doskonały dostęp do Darmowych dzwonków Dzwonki.', -128160)]\n",
            "[('Doskonały dostęp do Darmowych dzwonków Dzwonki Dla', -13020)]\n",
            "sent in prog: [('Doskonały dostęp do Darmowych dzwonków Dzwonki Dla', -13020)]\n"
          ]
        },
        {
          "output_type": "stream",
          "name": "stderr",
          "text": [
            "Setting `pad_token_id` to `eos_token_id`:None for open-end generation.\n"
          ]
        },
        {
          "output_type": "stream",
          "name": "stdout",
          "text": [
            "\n",
            "READY: [('Doskonały dostęp do dachu.', -94900), ('Doskonały dostęp do Darmowych.', -111170), ('Doskonały dostęp do dachu Dachy.', -120190), ('Doskonały dostęp do Darmowych dzwonków.', -118050), ('Doskonały dostęp do Darmowych dzwonków Dzwonki.', -128160)]\n",
            "[]\n",
            "sent in prog: []\n",
            "\n",
            "READY: [('Doskonały dostęp do dachu.', -94900), ('Doskonały dostęp do Darmowych.', -111170), ('Doskonały dostęp do dachu Dachy.', -120190), ('Doskonały dostęp do Darmowych dzwonków.', -118050), ('Doskonały dostęp do Darmowych dzwonków Dzwonki.', -128160)]\n",
            "[]\n",
            "sent in prog: []\n"
          ]
        }
      ]
    },
    {
      "cell_type": "code",
      "source": [
        "out4"
      ],
      "metadata": {
        "colab": {
          "base_uri": "https://localhost:8080/"
        },
        "id": "ksB22RrZJj5l",
        "outputId": "9352b222-106f-4a6a-856c-93bd50647a83"
      },
      "execution_count": 79,
      "outputs": [
        {
          "output_type": "execute_result",
          "data": {
            "text/plain": [
              "[('Doskonały dostęp do dachu.', -94900),\n",
              " ('Doskonały dostęp do Darmowych.', -111170),\n",
              " ('Doskonały dostęp do Darmowych dzwonków.', -118050),\n",
              " ('Doskonały dostęp do dachu Dachy.', -120190),\n",
              " ('Doskonały dostęp do Darmowych dzwonków Dzwonki.', -128160)]"
            ]
          },
          "metadata": {},
          "execution_count": 79
        }
      ]
    }
  ]
}